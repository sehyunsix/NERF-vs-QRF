{
 "cells": [
  {
   "cell_type": "code",
   "execution_count": 1,
   "metadata": {},
   "outputs": [],
   "source": [
    "import numpy as np\n",
    "import sympy as sp\n",
    "\n",
    "sp.init_printing()\n",
    "t1, t2 = sp.symbols('t1 t2')\n",
    "def RX(params):\n",
    "  params =sp.symbols(params,real=True,)\n",
    "  _RX = np.array([[sp.cos(params/2),-sp.I*sp.sin(params/2)],[-sp.I*sp.sin(params/2),sp.cos(params/2)]])\n",
    "  return _RX\n",
    "\n",
    "def RY(params):\n",
    "  params =sp.symbols(params ,real=True,)\n",
    "  _RY = np.array([[sp.cos(params/2),-1*sp.sin(params/2)],[sp.sin(params/2),sp.cos(params/2)]])\n",
    "  return _RY\n",
    "\n",
    "\n",
    "def Z_3(s='IZI'):\n",
    "  m_dict = {\n",
    "    'Z' : np.array([[1,0],[0,-1]]),\n",
    "    'I' : np.eye(2)\n",
    "  }\n",
    "  result = np.kron(np.kron(m_dict[s[0]], m_dict[s[1]]), m_dict[s[2]])\n",
    "  return result\n",
    "\n",
    "def pqc(layer):\n",
    "  C_NOT =np.array([[1,0,0,0],[0,1,0,0],[0,0,0,1],[0,0,1,0]])\n",
    "\n",
    "  I_CNOT= np.kron(np.eye(2),C_NOT)\n",
    "  CNOT_I= np.kron(C_NOT,np.eye(2))\n",
    "  angle_embeding = np.kron(np.kron(RX('x1'),RX('x2')),np.eye(2))\n",
    "  cnot_layer = I_CNOT @CNOT_I\n",
    "  for i in range(layer):\n",
    "    tmp=np.eye(8)\n",
    "    pqc_layer =np.kron(np.kron(RY(f't{i+1}'),RY(f't{i+2}')),RY(f't{i+3}'))\n",
    "    tmp = tmp@pqc_layer@cnot_layer\n",
    "  tmp =tmp@cnot_layer@angle_embeding\n",
    "  return tmp"
   ]
  },
  {
   "cell_type": "code",
   "execution_count": 2,
   "metadata": {},
   "outputs": [],
   "source": [
    "ans =sp.trigsimp(pqc(3))"
   ]
  },
  {
   "cell_type": "code",
   "execution_count": 3,
   "metadata": {},
   "outputs": [],
   "source": [
    "x = np.array([1,0,0,0,0,0,0,0])\n",
    "x= x.reshape(8,1)\n",
    "res= ans@x"
   ]
  },
  {
   "cell_type": "code",
   "execution_count": null,
   "metadata": {},
   "outputs": [
    {
     "data": {
      "image/png": "[encoded data removed]",
      "text/latex": [
       "$\\displaystyle \\left[\\left[\\begin{matrix}1.0 \\cos{\\left(t_{3} \\right)} \\cos{\\left(x_{2} \\right)}\\end{matrix}\\right]\\right]$"
      ],
      "text/plain": [
       "[[1.0⋅cos(t₃)⋅cos(x₂)]]"
      ]
     },
     "execution_count": 22,
     "metadata": {},
     "output_type": "execute_result"
    }
   ],
   "source": [
    "x1= res.T@Z_3(\"ZII\")@res\n",
    "sp.simplify(x1)"
   ]
  },
  {
   "cell_type": "code",
   "execution_count": null,
   "metadata": {},
   "outputs": [],
   "source": [
    "dev = qml.device(\"default.qubit\", wires=3)\n",
    "class QModel(nn.Module):\n",
    "\n",
    "    def __init__(self, 3):\n",
    "        super(QModel, self).__init__()\n",
    "        # Initialize trainable parameters (theta) for the quantum circuit\n",
    "        self.n_wires = 3\n",
    "        self.n_layers = 3\n",
    "        self.n_qubit = self.n_wires\n",
    "        self.theta = nn.Parameter(\n",
    "            torch.rand(self.n_layers * self.n_wires * 2, dtype=torch.float32),\n",
    "            requires_grad=True,\n",
    "        )  # 9 trainable parameters\n",
    "\n",
    "    @qml.qnode(dev, interface=\"torch\")  # , diff_method=\"parameter-shift\")\n",
    "    def quantum_circuit_n_qubit(self, x, theta):\n",
    "        # Encoding circuit: rotate qubits based on input data (x, y)\n",
    "        qml.AngleEmbedding(x, wires=[0, 1], rotation=\"X\")\n",
    "        # Parameterized quantum circuit with entanglement\n",
    "        for layer_count in range(self.n_layers):\n",
    "            for i in range(self.n_wires - 1):\n",
    "                qml.CNOT(wires=[i, i + 1])\n",
    "\n",
    "            for i in range(self.n_wires):\n",
    "                qml.RX(theta[layer_count * self.n_wires + i * 2 + 1], wires=i)\n",
    "\n",
    "            for i in range(self.n_wires - 1):\n",
    "                qml.CNOT(wires=[i, i + 1])\n",
    "\n",
    "            for i in range(self.n_wires):\n",
    "                qml.RY(theta[layer_count * self.n_wires + i * 2], wires=i)\n",
    "\n",
    "\n",
    "        return [qml.expval(qml.PauliZ(i)) for i in range(3)]\n",
    "\n",
    "    def forward(self, x):\n",
    "        return F.relu(\n",
    "            torch.stack((self.quantum_circuit_n_qubit(self, x=x, theta=self.theta))).T\n",
    "        )"
   ]
  },
  {
   "cell_type": "code",
   "execution_count": null,
   "metadata": {},
   "outputs": [],
   "source": [
    "x2= res.T@Z_3(\"IZI\")@res\n",
    "sp.trigsimp(x2)"
   ]
  },
  {
   "cell_type": "code",
   "execution_count": 25,
   "metadata": {},
   "outputs": [
    {
     "data": {
      "image/png": "[encoded data removed]",
      "text/latex": [
       "$\\displaystyle \\left[\\left[\\begin{matrix}1.0 \\cos{\\left(t_{5} \\right)} \\cos{\\left(x_{2} \\right)}\\end{matrix}\\right]\\right]$"
      ],
      "text/plain": [
       "[[1.0⋅cos(t₅)⋅cos(x₂)]]"
      ]
     },
     "execution_count": 25,
     "metadata": {},
     "output_type": "execute_result"
    }
   ],
   "source": [
    "x3= res.T@Z_3(\"IIZ\")@res\n",
    "sp.trigsimp(x3)"
   ]
  }
 ],
 "metadata": {
  "kernelspec": {
   "display_name": "qrf",
   "language": "python",
   "name": "python3"
  },
  "language_info": {
   "codemirror_mode": {
    "name": "ipython",
    "version": 3
   },
   "file_extension": ".py",
   "mimetype": "text/x-python",
   "name": "python",
   "nbconvert_exporter": "python",
   "pygments_lexer": "ipython3",
   "version": "3.12.0"
  }
 },
 "nbformat": 4,
 "nbformat_minor": 2
}
