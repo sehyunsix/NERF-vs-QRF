{
 "cells": [
  {
   "cell_type": "code",
   "execution_count": 145,
   "metadata": {},
   "outputs": [],
   "source": [
    "# Quantum\n",
    "import pennylane as qml\n",
    "\n",
    "# Numericlal\n",
    "import math\n",
    "import numpy as np\n",
    "import sympy as sp\n",
    "\n",
    "# Torch\n",
    "import torch\n",
    "import torch.nn as nn\n",
    "from torch import optim\n",
    "from torch.nn import MSELoss\n",
    "from torch.utils.data import TensorDataset, DataLoader, random_split\n",
    "\n",
    "# Trainer\n",
    "from trainer import trainer\n",
    "\n",
    "# Plot\n",
    "import matplotlib.pyplot as plt\n",
    "\n",
    "import torch\n",
    "from torchviz import make_dot\n",
    "\n",
    "%matplotlib inline\n",
    "\n"
   ]
  },
  {
   "cell_type": "markdown",
   "metadata": {},
   "source": [
    "---"
   ]
  },
  {
   "cell_type": "markdown",
   "metadata": {},
   "source": [
    "### Lemma 1"
   ]
  },
  {
   "cell_type": "code",
   "execution_count": 146,
   "metadata": {},
   "outputs": [],
   "source": [
    "class Lemma1:\n",
    "    '''\n",
    "        QAF 논문 Lemma 1을 구현하기 위한 class\n",
    "    '''\n",
    "    def __init__(self, w, x, b):\n",
    "        '''\n",
    "            w(list) : list for weight\n",
    "            x(list) : list for x(input)\n",
    "            b(float) : float value of bias\n",
    "        '''\n",
    "        # list Initiallize\n",
    "        self.w_list = w\n",
    "        self.x_list = x\n",
    "        self.b = b\n",
    "\n",
    "        # vector Initiallize\n",
    "        self.x = np.array(self.x_list)\n",
    "        self.w = np.array(self.w_list)\n",
    "\n",
    "        # lengths Calculate\n",
    "        self.N_in = len(x)\n",
    "        self.N = int(2 ** (np.ceil(np.log2(self.N_in + 3))))\n",
    "        self.n = int(np.log2(self.N))\n",
    "\n",
    "        # A_x, A_wb Calculate\n",
    "        self.A_x  = np.sqrt(self.N_in - (self.x @ self.x))\n",
    "        self.A_wb = np.sqrt(self.N_in + 1 - (self.w @ self.w + self.b * self.b))\n",
    "\n",
    "        # v_x, v_wb\n",
    "        self.v_x  = [self.A_x]  + self.x_list + [1.0]       + ([0.0] * (self.N - self.N_in - 2))\n",
    "        self.v_wb = [0.0]       + self.w_list + [self.b]    + ([0.0] * (self.N - self.N_in - 3)) + [self.A_wb]\n",
    "\n",
    "        # device initiallize\n",
    "        # n : num_qubit\n",
    "        self.dev = qml.device(\"default.qubit\", wires=self.n)\n",
    "\n",
    "    def norm(self, vec):\n",
    "        return np.linalg.norm(vec)\n",
    "\n",
    "    def u(self, vec):\n",
    "        qml.AmplitudeEmbedding(vec, wires=range(self.n), normalize=True)\n",
    "\n",
    "    def lemma1(self, chk=False):\n",
    "        @qml.qnode(device=self.dev)\n",
    "        def inner_lemma1():\n",
    "            # U_x, i.e. small_u(v_x)\n",
    "            self.u(self.v_x)\n",
    "\n",
    "            # U_wb, i.e. small_u(v_wb)^†, Pauli-X for each qubit\n",
    "            qml.adjoint(self.u)(self.v_wb)\n",
    "            for i in range(self.n):\n",
    "                qml.PauliX(wires=i)\n",
    "\n",
    "            return qml.state()\n",
    "        if chk:\n",
    "            print(qml.draw_mpl(inner_lemma1)())\n",
    "        return inner_lemma1()[-1]"
   ]
  },
  {
   "cell_type": "markdown",
   "metadata": {},
   "source": [
    "---"
   ]
  },
  {
   "cell_type": "markdown",
   "metadata": {},
   "source": [
    "### Theorem 1, Corollary 1"
   ]
  },
  {
   "cell_type": "code",
   "execution_count": 147,
   "metadata": {},
   "outputs": [],
   "source": [
    "class Theorem1:\n",
    "    '''\n",
    "        QAF 논문 Theorem 1을 구현하기 위한 class\n",
    "    '''\n",
    "    def __init__(self, w, x, b, d, l = 0):\n",
    "        '''\n",
    "            w(list)     : list for weight\n",
    "            x(list)     : list for x(input)\n",
    "            b(float)    : float value of bias\n",
    "            d(int)      : degree for Taylor (polynomial) Expansion\n",
    "        '''\n",
    "        # list Initiallize\n",
    "        self.w_list = w\n",
    "        self.x_list = x\n",
    "        self.b = b\n",
    "        self.d = d\n",
    "        self.l = l\n",
    "\n",
    "        # vector Initiallize\n",
    "        self.x = np.array(self.x_list)\n",
    "        self.w = np.array(self.w_list)\n",
    "\n",
    "        # lengths Calculate\n",
    "        self.N_in = len(x)\n",
    "        self.N = int(2 ** (np.ceil(np.log2(self.N_in + 3))))\n",
    "        self.n = int(np.log2(self.N))\n",
    "\n",
    "        # A_x, A_wb Calculate\n",
    "        self.A_x  = np.sqrt(self.N_in - (self.x @ self.x))\n",
    "        self.A_wb = np.sqrt(self.N_in + 1 - (self.w @ self.w + self.b * self.b))\n",
    "\n",
    "        # v_x, v_wb\n",
    "        self.v_x  = [self.A_x]  + self.x_list + [1.0]       + ([0.0] * (self.N - self.N_in - 2))\n",
    "        self.v_wb = [0.0]       + self.w_list + [self.b]    + ([0.0] * (self.N - self.N_in - 3)) + [self.A_wb]\n",
    "\n",
    "        # device initiallize\n",
    "        # n : num_qubit\n",
    "        self.dev = qml.device(\"default.qubit\", wires=(self.n + self.d + self.l))\n",
    "\n",
    "    def U_z(self):\n",
    "        qml.AmplitudeEmbedding(self.v_x, wires=range(self.n), normalize=True)\n",
    "        qml.adjoint(qml.AmplitudeEmbedding)(self.v_wb, wires=range(self.n), normalize=True)\n",
    "        for i in range(self.n):\n",
    "            qml.PauliX(wires=i)\n",
    "\n",
    "    def V(self, m):\n",
    "        a_m = self.n + m\n",
    "\n",
    "        # Controlled-Hadamard for (control, target) : (q register, a_m)\n",
    "        qml.ctrl(qml.Hadamard, control=range(self.n))(wires=a_m)\n",
    "\n",
    "        # CNOT for (control, target) : (a_m, q register)\n",
    "        for i in range(self.n):\n",
    "            qml.CNOT(wires=[a_m, i])\n",
    "\n",
    "        # Controlled-U(x, w, b) for : (a_m, q register)\n",
    "        qml.ctrl(self.U_z, control=a_m)()\n",
    "\n",
    "    def outer_theorem1(self):\n",
    "        '''\n",
    "            Pauli-X 후 S_V(V_0, V_1, ... , V_{d-1})\n",
    "        '''\n",
    "        # Pauli-X for each qubit of q register\n",
    "        for i in range(self.n):\n",
    "            qml.PauliX(wires=i)\n",
    "\n",
    "        # V_m for each m in (0, ... , d - 1)\n",
    "        for m in range(self.d):\n",
    "            self.V(m)\n",
    "\n",
    "    def theorem1(self, chk=False):\n",
    "        '''\n",
    "            Theorem 1의 state |psi_z^d> 를 생성해서, state vector를 return\n",
    "        '''\n",
    "        @qml.qnode(device=self.dev)\n",
    "        def inner_theorem1():\n",
    "            self.outer_theorem1()\n",
    "            return qml.state()\n",
    "\n",
    "        if chk:\n",
    "            print(qml.draw_mpl(inner_theorem1)())\n",
    "        return inner_theorem1()\n",
    "\n",
    "    def corollary1(self, k):\n",
    "        '''\n",
    "            k를 input으로 받아, |N-1>(q)|2^k - 1>(a) state에 대한 amplitude를 return\n",
    "        '''\n",
    "        result = self.theorem1()\n",
    "        bitstring = ('1' * self.n) + ('0' * (self.d - k)) + ('1' * k)\n",
    "        index = int(bitstring, 2)\n",
    "        return result[index]"
   ]
  },
  {
   "cell_type": "code",
   "execution_count": 148,
   "metadata": {},
   "outputs": [],
   "source": [
    "class test(nn.Module):\n",
    "    '''\n",
    "        qaf_layer, 즉 n-to-1 perceptron(wx+b)에서, w가 잘 업데이트 되는지 확인하기 위한 클래스\n",
    "    '''\n",
    "    def __init__(self, input_size):\n",
    "        '''\n",
    "            input_size(int) : w와 x의 size -> N_in\n",
    "        '''\n",
    "        super(test, self).__init__()\n",
    "\n",
    "        self.weights = nn.Parameter(torch.rand(input_size, requires_grad=True))\n",
    "        self.bias = nn.Parameter(torch.rand(1, requires_grad=True))\n",
    "        self.N_in=4\n",
    "        self.d=4\n",
    "        self.l=1\n",
    "        self.N = int(2 ** (np.ceil(np.log2(self.N_in + 3))))\n",
    "        self.n = int(np.log2(self.N))\n",
    "        self.activation = 'sin(z)'\n",
    "        self.dev = qml.device(\"default.qubit\", wires=(self.n + self.d + self.l))\n",
    "\n",
    "    def U_z(self):\n",
    "        print(\"U z\" ,self.weights)\n",
    "        qml.AmplitudeEmbedding(self.v_x, wires=range(self.n), normalize=True)\n",
    "        qml.adjoint(qml.AmplitudeEmbedding)(self.v_wb, wires=range(self.n), normalize=True)\n",
    "        # for i in range(self.n):\n",
    "        #     qml.PauliX(wires=i)\n",
    "\n",
    "    def V(self, m):\n",
    "        print(\"V\" ,self.weights)\n",
    "        a_m = self.n + m\n",
    "        # Controlled-Hadamard for (control, target) : (q register, a_m)\n",
    "        qml.ctrl(qml.Hadamard, control=range(self.n))(wires=a_m)\n",
    "\n",
    "        # CNOT for (control, target) : (a_m, q register)\n",
    "        for i in range(self.n):\n",
    "            qml.CNOT(wires=[a_m, i])\n",
    "\n",
    "        # Controlled-U(x, w, b) for : (a_m, q register)\n",
    "        qml.ctrl(self.U_z, control=a_m)()\n",
    "\n",
    "    def outer_theorem1(self):\n",
    "        '''\n",
    "            Pauli-X 후 S_V(V_0, V_1, ... , V_{d-1})\n",
    "        '''\n",
    "        # Pauli-X for each qubit of q register\n",
    "        for i in range(self.n):\n",
    "            qml.PauliX(wires=i)\n",
    "\n",
    "        # V_m for each m in (0, ... , d - 1)\n",
    "        for m in range(self.d):\n",
    "            self.V(m)\n",
    "        print(\"outer_theorem1\")\n",
    "\n",
    "\n",
    "    def theorem1(self, chk=True):\n",
    "        '''\n",
    "            Theorem 1의 state |psi_z^d> 를 생성해서, state vector를 return\n",
    "        '''\n",
    "        @qml.qnode(device=self.dev, interface=\"torch\")\n",
    "        def inner_theorem1():\n",
    "            self.U_z()\n",
    "            # self.outer_theorem1()\n",
    "\n",
    "            # obs = qml.PauliZ(0)\n",
    "            return qml.probs()\n",
    "        if chk:\n",
    "            print(qml.draw_mpl(inner_theorem1)())\n",
    "        return inner_theorem1()\n",
    "\n",
    "    def forward(self, x):\n",
    "        N_in = len(self.weights) # torch.tensor([len(self.weights)])\n",
    "        self.A_x  = torch.sqrt(torch.tensor(self.N_in)- ( x @ x))\n",
    "        self.A_wb = torch.sqrt(torch.tensor(self.N_in + 1) - (self.weights @ self.weights + self.bias * self.bias))\n",
    "        self.v_x    = torch.cat((self.A_x.unsqueeze(0),  x, torch.tensor([1.0]), torch.tensor([0.0] * (self.N - self.N_in - 2))))               # [self.A_x]  + self.x_list + [1.0]       + ([0.0] * (self.N - self.N_in - 2))\n",
    "        self.v_wb   = torch.cat((torch.tensor([0.0]), self.weights, self.bias, torch.tensor([0.0] * (self.N - self.N_in - 3)), self.A_wb))\n",
    "        print(self.A_x)\n",
    "        print(self.v_x)\n",
    "        print(self.v_wb)\n",
    "        print(\"Z :\" ,self.v_x@self.v_wb)\n",
    "        result=self.theorem1()[0]\n",
    "\n",
    "        return result # @ temp\n"
   ]
  },
  {
   "cell_type": "code",
   "execution_count": 168,
   "metadata": {},
   "outputs": [],
   "source": [
    "class test(nn.Module):\n",
    "    '''\n",
    "        qaf_layer, 즉 n-to-1 perceptron(wx+b)에서, w가 잘 업데이트 되는지 확인하기 위한 클래스\n",
    "    '''\n",
    "    def __init__(self, input_size):\n",
    "        '''\n",
    "            input_size(int) : w와 x의 size -> N_in\n",
    "        '''\n",
    "        super(test, self).__init__()\n",
    "\n",
    "        self.weights = nn.Parameter(torch.tensor([0.1,0.1,0.1,0.1],requires_grad=True))\n",
    "        self.dev = qml.device(\"default.qubit\", wires=2)\n",
    "\n",
    "    def forward(self, input, chk=False):\n",
    "        @qml.qnode(self.dev, interface=\"torch\")\n",
    "        def inner_forward():\n",
    "            qml.AmplitudeEmbedding(input, wires=[0, 1], normalize=True)\n",
    "            qml.adjoint(qml.AmplitudeEmbedding)(self.weights, wires=[0, 1], normalize=True)\n",
    "            return qml.probs()\n",
    "        if chk:\n",
    "            print(qml.draw_mpl(inner_forward)())\n",
    "        return inner_forward()[0]"
   ]
  },
  {
   "cell_type": "code",
   "execution_count": 169,
   "metadata": {},
   "outputs": [
    {
     "name": "stdout",
     "output_type": "stream",
     "text": [
      "grad==============: tensor([-1.0714,  1.0714,  3.2143, -3.2143])\n"
     ]
    }
   ],
   "source": [
    "test1 = test(4)\n",
    "x = torch.tensor([0.1,0.2,0.3,0.0])\n",
    "res = test1(x)\n",
    "# print(\"res : \",res)\n",
    "res.backward()\n",
    "print(\"grad==============:\",test1.weights.grad)\n",
    "# print(test1.weights)"
   ]
  },
  {
   "cell_type": "code",
   "execution_count": 100,
   "metadata": {},
   "outputs": [
    {
     "data": {
      "text/plain": [
       "'computation_graph.pdf'"
      ]
     },
     "execution_count": 100,
     "metadata": {},
     "output_type": "execute_result"
    }
   ],
   "source": [
    "dot =make_dot(res, params={\"w\":test1.weights,\"bias\":test1.bias})\n",
    "dot.render('computation_graph', format='png', cleanup=True)  # 파일로 저장\n",
    "dot.view()"
   ]
  },
  {
   "cell_type": "code",
   "execution_count": 116,
   "metadata": {},
   "outputs": [
    {
     "name": "stdout",
     "output_type": "stream",
     "text": [
      "[Parameter containing:\n",
      "tensor([0.7208, 0.6183, 0.5284, 0.4863], requires_grad=True), Parameter containing:\n",
      "tensor([0.7563], requires_grad=True)]\n",
      "tensor(1.9235)\n",
      "tensor([1.9235, 0.1000, 0.2000, 0.3000, 0.4000, 1.0000, 0.0000, 0.0000])\n",
      "tensor([0.0000, 0.7208, 0.6183, 0.5284, 0.4863, 0.7563, 0.0000, 1.7351],\n",
      "       grad_fn=<CatBackward0>)\n",
      "Z : tensor(1.3051, grad_fn=<DotBackward0>)\n",
      "res: tensor(1.3051, grad_fn=<DotBackward0>)\n",
      "tensor([0.1000, 0.2000, 0.3000, 0.4000])\n",
      "[Parameter containing:\n",
      "tensor([0.7108, 0.6083, 0.5184, 0.4763], requires_grad=True), Parameter containing:\n",
      "tensor([0.7463], requires_grad=True)]\n"
     ]
    }
   ],
   "source": [
    "test1 = test(4)\n",
    "print(list(test1.parameters()))\n",
    "op1 = optim.Adam(test1.parameters(), lr=0.01)\n",
    "# op1.zero_grad()\n",
    "res = test1(x)\n",
    "print(\"res:\",res)\n",
    "res.backward()\n",
    "print(test1.weights.grad)\n",
    "op1.step()\n",
    "print(list(test1.parameters()))"
   ]
  },
  {
   "cell_type": "code",
   "execution_count": 170,
   "metadata": {},
   "outputs": [
    {
     "data": {
      "text/plain": [
       "1e-09"
      ]
     },
     "execution_count": 170,
     "metadata": {},
     "output_type": "execute_result"
    }
   ],
   "source": [
    "1e-9"
   ]
  },
  {
   "cell_type": "code",
   "execution_count": 195,
   "metadata": {},
   "outputs": [],
   "source": [
    "class Theorem1: # _for_torch:\n",
    "    '''\n",
    "        QAF 논문 Theorem 1을 구현하기 위한 class\n",
    "    '''\n",
    "    def __init__(self, w, x, b, d, l = 0):\n",
    "        '''\n",
    "            w(torch.tensor([]))     : list for weight\n",
    "            x(torch.tensor([]))     : list for x(input)\n",
    "            b(torch.tensor([]))    : float value of bias\n",
    "            d(int)      : degree for Taylor (polynomial) Expansion\n",
    "        '''\n",
    "\n",
    "        # print('Before list Initiallize Init')\n",
    "        # list Initiallize\n",
    "        self.w = w\n",
    "        self.x = x\n",
    "        self.b = b\n",
    "        self.d = d\n",
    "        self.l = l\n",
    "\n",
    "        # # vector Initiallize\n",
    "        # self.x = np.array(self.x_list)\n",
    "        # self.w = np.array(self.w_list)\n",
    "\n",
    "        # print('Before lengths Calculate Init')\n",
    "        # lengths Calculate\n",
    "        self.N_in = len(self.x)\n",
    "        self.N = int(2 ** (np.ceil(np.log2(self.N_in + 3))))\n",
    "        self.n = int(np.log2(self.N))\n",
    "\n",
    "        # print('Before A_x, A_wb Calculate Init')\n",
    "        # A_x, A_wb Calculate\n",
    "        self.A_x  = torch.sqrt(torch.tensor(self.N_in)- (self.x @ self.x))\n",
    "        self.A_wb = torch.sqrt(torch.tensor(self.N_in + 1) - (self.w @ self.w + self.b * self.b))\n",
    "\n",
    "        # print('Before v_x, v_wb Init')\n",
    "        # v_x, v_wb\n",
    "        self.v_x    = torch.cat((self.A_x.unsqueeze(0),  self.x, torch.tensor([1.0]), torch.tensor([1e-3] * (self.N - self.N_in - 2))))               # [self.A_x]  + self.x_list + [1.0]       + ([0.0] * (self.N - self.N_in - 2))\n",
    "        self.v_wb   = torch.cat((torch.tensor([1e-3]), self.w, self.b, torch.tensor([1e-3] * (self.N - self.N_in - 3)), self.A_wb))   # [0.0]       + self.w_list + [self.b]    + ([0.0] * (self.N - self.N_in - 3)) + [self.A_wb]\n",
    "\n",
    "        # device initiallize\n",
    "        # n : num_qubit\n",
    "        self.dev = qml.device(\"default.qubit\", wires=(self.n + self.d + self.l))\n",
    "\n",
    "    def U_z(self):\n",
    "        qml.AmplitudeEmbedding(self.v_x, wires=range(self.n), normalize=True)\n",
    "        qml.adjoint(qml.AmplitudeEmbedding)(self.v_wb, wires=range(self.n), normalize=True)\n",
    "        for i in range(self.n):\n",
    "            qml.PauliX(wires=i)\n",
    "\n",
    "    def V(self, m):\n",
    "        a_m = self.n + m\n",
    "\n",
    "        # Controlled-Hadamard for (control, target) : (q register, a_m)\n",
    "        qml.ctrl(qml.Hadamard, control=range(self.n))(wires=a_m)\n",
    "\n",
    "        # CNOT for (control, target) : (a_m, q register)\n",
    "        for i in range(self.n):\n",
    "            qml.CNOT(wires=[a_m, i])\n",
    "\n",
    "        # Controlled-U(x, w, b) for : (a_m, q register)\n",
    "        qml.ctrl(self.U_z, control=a_m)()\n",
    "\n",
    "    def outer_theorem1(self):\n",
    "        '''\n",
    "            Pauli-X 후 S_V(V_0, V_1, ... , V_{d-1})\n",
    "        '''\n",
    "        # Pauli-X for each qubit of q register\n",
    "        for i in range(self.n):\n",
    "            qml.PauliX(wires=i)\n",
    "\n",
    "        # V_m for each m in (0, ... , d - 1)\n",
    "        for m in range(self.d):\n",
    "            self.V(m)\n",
    "\n",
    "    def theorem1(self, chk=False):\n",
    "        '''\n",
    "            Theorem 1의 state |psi_z^d> 를 생성해서, state vector를 return\n",
    "        '''\n",
    "        @qml.qnode(device=self.dev, interface=\"torch\")\n",
    "        def inner_theorem1():\n",
    "            self.outer_theorem1()\n",
    "            return qml.state()\n",
    "\n",
    "        if chk:\n",
    "            print(qml.draw_mpl(inner_theorem1)())\n",
    "        return inner_theorem1()\n",
    "\n",
    "    def corollary1(self, k):\n",
    "        '''\n",
    "            k를 input으로 받아, |N-1>(q)|2^k - 1>(a) state에 대한 amplitude를 return\n",
    "        '''\n",
    "        result = self.theorem1()\n",
    "        bitstring = ('1' * self.n) + ('0' * (self.d - k)) + ('1' * k)\n",
    "        index = int(bitstring, 2)\n",
    "        return result[index]"
   ]
  },
  {
   "cell_type": "markdown",
   "metadata": {},
   "source": [
    "---"
   ]
  },
  {
   "cell_type": "markdown",
   "metadata": {},
   "source": [
    "### Theorem 2"
   ]
  },
  {
   "cell_type": "code",
   "execution_count": 196,
   "metadata": {},
   "outputs": [],
   "source": [
    "class Theorem2(Theorem1):\n",
    "    def __init__(self, w, x, b, d, f, l = 0):\n",
    "        '''\n",
    "            w, x, b, d : same as Thm1\n",
    "            f(str) : name of function which will be sympified\n",
    "        '''\n",
    "\n",
    "        # print('Before Thm1 Init')\n",
    "        super().__init__(w, x, b, d, l=l)\n",
    "        # print('After Thm1 Init')\n",
    "        self.f = sp.sympify(f) # target f\n",
    "        self.k = -1     # target f의 taylor expansion 중 계수가 0이 아닌 최저 차수\n",
    "        self.C_d = 1    # f_d(z)와 실제 f(z)의 factoring constant\n",
    "        self.theta_list = self.make_theta_list()\n",
    "\n",
    "\n",
    "    def taylor_series_coefficients(self):\n",
    "        # 심볼 정의\n",
    "        z = sp.symbols('z')\n",
    "        point = 0.0\n",
    "\n",
    "        # 테일러 전개 계산\n",
    "        taylor_expansion = sp.series(self.f, z, point, self.d + 1).removeO()\n",
    "\n",
    "        # 계수 추출\n",
    "        coeffs = [taylor_expansion.coeff(z, i) for i in range(self.d + 1)]\n",
    "        return coeffs\n",
    "\n",
    "    def make_theta_list(self):\n",
    "        # Get Coeffs of Taylor (polynomial) Expansion of target f\n",
    "        coefficients = self.taylor_series_coefficients()\n",
    "\n",
    "        # Update k (target f의 taylor expansion 중 계수가 0이 아닌 최저 차수)\n",
    "        for i in range(0, self.d + 1):\n",
    "            if coefficients[i] != 0:\n",
    "                self.k = i\n",
    "                break\n",
    "\n",
    "        theta_list = [0 for _ in range(self.d)]\n",
    "        # target f = 0\n",
    "        if self.k < 0:\n",
    "            return theta_list\n",
    "\n",
    "        # a_i = 0 for all i < k\n",
    "        for i in range(self.k):\n",
    "            theta_list[i] = -1 * math.pi / 2\n",
    "\n",
    "        # a_k Initiallization\n",
    "        theta_list[self.k] = math.atan(-1 * coefficients[self.k + 1] / coefficients[self.k])\n",
    "\n",
    "        A = 1\n",
    "        for i in range(self.k + 1, len(coefficients) - 1):\n",
    "            A *= math.cos(theta_list[i - 1])\n",
    "            theta_list[i] = math.atan(-1 * coefficients[i + 1] / coefficients[self.k] * A)\n",
    "\n",
    "        # C_d update\n",
    "        C_d = coefficients[self.k] # a_k\n",
    "        for i in range(self.k, self.d):\n",
    "            C_d /= math.cos(theta_list[i]) # 1/cos(theta)\n",
    "        self.C_d = torch.tensor([float(C_d)])\n",
    "\n",
    "        return theta_list\n",
    "\n",
    "    def U(self, d):\n",
    "        '''\n",
    "            U_d Unitary for S_U iteration\n",
    "        '''\n",
    "        theta_list = self.theta_list # make_theta_list()\n",
    "        for k in range(1, d):\n",
    "            a_0 = self.n\n",
    "            a_k = a_0 + k\n",
    "            qml.ctrl(qml.RY, control=a_k, control_values=0)(2 * theta_list[k - 1], wires=a_0)\n",
    "            qml.CNOT(wires=[a_0, a_k])\n",
    "\n",
    "    def outer_theorem2(self):\n",
    "        '''\n",
    "            S_U := d register에는 U_d, q register에는 Pauli-X for each qubit\n",
    "        '''\n",
    "        # Pauli-X for each qubit of q register\n",
    "        # and S_V\n",
    "        self.outer_theorem1()\n",
    "\n",
    "        qml.Barrier()\n",
    "\n",
    "        # U_d\n",
    "        self.U(self.d)\n",
    "\n",
    "        qml.Barrier()\n",
    "\n",
    "        # Pauli-X for each qubit of q register\n",
    "        for i in range(self.n):\n",
    "            qml.PauliX(wires=i)\n",
    "\n",
    "    def theorem2(self, chk=False):\n",
    "        @qml.qnode(device=self.dev, interface=\"torch\")\n",
    "        def inner_theorem2():\n",
    "            self.outer_theorem2()\n",
    "            return qml.state()\n",
    "        if chk:\n",
    "            print(qml.draw_mpl(self.outer_theorem2)())\n",
    "        return inner_theorem2()\n",
    "\n",
    "    def corollary2(self, k):\n",
    "        '''\n",
    "            as same as col 1,\n",
    "            k를 input으로 받아, |N-1>(q)|2^k - 1>(a) state에 대한 amplitude를 return\n",
    "        '''\n",
    "        result = self.theorem2()\n",
    "        bitstring = ('0' * self.n) + ('0' * (self.d - k)) + ('1' * k)\n",
    "        index = int(bitstring, 2)\n",
    "        return result[index] * self.C_d # * C_d\n"
   ]
  },
  {
   "cell_type": "markdown",
   "metadata": {},
   "source": [
    "---"
   ]
  },
  {
   "cell_type": "markdown",
   "metadata": {},
   "source": [
    "### Amplitude Estimation"
   ]
  },
  {
   "cell_type": "code",
   "execution_count": 197,
   "metadata": {},
   "outputs": [],
   "source": [
    "class qaf_layer(Theorem2):\n",
    "    def __init__(self, w, x, b, d, f):\n",
    "        '''\n",
    "            w, x, b, d : same as Thm1\n",
    "            f(str) : name of function which will be sympified\n",
    "        '''\n",
    "        # print('Before Thm2 Init')\n",
    "        super().__init__(w, x, b, d, f, l = 1)\n",
    "        # print('After Thm2 Init')\n",
    "\n",
    "        self.f = sp.sympify(f) # target f\n",
    "        self.k = -1 # target f의 taylor expansion 중 계수가 0이 아닌 최저 차수\n",
    "        self.theta_list = self.make_theta_list()\n",
    "\n",
    "    def outer_controlled_theorem2(self):\n",
    "        l_0 = self.n + self.d # index of l register\n",
    "\n",
    "        qml.Hadamard(wires=[l_0]) # Hadamard for l register\n",
    "\n",
    "        qml.Barrier()\n",
    "\n",
    "        qml.ctrl(self.outer_theorem2, control=[l_0],work_wires=[range(self.n+self.d)])()\n",
    "\n",
    "        qml.Barrier()\n",
    "\n",
    "        qml.Hadamard(wires=[l_0]) # Hadamard for l register\n",
    "\n",
    "    def controlled_theorem2(self):\n",
    "        @qml.qnode(device=self.dev, interface=\"torch\")\n",
    "        def inner_controlled_theorem2():\n",
    "            self.outer_controlled_theorem2()\n",
    "            return qml.probs()\n",
    "        # qml.draw_mpl(inner_controlled_theorem2,show_all_wires=True)()\n",
    "        return inner_controlled_theorem2()\n",
    "\n",
    "    def amplitude_estimation(self):\n",
    "        result = self.controlled_theorem2()[0] # get P_0\n",
    "        factorized_inner_product = torch.sqrt(4 * result) - 1\n",
    "        inner_product = factorized_inner_product * (2 ** (self.d / 2))\n",
    "        return inner_product\n",
    "\n",
    "    def activation_estimation(self):\n",
    "        result = self.amplitude_estimation()\n",
    "        return result * self.C_d\n"
   ]
  },
  {
   "cell_type": "markdown",
   "metadata": {},
   "source": [
    "---"
   ]
  },
  {
   "cell_type": "markdown",
   "metadata": {},
   "source": [
    "### QAF Model"
   ]
  },
  {
   "cell_type": "code",
   "execution_count": 198,
   "metadata": {},
   "outputs": [],
   "source": [
    "# list Initiallize\n",
    "x_tensor = torch.tensor([0.1, -0.2, -0.3, -0.4])\n",
    "w_tensor = torch.tensor([-0.8, 0.7, 0.9, 0.3])\n",
    "b = torch.tensor([0.5])\n",
    "d = 5\n",
    "f = 'sin(z)'\n",
    "\n",
    "args = [x_tensor, w_tensor, b, d, f]\n",
    "\n",
    "N_in = len(x_tensor)\n",
    "z = (np.array(x_tensor) @ np.array(x_tensor) + b) / (N_in + 1)\n",
    "\n",
    "target_w = torch.tensor([-0.8, 0.7, 0.9, 0.3])\n",
    "target_b = torch.tensor([0.5])\n",
    "# 'f(wx+b) -> f(target_w * x + target_b)'"
   ]
  },
  {
   "cell_type": "code",
   "execution_count": 246,
   "metadata": {},
   "outputs": [
    {
     "name": "stdout",
     "output_type": "stream",
     "text": [
      "Example batch x: torch.Size([4])\n",
      "Example batch y: torch.Size([])\n"
     ]
    }
   ],
   "source": [
    "# 데이터 생성\n",
    "num_data = 2  # 총 데이터 개수\n",
    "batch_size = 1  # 배치 크기\n",
    "\n",
    "x_data = torch.rand(4, num_data)  # (20000, 1) shape로 생성\n",
    "y_data = target_w @ x_data + target_b  # sin 함수로 출력 생성 (20000, 1)\n",
    "x_data = x_data.T\n",
    "# 텐서 데이터셋 생성\n",
    "dataset = TensorDataset(x_data, y_data)\n",
    "\n",
    "# Train/Test set 분할 (80%/20% 비율)\n",
    "train_size = int(0.8 * num_data)\n",
    "test_size = num_data - train_size\n",
    "train_dataset, test_dataset = random_split(dataset, [train_size, test_size])\n",
    "\n",
    "# DataLoader 생성\n",
    "train_loader = train_dataset # DataLoader(train_dataset, batch_size=batch_size, shuffle=True)\n",
    "test_loader  = test_dataset # DataLoader(test_dataset, batch_size=batch_size, shuffle=False)\n",
    "\n",
    "# 배치 예시 출력\n",
    "x_batch, y_batch = next(iter(train_loader))\n",
    "print(\"Example batch x:\", x_batch.shape)  # Expected: [128, 1]\n",
    "print(\"Example batch y:\", y_batch.shape)  # Expected: [128, 1]\n"
   ]
  },
  {
   "cell_type": "code",
   "execution_count": 247,
   "metadata": {},
   "outputs": [],
   "source": [
    "class qaf_model(nn.Module):\n",
    "    '''\n",
    "        qaf_layer, 즉 n-to-1 perceptron(wx+b)에서, w가 잘 업데이트 되는지 확인하기 위한 클래스\n",
    "    '''\n",
    "    def __init__(self, input_size):\n",
    "        '''\n",
    "            input_size(int) : w와 x의 size -> N_in\n",
    "        '''\n",
    "        super(qaf_model, self).__init__()\n",
    "\n",
    "        self.weights = nn.Parameter(torch.rand(input_size, requires_grad=True))\n",
    "        self.bias = nn.Parameter(torch.rand(1, requires_grad=True))\n",
    "        self.activation = 'sin(z)'\n",
    "\n",
    "    def forward(self, input, dim=4):\n",
    "        q_layer = qaf_layer(w=self.weights, x=input, b=self.bias, d=dim, f=self.activation)\n",
    "        return q_layer.activation_estimation() # .retain_grad()\n"
   ]
  },
  {
   "cell_type": "code",
   "execution_count": 256,
   "metadata": {},
   "outputs": [
    {
     "name": "stdout",
     "output_type": "stream",
     "text": [
      "step 0 loss : tensor([0.6503], grad_fn=<AbsBackward0>)\n",
      "step 0 loss : tensor([0.6502], grad_fn=<AbsBackward0>)\n",
      "step 0 loss : tensor([0.6502], grad_fn=<AbsBackward0>)\n",
      "step 0 loss : tensor([0.6501], grad_fn=<AbsBackward0>)\n",
      "step 0 loss : tensor([0.6500], grad_fn=<AbsBackward0>)\n",
      "step 0 loss : tensor([0.6500], grad_fn=<AbsBackward0>)\n",
      "step 0 loss : tensor([0.6499], grad_fn=<AbsBackward0>)\n",
      "step 0 loss : tensor([0.6499], grad_fn=<AbsBackward0>)\n",
      "step 0 loss : tensor([0.6498], grad_fn=<AbsBackward0>)\n",
      "step 0 loss : tensor([0.6497], grad_fn=<AbsBackward0>)\n",
      "step 0 loss : tensor([0.6497], grad_fn=<AbsBackward0>)\n",
      "step 0 loss : tensor([0.6496], grad_fn=<AbsBackward0>)\n",
      "step 0 loss : tensor([0.6495], grad_fn=<AbsBackward0>)\n",
      "step 0 loss : tensor([0.6495], grad_fn=<AbsBackward0>)\n",
      "step 0 loss : tensor([0.6494], grad_fn=<AbsBackward0>)\n",
      "step 0 loss : tensor([0.6494], grad_fn=<AbsBackward0>)\n",
      "step 0 loss : tensor([0.6493], grad_fn=<AbsBackward0>)\n",
      "step 0 loss : tensor([0.6492], grad_fn=<AbsBackward0>)\n",
      "step 0 loss : tensor([0.6492], grad_fn=<AbsBackward0>)\n",
      "step 0 loss : tensor([0.6491], grad_fn=<AbsBackward0>)\n",
      "step 0 loss : tensor([0.6490], grad_fn=<AbsBackward0>)\n",
      "step 0 loss : tensor([0.6490], grad_fn=<AbsBackward0>)\n",
      "step 0 loss : tensor([0.6489], grad_fn=<AbsBackward0>)\n",
      "step 0 loss : tensor([0.6489], grad_fn=<AbsBackward0>)\n",
      "step 0 loss : tensor([0.6488], grad_fn=<AbsBackward0>)\n",
      "step 0 loss : tensor([0.6487], grad_fn=<AbsBackward0>)\n",
      "step 0 loss : tensor([0.6487], grad_fn=<AbsBackward0>)\n",
      "step 0 loss : tensor([0.6486], grad_fn=<AbsBackward0>)\n",
      "step 0 loss : tensor([0.6485], grad_fn=<AbsBackward0>)\n",
      "step 0 loss : tensor([0.6485], grad_fn=<AbsBackward0>)\n",
      "step 0 loss : tensor([0.6484], grad_fn=<AbsBackward0>)\n",
      "step 0 loss : tensor([0.6484], grad_fn=<AbsBackward0>)\n",
      "step 0 loss : tensor([0.6483], grad_fn=<AbsBackward0>)\n",
      "step 0 loss : tensor([0.6482], grad_fn=<AbsBackward0>)\n",
      "step 0 loss : tensor([0.6482], grad_fn=<AbsBackward0>)\n",
      "step 0 loss : tensor([0.6481], grad_fn=<AbsBackward0>)\n",
      "step 0 loss : tensor([0.6481], grad_fn=<AbsBackward0>)\n",
      "step 0 loss : tensor([0.6480], grad_fn=<AbsBackward0>)\n",
      "step 0 loss : tensor([0.6479], grad_fn=<AbsBackward0>)\n",
      "step 0 loss : tensor([0.6479], grad_fn=<AbsBackward0>)\n",
      "step 0 loss : tensor([0.6478], grad_fn=<AbsBackward0>)\n",
      "step 0 loss : tensor([0.6477], grad_fn=<AbsBackward0>)\n",
      "step 0 loss : tensor([0.6477], grad_fn=<AbsBackward0>)\n",
      "step 0 loss : tensor([0.6476], grad_fn=<AbsBackward0>)\n",
      "step 0 loss : tensor([0.6476], grad_fn=<AbsBackward0>)\n",
      "step 0 loss : tensor([0.6475], grad_fn=<AbsBackward0>)\n",
      "step 0 loss : tensor([0.6474], grad_fn=<AbsBackward0>)\n",
      "step 0 loss : tensor([0.6474], grad_fn=<AbsBackward0>)\n",
      "step 0 loss : tensor([0.6473], grad_fn=<AbsBackward0>)\n",
      "step 0 loss : tensor([0.6472], grad_fn=<AbsBackward0>)\n",
      "step 0 loss : tensor([0.6472], grad_fn=<AbsBackward0>)\n",
      "step 0 loss : tensor([0.6471], grad_fn=<AbsBackward0>)\n",
      "step 0 loss : tensor([0.6471], grad_fn=<AbsBackward0>)\n",
      "step 0 loss : tensor([0.6470], grad_fn=<AbsBackward0>)\n",
      "step 0 loss : tensor([0.6469], grad_fn=<AbsBackward0>)\n",
      "step 0 loss : tensor([0.6469], grad_fn=<AbsBackward0>)\n",
      "step 0 loss : tensor([0.6468], grad_fn=<AbsBackward0>)\n",
      "step 0 loss : tensor([0.6467], grad_fn=<AbsBackward0>)\n",
      "step 0 loss : tensor([0.6467], grad_fn=<AbsBackward0>)\n",
      "step 0 loss : tensor([0.6466], grad_fn=<AbsBackward0>)\n",
      "step 0 loss : tensor([0.6466], grad_fn=<AbsBackward0>)\n",
      "step 0 loss : tensor([0.6465], grad_fn=<AbsBackward0>)\n",
      "step 0 loss : tensor([0.6464], grad_fn=<AbsBackward0>)\n",
      "step 0 loss : tensor([0.6464], grad_fn=<AbsBackward0>)\n",
      "step 0 loss : tensor([0.6463], grad_fn=<AbsBackward0>)\n",
      "step 0 loss : tensor([0.6462], grad_fn=<AbsBackward0>)\n",
      "step 0 loss : tensor([0.6462], grad_fn=<AbsBackward0>)\n",
      "step 0 loss : tensor([0.6461], grad_fn=<AbsBackward0>)\n",
      "step 0 loss : tensor([0.6461], grad_fn=<AbsBackward0>)\n",
      "step 0 loss : tensor([0.6460], grad_fn=<AbsBackward0>)\n",
      "step 0 loss : tensor([0.6459], grad_fn=<AbsBackward0>)\n",
      "step 0 loss : tensor([0.6459], grad_fn=<AbsBackward0>)\n",
      "step 0 loss : tensor([0.6458], grad_fn=<AbsBackward0>)\n",
      "step 0 loss : tensor([0.6457], grad_fn=<AbsBackward0>)\n",
      "step 0 loss : tensor([0.6457], grad_fn=<AbsBackward0>)\n",
      "step 0 loss : tensor([0.6456], grad_fn=<AbsBackward0>)\n",
      "step 0 loss : tensor([0.6456], grad_fn=<AbsBackward0>)\n",
      "step 0 loss : tensor([0.6455], grad_fn=<AbsBackward0>)\n",
      "step 0 loss : tensor([0.6454], grad_fn=<AbsBackward0>)\n",
      "step 0 loss : tensor([0.6454], grad_fn=<AbsBackward0>)\n",
      "step 0 loss : tensor([0.6453], grad_fn=<AbsBackward0>)\n",
      "step 0 loss : tensor([0.6453], grad_fn=<AbsBackward0>)\n",
      "step 0 loss : tensor([0.6452], grad_fn=<AbsBackward0>)\n",
      "step 0 loss : tensor([0.6451], grad_fn=<AbsBackward0>)\n",
      "step 0 loss : tensor([0.6451], grad_fn=<AbsBackward0>)\n",
      "step 0 loss : tensor([0.6450], grad_fn=<AbsBackward0>)\n",
      "step 0 loss : tensor([0.6449], grad_fn=<AbsBackward0>)\n",
      "step 0 loss : tensor([0.6449], grad_fn=<AbsBackward0>)\n",
      "step 0 loss : tensor([0.6448], grad_fn=<AbsBackward0>)\n",
      "step 0 loss : tensor([0.6448], grad_fn=<AbsBackward0>)\n",
      "step 0 loss : tensor([0.6447], grad_fn=<AbsBackward0>)\n",
      "step 0 loss : tensor([0.6446], grad_fn=<AbsBackward0>)\n",
      "step 0 loss : tensor([0.6446], grad_fn=<AbsBackward0>)\n",
      "step 0 loss : tensor([0.6445], grad_fn=<AbsBackward0>)\n",
      "step 0 loss : tensor([0.6444], grad_fn=<AbsBackward0>)\n",
      "step 0 loss : tensor([0.6444], grad_fn=<AbsBackward0>)\n",
      "step 0 loss : tensor([0.6443], grad_fn=<AbsBackward0>)\n",
      "step 0 loss : tensor([0.6443], grad_fn=<AbsBackward0>)\n",
      "step 0 loss : tensor([0.6442], grad_fn=<AbsBackward0>)\n",
      "step 0 loss : tensor([0.6441], grad_fn=<AbsBackward0>)\n",
      "step 0 loss : tensor([0.6441], grad_fn=<AbsBackward0>)\n",
      "step 0 loss : tensor([0.6440], grad_fn=<AbsBackward0>)\n",
      "step 0 loss : tensor([0.6439], grad_fn=<AbsBackward0>)\n",
      "step 0 loss : tensor([0.6439], grad_fn=<AbsBackward0>)\n",
      "step 0 loss : tensor([0.6438], grad_fn=<AbsBackward0>)\n",
      "step 0 loss : tensor([0.6438], grad_fn=<AbsBackward0>)\n",
      "step 0 loss : tensor([0.6437], grad_fn=<AbsBackward0>)\n",
      "step 0 loss : tensor([0.6436], grad_fn=<AbsBackward0>)\n",
      "step 0 loss : tensor([0.6436], grad_fn=<AbsBackward0>)\n",
      "step 0 loss : tensor([0.6435], grad_fn=<AbsBackward0>)\n",
      "step 0 loss : tensor([0.6434], grad_fn=<AbsBackward0>)\n",
      "step 0 loss : tensor([0.6434], grad_fn=<AbsBackward0>)\n",
      "step 0 loss : tensor([0.6433], grad_fn=<AbsBackward0>)\n",
      "step 0 loss : tensor([0.6433], grad_fn=<AbsBackward0>)\n",
      "step 0 loss : tensor([0.6432], grad_fn=<AbsBackward0>)\n",
      "step 0 loss : tensor([0.6431], grad_fn=<AbsBackward0>)\n",
      "step 0 loss : tensor([0.6431], grad_fn=<AbsBackward0>)\n",
      "step 0 loss : tensor([0.6430], grad_fn=<AbsBackward0>)\n",
      "step 0 loss : tensor([0.6430], grad_fn=<AbsBackward0>)\n",
      "step 0 loss : tensor([0.6429], grad_fn=<AbsBackward0>)\n",
      "step 0 loss : tensor([0.6428], grad_fn=<AbsBackward0>)\n",
      "step 0 loss : tensor([0.6428], grad_fn=<AbsBackward0>)\n",
      "step 0 loss : tensor([0.6427], grad_fn=<AbsBackward0>)\n",
      "step 0 loss : tensor([0.6426], grad_fn=<AbsBackward0>)\n",
      "step 0 loss : tensor([0.6426], grad_fn=<AbsBackward0>)\n",
      "step 0 loss : tensor([0.6425], grad_fn=<AbsBackward0>)\n",
      "step 0 loss : tensor([0.6425], grad_fn=<AbsBackward0>)\n",
      "step 0 loss : tensor([0.6424], grad_fn=<AbsBackward0>)\n",
      "step 0 loss : tensor([0.6423], grad_fn=<AbsBackward0>)\n",
      "step 0 loss : tensor([0.6423], grad_fn=<AbsBackward0>)\n",
      "step 0 loss : tensor([0.6422], grad_fn=<AbsBackward0>)\n",
      "step 0 loss : tensor([0.6421], grad_fn=<AbsBackward0>)\n",
      "step 0 loss : tensor([0.6421], grad_fn=<AbsBackward0>)\n",
      "step 0 loss : tensor([0.6420], grad_fn=<AbsBackward0>)\n",
      "step 0 loss : tensor([0.6420], grad_fn=<AbsBackward0>)\n",
      "step 0 loss : tensor([0.6419], grad_fn=<AbsBackward0>)\n",
      "step 0 loss : tensor([0.6418], grad_fn=<AbsBackward0>)\n",
      "step 0 loss : tensor([0.6418], grad_fn=<AbsBackward0>)\n",
      "step 0 loss : tensor([0.6417], grad_fn=<AbsBackward0>)\n",
      "step 0 loss : tensor([0.6416], grad_fn=<AbsBackward0>)\n",
      "step 0 loss : tensor([0.6416], grad_fn=<AbsBackward0>)\n",
      "step 0 loss : tensor([0.6415], grad_fn=<AbsBackward0>)\n",
      "step 0 loss : tensor([0.6415], grad_fn=<AbsBackward0>)\n",
      "step 0 loss : tensor([0.6414], grad_fn=<AbsBackward0>)\n",
      "step 0 loss : tensor([0.6413], grad_fn=<AbsBackward0>)\n",
      "step 0 loss : tensor([0.6413], grad_fn=<AbsBackward0>)\n",
      "step 0 loss : tensor([0.6412], grad_fn=<AbsBackward0>)\n",
      "step 0 loss : tensor([0.6412], grad_fn=<AbsBackward0>)\n",
      "step 0 loss : tensor([0.6411], grad_fn=<AbsBackward0>)\n",
      "step 0 loss : tensor([0.6410], grad_fn=<AbsBackward0>)\n",
      "step 0 loss : tensor([0.6410], grad_fn=<AbsBackward0>)\n",
      "step 0 loss : tensor([0.6409], grad_fn=<AbsBackward0>)\n",
      "step 0 loss : tensor([0.6408], grad_fn=<AbsBackward0>)\n",
      "step 0 loss : tensor([0.6408], grad_fn=<AbsBackward0>)\n",
      "step 0 loss : tensor([0.6407], grad_fn=<AbsBackward0>)\n",
      "step 0 loss : tensor([0.6407], grad_fn=<AbsBackward0>)\n",
      "step 0 loss : tensor([0.6406], grad_fn=<AbsBackward0>)\n",
      "step 0 loss : tensor([0.6405], grad_fn=<AbsBackward0>)\n",
      "step 0 loss : tensor([0.6405], grad_fn=<AbsBackward0>)\n",
      "step 0 loss : tensor([0.6404], grad_fn=<AbsBackward0>)\n",
      "step 0 loss : tensor([0.6403], grad_fn=<AbsBackward0>)\n",
      "step 0 loss : tensor([0.6403], grad_fn=<AbsBackward0>)\n",
      "step 0 loss : tensor([0.6402], grad_fn=<AbsBackward0>)\n",
      "step 0 loss : tensor([0.6402], grad_fn=<AbsBackward0>)\n",
      "step 0 loss : tensor([0.6401], grad_fn=<AbsBackward0>)\n",
      "step 0 loss : tensor([0.6400], grad_fn=<AbsBackward0>)\n",
      "step 0 loss : tensor([0.6400], grad_fn=<AbsBackward0>)\n",
      "step 0 loss : tensor([0.6399], grad_fn=<AbsBackward0>)\n",
      "step 0 loss : tensor([0.6398], grad_fn=<AbsBackward0>)\n",
      "step 0 loss : tensor([0.6398], grad_fn=<AbsBackward0>)\n",
      "step 0 loss : tensor([0.6397], grad_fn=<AbsBackward0>)\n",
      "step 0 loss : tensor([0.6397], grad_fn=<AbsBackward0>)\n",
      "step 0 loss : tensor([0.6396], grad_fn=<AbsBackward0>)\n",
      "step 0 loss : tensor([0.6395], grad_fn=<AbsBackward0>)\n",
      "step 0 loss : tensor([0.6395], grad_fn=<AbsBackward0>)\n",
      "step 0 loss : tensor([0.6394], grad_fn=<AbsBackward0>)\n",
      "step 0 loss : tensor([0.6394], grad_fn=<AbsBackward0>)\n",
      "step 0 loss : tensor([0.6393], grad_fn=<AbsBackward0>)\n",
      "step 0 loss : tensor([0.6392], grad_fn=<AbsBackward0>)\n",
      "step 0 loss : tensor([0.6392], grad_fn=<AbsBackward0>)\n",
      "step 0 loss : tensor([0.6391], grad_fn=<AbsBackward0>)\n",
      "step 0 loss : tensor([0.6390], grad_fn=<AbsBackward0>)\n",
      "step 0 loss : tensor([0.6390], grad_fn=<AbsBackward0>)\n",
      "step 0 loss : tensor([0.6389], grad_fn=<AbsBackward0>)\n",
      "step 0 loss : tensor([0.6389], grad_fn=<AbsBackward0>)\n",
      "step 0 loss : tensor([0.6388], grad_fn=<AbsBackward0>)\n",
      "step 0 loss : tensor([0.6387], grad_fn=<AbsBackward0>)\n",
      "step 0 loss : tensor([0.6387], grad_fn=<AbsBackward0>)\n",
      "step 0 loss : tensor([0.6386], grad_fn=<AbsBackward0>)\n",
      "step 0 loss : tensor([0.6386], grad_fn=<AbsBackward0>)\n",
      "step 0 loss : tensor([0.6385], grad_fn=<AbsBackward0>)\n",
      "step 0 loss : tensor([0.6384], grad_fn=<AbsBackward0>)\n",
      "step 0 loss : tensor([0.6384], grad_fn=<AbsBackward0>)\n",
      "step 0 loss : tensor([0.6383], grad_fn=<AbsBackward0>)\n",
      "step 0 loss : tensor([0.6382], grad_fn=<AbsBackward0>)\n",
      "step 0 loss : tensor([0.6382], grad_fn=<AbsBackward0>)\n",
      "step 0 loss : tensor([0.6381], grad_fn=<AbsBackward0>)\n",
      "step 0 loss : tensor([0.6381], grad_fn=<AbsBackward0>)\n",
      "step 0 loss : tensor([0.6380], grad_fn=<AbsBackward0>)\n",
      "step 0 loss : tensor([0.6379], grad_fn=<AbsBackward0>)\n"
     ]
    }
   ],
   "source": [
    "q2 = qaf_model(4)\n",
    "optimizer =optim.Adam(q2.parameters(), lr=0.0001)\n",
    "loss_list =[]\n",
    "for ephoch in range(200):\n",
    "    for step, batch in enumerate(train_loader):\n",
    "        optimizer.zero_grad()\n",
    "        x_data, y_data= batch\n",
    "        res =q2(x_data)\n",
    "        loss = torch.abs(y_data-res)\n",
    "        loss.backward()\n",
    "        optimizer.step()\n",
    "        print(f\"step {step} loss :\",loss)\n",
    "        loss_list.append(loss)\n",
    "# trainer1= trainer(q2,train_loader=train_loader,test_loader=test_loader)"
   ]
  },
  {
   "cell_type": "code",
   "execution_count": 257,
   "metadata": {},
   "outputs": [
    {
     "data": {
      "image/png": "[encoded data removed]",
      "text/plain": [
       "<Figure size 640x480 with 1 Axes>"
      ]
     },
     "metadata": {},
     "output_type": "display_data"
    }
   ],
   "source": [
    "loss_list=[l.detach().numpy() for l in loss_list]\n",
    "plt.plot(loss_list)\n",
    "plt.xlabel('Step')\n",
    "plt.ylabel('Loss')\n",
    "plt.title('Training Loss over Steps')\n",
    "plt.show()"
   ]
  },
  {
   "cell_type": "code",
   "execution_count": 206,
   "metadata": {},
   "outputs": [
    {
     "name": "stderr",
     "output_type": "stream",
     "text": [
      "  0%|          | 0/100 [00:00<?, ?it/s]/Users/yuksehyun/anaconda3/envs/qrf/lib/python3.12/site-packages/torch/nn/modules/loss.py:538: UserWarning: Using a target size (torch.Size([])) that is different to the input size (torch.Size([1])). This will likely lead to incorrect results due to broadcasting. Please ensure they have the same size.\n",
      "  return F.mse_loss(input, target, reduction=self.reduction)\n",
      "/Users/yuksehyun/anaconda3/envs/qrf/lib/python3.12/site-packages/torch/nn/modules/loss.py:538: UserWarning: Using a target size (torch.Size([])) that is different to the input size (torch.Size([1])). This will likely lead to incorrect results due to broadcasting. Please ensure they have the same size.\n",
      "  return F.mse_loss(input, target, reduction=self.reduction)\n",
      "/Users/yuksehyun/anaconda3/envs/qrf/lib/python3.12/site-packages/torch/nn/modules/loss.py:538: UserWarning: Using a target size (torch.Size([])) that is different to the input size (torch.Size([1])). This will likely lead to incorrect results due to broadcasting. Please ensure they have the same size.\n",
      "  return F.mse_loss(input, target, reduction=self.reduction)\n"
     ]
    },
    {
     "name": "stdout",
     "output_type": "stream",
     "text": [
      "model weights grad :  tensor([-0.1463, -0.2067, -0.0842, -0.0730])\n",
      "model weights grad :  tensor([-0.1050, -0.1899, -0.0686, -0.0298])\n",
      "model weights grad :  tensor([-0.1052, -0.0325, -0.0381, -0.1134])\n"
     ]
    },
    {
     "name": "stderr",
     "output_type": "stream",
     "text": [
      "/Users/yuksehyun/anaconda3/envs/qrf/lib/python3.12/site-packages/torch/nn/modules/loss.py:538: UserWarning: Using a target size (torch.Size([])) that is different to the input size (torch.Size([1])). This will likely lead to incorrect results due to broadcasting. Please ensure they have the same size.\n",
      "  return F.mse_loss(input, target, reduction=self.reduction)\n",
      "/Users/yuksehyun/anaconda3/envs/qrf/lib/python3.12/site-packages/torch/nn/modules/loss.py:538: UserWarning: Using a target size (torch.Size([])) that is different to the input size (torch.Size([1])). This will likely lead to incorrect results due to broadcasting. Please ensure they have the same size.\n",
      "  return F.mse_loss(input, target, reduction=self.reduction)\n",
      "/Users/yuksehyun/anaconda3/envs/qrf/lib/python3.12/site-packages/torch/nn/modules/loss.py:538: UserWarning: Using a target size (torch.Size([])) that is different to the input size (torch.Size([1])). This will likely lead to incorrect results due to broadcasting. Please ensure they have the same size.\n",
      "  return F.mse_loss(input, target, reduction=self.reduction)\n"
     ]
    },
    {
     "name": "stdout",
     "output_type": "stream",
     "text": [
      "model weights grad :  tensor([-0.1430, -0.2068, -0.2714, -0.0763])\n",
      "model weights grad :  tensor([-0.1096, -0.0704, -0.0372, -0.0842])\n",
      "model weights grad :  tensor([-0.0877, -0.1778, -0.0416, -0.2875])\n"
     ]
    },
    {
     "name": "stderr",
     "output_type": "stream",
     "text": [
      "/Users/yuksehyun/anaconda3/envs/qrf/lib/python3.12/site-packages/torch/nn/modules/loss.py:538: UserWarning: Using a target size (torch.Size([])) that is different to the input size (torch.Size([1])). This will likely lead to incorrect results due to broadcasting. Please ensure they have the same size.\n",
      "  return F.mse_loss(input, target, reduction=self.reduction)\n",
      "/Users/yuksehyun/anaconda3/envs/qrf/lib/python3.12/site-packages/torch/nn/modules/loss.py:538: UserWarning: Using a target size (torch.Size([])) that is different to the input size (torch.Size([1])). This will likely lead to incorrect results due to broadcasting. Please ensure they have the same size.\n",
      "  return F.mse_loss(input, target, reduction=self.reduction)\n",
      "/Users/yuksehyun/anaconda3/envs/qrf/lib/python3.12/site-packages/torch/nn/modules/loss.py:538: UserWarning: Using a target size (torch.Size([])) that is different to the input size (torch.Size([1])). This will likely lead to incorrect results due to broadcasting. Please ensure they have the same size.\n",
      "  return F.mse_loss(input, target, reduction=self.reduction)\n"
     ]
    },
    {
     "name": "stdout",
     "output_type": "stream",
     "text": [
      "model weights grad :  tensor([-0.1353, -0.1160, -0.0785, -0.0064])\n",
      "model weights grad :  tensor([-0.0791, -0.1938, -0.0961, -0.2290])\n",
      "model weights grad :  tensor([-0.0287, -0.0375, -0.2111, -0.2433])\n"
     ]
    },
    {
     "name": "stderr",
     "output_type": "stream",
     "text": [
      "/Users/yuksehyun/anaconda3/envs/qrf/lib/python3.12/site-packages/torch/nn/modules/loss.py:538: UserWarning: Using a target size (torch.Size([])) that is different to the input size (torch.Size([1])). This will likely lead to incorrect results due to broadcasting. Please ensure they have the same size.\n",
      "  return F.mse_loss(input, target, reduction=self.reduction)\n",
      "/Users/yuksehyun/anaconda3/envs/qrf/lib/python3.12/site-packages/torch/nn/modules/loss.py:538: UserWarning: Using a target size (torch.Size([])) that is different to the input size (torch.Size([1])). This will likely lead to incorrect results due to broadcasting. Please ensure they have the same size.\n",
      "  return F.mse_loss(input, target, reduction=self.reduction)\n",
      "/Users/yuksehyun/anaconda3/envs/qrf/lib/python3.12/site-packages/torch/nn/modules/loss.py:538: UserWarning: Using a target size (torch.Size([])) that is different to the input size (torch.Size([1])). This will likely lead to incorrect results due to broadcasting. Please ensure they have the same size.\n",
      "  return F.mse_loss(input, target, reduction=self.reduction)\n"
     ]
    },
    {
     "name": "stdout",
     "output_type": "stream",
     "text": [
      "model weights grad :  tensor([-0.1488, -0.1088, -0.0774, -0.1160])\n",
      "model weights grad :  tensor([-0.0202, -0.1964, -0.0144, -0.0100])\n",
      "model weights grad :  tensor([-0.0311, -0.0076, -0.2281, -0.3462])\n"
     ]
    },
    {
     "name": "stderr",
     "output_type": "stream",
     "text": [
      "/Users/yuksehyun/anaconda3/envs/qrf/lib/python3.12/site-packages/torch/nn/modules/loss.py:538: UserWarning: Using a target size (torch.Size([])) that is different to the input size (torch.Size([1])). This will likely lead to incorrect results due to broadcasting. Please ensure they have the same size.\n",
      "  return F.mse_loss(input, target, reduction=self.reduction)\n",
      "/Users/yuksehyun/anaconda3/envs/qrf/lib/python3.12/site-packages/torch/nn/modules/loss.py:538: UserWarning: Using a target size (torch.Size([])) that is different to the input size (torch.Size([1])). This will likely lead to incorrect results due to broadcasting. Please ensure they have the same size.\n",
      "  return F.mse_loss(input, target, reduction=self.reduction)\n",
      "/Users/yuksehyun/anaconda3/envs/qrf/lib/python3.12/site-packages/torch/nn/modules/loss.py:538: UserWarning: Using a target size (torch.Size([])) that is different to the input size (torch.Size([1])). This will likely lead to incorrect results due to broadcasting. Please ensure they have the same size.\n",
      "  return F.mse_loss(input, target, reduction=self.reduction)\n"
     ]
    },
    {
     "name": "stdout",
     "output_type": "stream",
     "text": [
      "model weights grad :  tensor([-0.0657, -0.0246, -0.2468, -0.1885])\n",
      "model weights grad :  tensor([-0.2256, -0.0930, -0.2713, -0.0923])\n",
      "model weights grad :  tensor([-2.7038e-02, -1.9242e-02, -4.1510e-05, -8.6412e-03])\n"
     ]
    },
    {
     "name": "stderr",
     "output_type": "stream",
     "text": [
      "/Users/yuksehyun/anaconda3/envs/qrf/lib/python3.12/site-packages/torch/nn/modules/loss.py:538: UserWarning: Using a target size (torch.Size([])) that is different to the input size (torch.Size([1])). This will likely lead to incorrect results due to broadcasting. Please ensure they have the same size.\n",
      "  return F.mse_loss(input, target, reduction=self.reduction)\n",
      "/Users/yuksehyun/anaconda3/envs/qrf/lib/python3.12/site-packages/torch/nn/modules/loss.py:538: UserWarning: Using a target size (torch.Size([])) that is different to the input size (torch.Size([1])). This will likely lead to incorrect results due to broadcasting. Please ensure they have the same size.\n",
      "  return F.mse_loss(input, target, reduction=self.reduction)\n"
     ]
    },
    {
     "name": "stdout",
     "output_type": "stream",
     "text": [
      "model weights grad :  tensor([-0.1459, -0.0004, -0.1932, -0.1704])\n",
      "model weights grad :  tensor([-0.0748, -0.0031, -0.1496, -0.0180])\n"
     ]
    },
    {
     "name": "stderr",
     "output_type": "stream",
     "text": [
      "/Users/yuksehyun/anaconda3/envs/qrf/lib/python3.12/site-packages/torch/nn/modules/loss.py:538: UserWarning: Using a target size (torch.Size([])) that is different to the input size (torch.Size([1])). This will likely lead to incorrect results due to broadcasting. Please ensure they have the same size.\n",
      "  return F.mse_loss(input, target, reduction=self.reduction)\n",
      "/Users/yuksehyun/anaconda3/envs/qrf/lib/python3.12/site-packages/torch/nn/modules/loss.py:538: UserWarning: Using a target size (torch.Size([])) that is different to the input size (torch.Size([1])). This will likely lead to incorrect results due to broadcasting. Please ensure they have the same size.\n",
      "  return F.mse_loss(input, target, reduction=self.reduction)\n",
      "/Users/yuksehyun/anaconda3/envs/qrf/lib/python3.12/site-packages/torch/nn/modules/loss.py:538: UserWarning: Using a target size (torch.Size([])) that is different to the input size (torch.Size([1])). This will likely lead to incorrect results due to broadcasting. Please ensure they have the same size.\n",
      "  return F.mse_loss(input, target, reduction=self.reduction)\n"
     ]
    },
    {
     "name": "stdout",
     "output_type": "stream",
     "text": [
      "model weights grad :  tensor([-0.1103, -0.5618, -0.5730, -0.5505])\n",
      "model weights grad :  tensor([-0.0771, -0.0667, -0.0024, -0.0874])\n",
      "model weights grad :  tensor([-0.0536, -0.1617, -0.0365, -0.1078])\n"
     ]
    },
    {
     "name": "stderr",
     "output_type": "stream",
     "text": [
      "/Users/yuksehyun/anaconda3/envs/qrf/lib/python3.12/site-packages/torch/nn/modules/loss.py:538: UserWarning: Using a target size (torch.Size([])) that is different to the input size (torch.Size([1])). This will likely lead to incorrect results due to broadcasting. Please ensure they have the same size.\n",
      "  return F.mse_loss(input, target, reduction=self.reduction)\n",
      "/Users/yuksehyun/anaconda3/envs/qrf/lib/python3.12/site-packages/torch/nn/modules/loss.py:538: UserWarning: Using a target size (torch.Size([])) that is different to the input size (torch.Size([1])). This will likely lead to incorrect results due to broadcasting. Please ensure they have the same size.\n",
      "  return F.mse_loss(input, target, reduction=self.reduction)\n",
      "/Users/yuksehyun/anaconda3/envs/qrf/lib/python3.12/site-packages/torch/nn/modules/loss.py:538: UserWarning: Using a target size (torch.Size([])) that is different to the input size (torch.Size([1])). This will likely lead to incorrect results due to broadcasting. Please ensure they have the same size.\n",
      "  return F.mse_loss(input, target, reduction=self.reduction)\n"
     ]
    },
    {
     "name": "stdout",
     "output_type": "stream",
     "text": [
      "model weights grad :  tensor([-0.1116, -0.0600, -0.1661, -0.1222])\n",
      "model weights grad :  tensor([0.0149, 0.0008, 0.0040, 0.0096])\n",
      "model weights grad :  tensor([-0.1581, -0.2930, -0.3126, -0.1987])\n"
     ]
    },
    {
     "name": "stderr",
     "output_type": "stream",
     "text": [
      "/Users/yuksehyun/anaconda3/envs/qrf/lib/python3.12/site-packages/torch/nn/modules/loss.py:538: UserWarning: Using a target size (torch.Size([])) that is different to the input size (torch.Size([1])). This will likely lead to incorrect results due to broadcasting. Please ensure they have the same size.\n",
      "  return F.mse_loss(input, target, reduction=self.reduction)\n",
      "/Users/yuksehyun/anaconda3/envs/qrf/lib/python3.12/site-packages/torch/nn/modules/loss.py:538: UserWarning: Using a target size (torch.Size([])) that is different to the input size (torch.Size([1])). This will likely lead to incorrect results due to broadcasting. Please ensure they have the same size.\n",
      "  return F.mse_loss(input, target, reduction=self.reduction)\n",
      "/Users/yuksehyun/anaconda3/envs/qrf/lib/python3.12/site-packages/torch/nn/modules/loss.py:538: UserWarning: Using a target size (torch.Size([])) that is different to the input size (torch.Size([1])). This will likely lead to incorrect results due to broadcasting. Please ensure they have the same size.\n",
      "  return F.mse_loss(input, target, reduction=self.reduction)\n"
     ]
    },
    {
     "name": "stdout",
     "output_type": "stream",
     "text": [
      "model weights grad :  tensor([-0.1887, -0.1340, -0.1275, -0.1201])\n",
      "model weights grad :  tensor([-0.1589, -0.4181, -0.1646, -0.4189])\n",
      "model weights grad :  tensor([-0.1178, -0.1198, -0.0069, -0.1040])\n"
     ]
    },
    {
     "name": "stderr",
     "output_type": "stream",
     "text": [
      "/Users/yuksehyun/anaconda3/envs/qrf/lib/python3.12/site-packages/torch/nn/modules/loss.py:538: UserWarning: Using a target size (torch.Size([])) that is different to the input size (torch.Size([1])). This will likely lead to incorrect results due to broadcasting. Please ensure they have the same size.\n",
      "  return F.mse_loss(input, target, reduction=self.reduction)\n",
      "/Users/yuksehyun/anaconda3/envs/qrf/lib/python3.12/site-packages/torch/nn/modules/loss.py:538: UserWarning: Using a target size (torch.Size([])) that is different to the input size (torch.Size([1])). This will likely lead to incorrect results due to broadcasting. Please ensure they have the same size.\n",
      "  return F.mse_loss(input, target, reduction=self.reduction)\n",
      "/Users/yuksehyun/anaconda3/envs/qrf/lib/python3.12/site-packages/torch/nn/modules/loss.py:538: UserWarning: Using a target size (torch.Size([])) that is different to the input size (torch.Size([1])). This will likely lead to incorrect results due to broadcasting. Please ensure they have the same size.\n",
      "  return F.mse_loss(input, target, reduction=self.reduction)\n"
     ]
    },
    {
     "name": "stdout",
     "output_type": "stream",
     "text": [
      "model weights grad :  tensor([-0.2725, -0.2169, -0.2071, -0.2466])\n",
      "model weights grad :  tensor([-0.1556, -0.3407, -0.2306, -0.3966])\n",
      "model weights grad :  tensor([-0.0079, -0.4141, -0.3407, -0.1673])\n"
     ]
    },
    {
     "name": "stderr",
     "output_type": "stream",
     "text": [
      "/Users/yuksehyun/anaconda3/envs/qrf/lib/python3.12/site-packages/torch/nn/modules/loss.py:538: UserWarning: Using a target size (torch.Size([])) that is different to the input size (torch.Size([1])). This will likely lead to incorrect results due to broadcasting. Please ensure they have the same size.\n",
      "  return F.mse_loss(input, target, reduction=self.reduction)\n",
      "/Users/yuksehyun/anaconda3/envs/qrf/lib/python3.12/site-packages/torch/nn/modules/loss.py:538: UserWarning: Using a target size (torch.Size([])) that is different to the input size (torch.Size([1])). This will likely lead to incorrect results due to broadcasting. Please ensure they have the same size.\n",
      "  return F.mse_loss(input, target, reduction=self.reduction)\n",
      "/Users/yuksehyun/anaconda3/envs/qrf/lib/python3.12/site-packages/torch/nn/modules/loss.py:538: UserWarning: Using a target size (torch.Size([])) that is different to the input size (torch.Size([1])). This will likely lead to incorrect results due to broadcasting. Please ensure they have the same size.\n",
      "  return F.mse_loss(input, target, reduction=self.reduction)\n"
     ]
    },
    {
     "name": "stdout",
     "output_type": "stream",
     "text": [
      "model weights grad :  tensor([-0.0435, -0.2520, -0.1442, -0.1201])\n",
      "model weights grad :  tensor([-0.0359, -0.1195, -0.1835, -0.0012])\n",
      "model weights grad :  tensor([-0.0766, -0.2677, -0.0019, -0.1651])\n"
     ]
    },
    {
     "name": "stderr",
     "output_type": "stream",
     "text": [
      "/Users/yuksehyun/anaconda3/envs/qrf/lib/python3.12/site-packages/torch/nn/modules/loss.py:538: UserWarning: Using a target size (torch.Size([])) that is different to the input size (torch.Size([1])). This will likely lead to incorrect results due to broadcasting. Please ensure they have the same size.\n",
      "  return F.mse_loss(input, target, reduction=self.reduction)\n",
      "/Users/yuksehyun/anaconda3/envs/qrf/lib/python3.12/site-packages/torch/nn/modules/loss.py:538: UserWarning: Using a target size (torch.Size([])) that is different to the input size (torch.Size([1])). This will likely lead to incorrect results due to broadcasting. Please ensure they have the same size.\n",
      "  return F.mse_loss(input, target, reduction=self.reduction)\n",
      "/Users/yuksehyun/anaconda3/envs/qrf/lib/python3.12/site-packages/torch/nn/modules/loss.py:538: UserWarning: Using a target size (torch.Size([])) that is different to the input size (torch.Size([1])). This will likely lead to incorrect results due to broadcasting. Please ensure they have the same size.\n",
      "  return F.mse_loss(input, target, reduction=self.reduction)\n"
     ]
    },
    {
     "name": "stdout",
     "output_type": "stream",
     "text": [
      "model weights grad :  tensor([-0.0559, -0.0564, -0.3307, -0.1777])\n",
      "model weights grad :  tensor([-0.0908, -0.1530, -0.0275, -0.0643])\n",
      "model weights grad :  tensor([-0.2888, -0.3349, -0.2799, -0.3506])\n"
     ]
    },
    {
     "name": "stderr",
     "output_type": "stream",
     "text": [
      "/Users/yuksehyun/anaconda3/envs/qrf/lib/python3.12/site-packages/torch/nn/modules/loss.py:538: UserWarning: Using a target size (torch.Size([])) that is different to the input size (torch.Size([1])). This will likely lead to incorrect results due to broadcasting. Please ensure they have the same size.\n",
      "  return F.mse_loss(input, target, reduction=self.reduction)\n",
      "/Users/yuksehyun/anaconda3/envs/qrf/lib/python3.12/site-packages/torch/nn/modules/loss.py:538: UserWarning: Using a target size (torch.Size([])) that is different to the input size (torch.Size([1])). This will likely lead to incorrect results due to broadcasting. Please ensure they have the same size.\n",
      "  return F.mse_loss(input, target, reduction=self.reduction)\n",
      "/Users/yuksehyun/anaconda3/envs/qrf/lib/python3.12/site-packages/torch/nn/modules/loss.py:538: UserWarning: Using a target size (torch.Size([])) that is different to the input size (torch.Size([1])). This will likely lead to incorrect results due to broadcasting. Please ensure they have the same size.\n",
      "  return F.mse_loss(input, target, reduction=self.reduction)\n"
     ]
    },
    {
     "name": "stdout",
     "output_type": "stream",
     "text": [
      "model weights grad :  tensor([-0.2160, -0.1678, -0.2250, -0.0377])\n",
      "model weights grad :  tensor([-0.2611, -0.2693, -0.1531, -0.2537])\n",
      "model weights grad :  tensor([-0.2127, -0.2722, -0.0876, -0.2644])\n"
     ]
    },
    {
     "name": "stderr",
     "output_type": "stream",
     "text": [
      "/Users/yuksehyun/anaconda3/envs/qrf/lib/python3.12/site-packages/torch/nn/modules/loss.py:538: UserWarning: Using a target size (torch.Size([])) that is different to the input size (torch.Size([1])). This will likely lead to incorrect results due to broadcasting. Please ensure they have the same size.\n",
      "  return F.mse_loss(input, target, reduction=self.reduction)\n",
      "/Users/yuksehyun/anaconda3/envs/qrf/lib/python3.12/site-packages/torch/nn/modules/loss.py:538: UserWarning: Using a target size (torch.Size([])) that is different to the input size (torch.Size([1])). This will likely lead to incorrect results due to broadcasting. Please ensure they have the same size.\n",
      "  return F.mse_loss(input, target, reduction=self.reduction)\n",
      "/Users/yuksehyun/anaconda3/envs/qrf/lib/python3.12/site-packages/torch/nn/modules/loss.py:538: UserWarning: Using a target size (torch.Size([])) that is different to the input size (torch.Size([1])). This will likely lead to incorrect results due to broadcasting. Please ensure they have the same size.\n",
      "  return F.mse_loss(input, target, reduction=self.reduction)\n"
     ]
    },
    {
     "name": "stdout",
     "output_type": "stream",
     "text": [
      "model weights grad :  tensor([-3.9075e-03, -1.4585e-03, -9.1824e-05, -3.7062e-03])\n",
      "model weights grad :  tensor([-0.0968, -0.0090, -0.2169, -0.0549])\n",
      "model weights grad :  tensor([-0.2399, -0.3977, -0.3604, -0.0648])\n"
     ]
    },
    {
     "name": "stderr",
     "output_type": "stream",
     "text": [
      "/Users/yuksehyun/anaconda3/envs/qrf/lib/python3.12/site-packages/torch/nn/modules/loss.py:538: UserWarning: Using a target size (torch.Size([])) that is different to the input size (torch.Size([1])). This will likely lead to incorrect results due to broadcasting. Please ensure they have the same size.\n",
      "  return F.mse_loss(input, target, reduction=self.reduction)\n",
      "/Users/yuksehyun/anaconda3/envs/qrf/lib/python3.12/site-packages/torch/nn/modules/loss.py:538: UserWarning: Using a target size (torch.Size([])) that is different to the input size (torch.Size([1])). This will likely lead to incorrect results due to broadcasting. Please ensure they have the same size.\n",
      "  return F.mse_loss(input, target, reduction=self.reduction)\n",
      "/Users/yuksehyun/anaconda3/envs/qrf/lib/python3.12/site-packages/torch/nn/modules/loss.py:538: UserWarning: Using a target size (torch.Size([])) that is different to the input size (torch.Size([1])). This will likely lead to incorrect results due to broadcasting. Please ensure they have the same size.\n",
      "  return F.mse_loss(input, target, reduction=self.reduction)\n"
     ]
    },
    {
     "name": "stdout",
     "output_type": "stream",
     "text": [
      "model weights grad :  tensor([-0.1860, -0.0887, -0.2502, -0.1557])\n",
      "model weights grad :  tensor([-0.2324, -0.2257, -0.2324, -0.1049])\n",
      "model weights grad :  tensor([-0.2474, -0.2542, -0.3854, -0.2697])\n"
     ]
    },
    {
     "name": "stderr",
     "output_type": "stream",
     "text": [
      "/Users/yuksehyun/anaconda3/envs/qrf/lib/python3.12/site-packages/torch/nn/modules/loss.py:538: UserWarning: Using a target size (torch.Size([])) that is different to the input size (torch.Size([1])). This will likely lead to incorrect results due to broadcasting. Please ensure they have the same size.\n",
      "  return F.mse_loss(input, target, reduction=self.reduction)\n",
      "/Users/yuksehyun/anaconda3/envs/qrf/lib/python3.12/site-packages/torch/nn/modules/loss.py:538: UserWarning: Using a target size (torch.Size([])) that is different to the input size (torch.Size([1])). This will likely lead to incorrect results due to broadcasting. Please ensure they have the same size.\n",
      "  return F.mse_loss(input, target, reduction=self.reduction)\n",
      "/Users/yuksehyun/anaconda3/envs/qrf/lib/python3.12/site-packages/torch/nn/modules/loss.py:538: UserWarning: Using a target size (torch.Size([])) that is different to the input size (torch.Size([1])). This will likely lead to incorrect results due to broadcasting. Please ensure they have the same size.\n",
      "  return F.mse_loss(input, target, reduction=self.reduction)\n"
     ]
    },
    {
     "name": "stdout",
     "output_type": "stream",
     "text": [
      "model weights grad :  tensor([-0.3039, -0.2332, -0.3337, -0.2845])\n",
      "model weights grad :  tensor([-0.1048, -0.1006, -0.2473, -0.0362])\n",
      "model weights grad :  tensor([-0.2532, -0.2267, -0.2575, -0.0017])\n"
     ]
    },
    {
     "name": "stderr",
     "output_type": "stream",
     "text": [
      "/Users/yuksehyun/anaconda3/envs/qrf/lib/python3.12/site-packages/torch/nn/modules/loss.py:538: UserWarning: Using a target size (torch.Size([])) that is different to the input size (torch.Size([1])). This will likely lead to incorrect results due to broadcasting. Please ensure they have the same size.\n",
      "  return F.mse_loss(input, target, reduction=self.reduction)\n",
      "/Users/yuksehyun/anaconda3/envs/qrf/lib/python3.12/site-packages/torch/nn/modules/loss.py:538: UserWarning: Using a target size (torch.Size([])) that is different to the input size (torch.Size([1])). This will likely lead to incorrect results due to broadcasting. Please ensure they have the same size.\n",
      "  return F.mse_loss(input, target, reduction=self.reduction)\n",
      "/Users/yuksehyun/anaconda3/envs/qrf/lib/python3.12/site-packages/torch/nn/modules/loss.py:538: UserWarning: Using a target size (torch.Size([])) that is different to the input size (torch.Size([1])). This will likely lead to incorrect results due to broadcasting. Please ensure they have the same size.\n",
      "  return F.mse_loss(input, target, reduction=self.reduction)\n"
     ]
    },
    {
     "name": "stdout",
     "output_type": "stream",
     "text": [
      "model weights grad :  tensor([-0.1825, -0.5155, -0.4419, -0.5089])\n",
      "model weights grad :  tensor([-0.1392, -0.0244, -0.2382, -0.0896])\n",
      "model weights grad :  tensor([0.0292, 0.0021, 0.0114, 0.0025])\n"
     ]
    },
    {
     "name": "stderr",
     "output_type": "stream",
     "text": [
      "/Users/yuksehyun/anaconda3/envs/qrf/lib/python3.12/site-packages/torch/nn/modules/loss.py:538: UserWarning: Using a target size (torch.Size([])) that is different to the input size (torch.Size([1])). This will likely lead to incorrect results due to broadcasting. Please ensure they have the same size.\n",
      "  return F.mse_loss(input, target, reduction=self.reduction)\n",
      "/Users/yuksehyun/anaconda3/envs/qrf/lib/python3.12/site-packages/torch/nn/modules/loss.py:538: UserWarning: Using a target size (torch.Size([])) that is different to the input size (torch.Size([1])). This will likely lead to incorrect results due to broadcasting. Please ensure they have the same size.\n",
      "  return F.mse_loss(input, target, reduction=self.reduction)\n",
      "/Users/yuksehyun/anaconda3/envs/qrf/lib/python3.12/site-packages/torch/nn/modules/loss.py:538: UserWarning: Using a target size (torch.Size([])) that is different to the input size (torch.Size([1])). This will likely lead to incorrect results due to broadcasting. Please ensure they have the same size.\n",
      "  return F.mse_loss(input, target, reduction=self.reduction)\n"
     ]
    },
    {
     "name": "stdout",
     "output_type": "stream",
     "text": [
      "model weights grad :  tensor([-0.0147, -0.4549, -0.1094, -0.4724])\n",
      "model weights grad :  tensor([-0.1698, -0.1848, -0.0758, -0.1074])\n",
      "model weights grad :  tensor([-0.0829, -0.0089, -0.1649, -0.2206])\n"
     ]
    },
    {
     "name": "stderr",
     "output_type": "stream",
     "text": [
      "/Users/yuksehyun/anaconda3/envs/qrf/lib/python3.12/site-packages/torch/nn/modules/loss.py:538: UserWarning: Using a target size (torch.Size([])) that is different to the input size (torch.Size([1])). This will likely lead to incorrect results due to broadcasting. Please ensure they have the same size.\n",
      "  return F.mse_loss(input, target, reduction=self.reduction)\n",
      "/Users/yuksehyun/anaconda3/envs/qrf/lib/python3.12/site-packages/torch/nn/modules/loss.py:538: UserWarning: Using a target size (torch.Size([])) that is different to the input size (torch.Size([1])). This will likely lead to incorrect results due to broadcasting. Please ensure they have the same size.\n",
      "  return F.mse_loss(input, target, reduction=self.reduction)\n",
      "/Users/yuksehyun/anaconda3/envs/qrf/lib/python3.12/site-packages/torch/nn/modules/loss.py:538: UserWarning: Using a target size (torch.Size([])) that is different to the input size (torch.Size([1])). This will likely lead to incorrect results due to broadcasting. Please ensure they have the same size.\n",
      "  return F.mse_loss(input, target, reduction=self.reduction)\n"
     ]
    },
    {
     "name": "stdout",
     "output_type": "stream",
     "text": [
      "model weights grad :  tensor([-0.1442, -0.0483, -0.1811, -0.0748])\n",
      "model weights grad :  tensor([-0.1761, -0.2735, -0.3788, -0.3437])\n",
      "model weights grad :  tensor([-0.0460, -0.0137, -0.0113, -0.0330])\n"
     ]
    },
    {
     "name": "stderr",
     "output_type": "stream",
     "text": [
      "/Users/yuksehyun/anaconda3/envs/qrf/lib/python3.12/site-packages/torch/nn/modules/loss.py:538: UserWarning: Using a target size (torch.Size([])) that is different to the input size (torch.Size([1])). This will likely lead to incorrect results due to broadcasting. Please ensure they have the same size.\n",
      "  return F.mse_loss(input, target, reduction=self.reduction)\n",
      "/Users/yuksehyun/anaconda3/envs/qrf/lib/python3.12/site-packages/torch/nn/modules/loss.py:538: UserWarning: Using a target size (torch.Size([])) that is different to the input size (torch.Size([1])). This will likely lead to incorrect results due to broadcasting. Please ensure they have the same size.\n",
      "  return F.mse_loss(input, target, reduction=self.reduction)\n",
      "/Users/yuksehyun/anaconda3/envs/qrf/lib/python3.12/site-packages/torch/nn/modules/loss.py:538: UserWarning: Using a target size (torch.Size([])) that is different to the input size (torch.Size([1])). This will likely lead to incorrect results due to broadcasting. Please ensure they have the same size.\n",
      "  return F.mse_loss(input, target, reduction=self.reduction)\n"
     ]
    },
    {
     "name": "stdout",
     "output_type": "stream",
     "text": [
      "model weights grad :  tensor([-0.1380, -0.0991, -0.0367, -0.1468])\n",
      "model weights grad :  tensor([-0.1412, -0.0417, -0.1788, -0.2394])\n",
      "model weights grad :  tensor([-0.1503, -0.4157, -0.2953, -0.0416])\n"
     ]
    },
    {
     "name": "stderr",
     "output_type": "stream",
     "text": [
      "/Users/yuksehyun/anaconda3/envs/qrf/lib/python3.12/site-packages/torch/nn/modules/loss.py:538: UserWarning: Using a target size (torch.Size([])) that is different to the input size (torch.Size([1])). This will likely lead to incorrect results due to broadcasting. Please ensure they have the same size.\n",
      "  return F.mse_loss(input, target, reduction=self.reduction)\n",
      "/Users/yuksehyun/anaconda3/envs/qrf/lib/python3.12/site-packages/torch/nn/modules/loss.py:538: UserWarning: Using a target size (torch.Size([])) that is different to the input size (torch.Size([1])). This will likely lead to incorrect results due to broadcasting. Please ensure they have the same size.\n",
      "  return F.mse_loss(input, target, reduction=self.reduction)\n",
      "/Users/yuksehyun/anaconda3/envs/qrf/lib/python3.12/site-packages/torch/nn/modules/loss.py:538: UserWarning: Using a target size (torch.Size([])) that is different to the input size (torch.Size([1])). This will likely lead to incorrect results due to broadcasting. Please ensure they have the same size.\n",
      "  return F.mse_loss(input, target, reduction=self.reduction)\n"
     ]
    },
    {
     "name": "stdout",
     "output_type": "stream",
     "text": [
      "model weights grad :  tensor([-0.0154, -0.1505, -0.2905, -0.3177])\n",
      "model weights grad :  tensor([-0.1751, -0.0289, -0.1561, -0.1118])\n",
      "model weights grad :  tensor([-0.1182, -0.1421, -0.0151, -0.0940])\n"
     ]
    },
    {
     "name": "stderr",
     "output_type": "stream",
     "text": [
      "/Users/yuksehyun/anaconda3/envs/qrf/lib/python3.12/site-packages/torch/nn/modules/loss.py:538: UserWarning: Using a target size (torch.Size([])) that is different to the input size (torch.Size([1])). This will likely lead to incorrect results due to broadcasting. Please ensure they have the same size.\n",
      "  return F.mse_loss(input, target, reduction=self.reduction)\n",
      "/Users/yuksehyun/anaconda3/envs/qrf/lib/python3.12/site-packages/torch/nn/modules/loss.py:538: UserWarning: Using a target size (torch.Size([])) that is different to the input size (torch.Size([1])). This will likely lead to incorrect results due to broadcasting. Please ensure they have the same size.\n",
      "  return F.mse_loss(input, target, reduction=self.reduction)\n",
      "/Users/yuksehyun/anaconda3/envs/qrf/lib/python3.12/site-packages/torch/nn/modules/loss.py:538: UserWarning: Using a target size (torch.Size([])) that is different to the input size (torch.Size([1])). This will likely lead to incorrect results due to broadcasting. Please ensure they have the same size.\n",
      "  return F.mse_loss(input, target, reduction=self.reduction)\n"
     ]
    },
    {
     "name": "stdout",
     "output_type": "stream",
     "text": [
      "model weights grad :  tensor([-0.1046, -0.0084, -0.0902, -0.2236])\n",
      "model weights grad :  tensor([-0.1312, -0.1442, -0.0339, -0.0921])\n",
      "model weights grad :  tensor([-0.1169, -0.2164, -0.1975, -0.0526])\n"
     ]
    },
    {
     "name": "stderr",
     "output_type": "stream",
     "text": [
      "/Users/yuksehyun/anaconda3/envs/qrf/lib/python3.12/site-packages/torch/nn/modules/loss.py:538: UserWarning: Using a target size (torch.Size([])) that is different to the input size (torch.Size([1])). This will likely lead to incorrect results due to broadcasting. Please ensure they have the same size.\n",
      "  return F.mse_loss(input, target, reduction=self.reduction)\n",
      "/Users/yuksehyun/anaconda3/envs/qrf/lib/python3.12/site-packages/torch/nn/modules/loss.py:538: UserWarning: Using a target size (torch.Size([])) that is different to the input size (torch.Size([1])). This will likely lead to incorrect results due to broadcasting. Please ensure they have the same size.\n",
      "  return F.mse_loss(input, target, reduction=self.reduction)\n",
      "/Users/yuksehyun/anaconda3/envs/qrf/lib/python3.12/site-packages/torch/nn/modules/loss.py:538: UserWarning: Using a target size (torch.Size([])) that is different to the input size (torch.Size([1])). This will likely lead to incorrect results due to broadcasting. Please ensure they have the same size.\n",
      "  return F.mse_loss(input, target, reduction=self.reduction)\n"
     ]
    },
    {
     "name": "stdout",
     "output_type": "stream",
     "text": [
      "model weights grad :  tensor([-0.1912, -0.1258, -0.1114, -0.2119])\n",
      "model weights grad :  tensor([-0.2107, -0.3306, -0.2027, -0.3192])\n",
      "model weights grad :  tensor([-0.1345, -0.1108, -0.1726, -0.0277])\n"
     ]
    },
    {
     "name": "stderr",
     "output_type": "stream",
     "text": [
      "/Users/yuksehyun/anaconda3/envs/qrf/lib/python3.12/site-packages/torch/nn/modules/loss.py:538: UserWarning: Using a target size (torch.Size([])) that is different to the input size (torch.Size([1])). This will likely lead to incorrect results due to broadcasting. Please ensure they have the same size.\n",
      "  return F.mse_loss(input, target, reduction=self.reduction)\n",
      "/Users/yuksehyun/anaconda3/envs/qrf/lib/python3.12/site-packages/torch/nn/modules/loss.py:538: UserWarning: Using a target size (torch.Size([])) that is different to the input size (torch.Size([1])). This will likely lead to incorrect results due to broadcasting. Please ensure they have the same size.\n",
      "  return F.mse_loss(input, target, reduction=self.reduction)\n",
      "/Users/yuksehyun/anaconda3/envs/qrf/lib/python3.12/site-packages/torch/nn/modules/loss.py:538: UserWarning: Using a target size (torch.Size([])) that is different to the input size (torch.Size([1])). This will likely lead to incorrect results due to broadcasting. Please ensure they have the same size.\n",
      "  return F.mse_loss(input, target, reduction=self.reduction)\n"
     ]
    },
    {
     "name": "stdout",
     "output_type": "stream",
     "text": [
      "model weights grad :  tensor([-0.1514, -0.0460, -0.1276, -0.1692])\n",
      "model weights grad :  tensor([-0.0393, -0.2197, -0.1721, -0.0292])\n",
      "model weights grad :  tensor([-5.6541e-02, -3.2554e-02, -7.7359e-05, -6.9595e-02])\n"
     ]
    },
    {
     "name": "stderr",
     "output_type": "stream",
     "text": [
      "/Users/yuksehyun/anaconda3/envs/qrf/lib/python3.12/site-packages/torch/nn/modules/loss.py:538: UserWarning: Using a target size (torch.Size([])) that is different to the input size (torch.Size([1])). This will likely lead to incorrect results due to broadcasting. Please ensure they have the same size.\n",
      "  return F.mse_loss(input, target, reduction=self.reduction)\n",
      "/Users/yuksehyun/anaconda3/envs/qrf/lib/python3.12/site-packages/torch/nn/modules/loss.py:538: UserWarning: Using a target size (torch.Size([])) that is different to the input size (torch.Size([1])). This will likely lead to incorrect results due to broadcasting. Please ensure they have the same size.\n",
      "  return F.mse_loss(input, target, reduction=self.reduction)\n",
      "/Users/yuksehyun/anaconda3/envs/qrf/lib/python3.12/site-packages/torch/nn/modules/loss.py:538: UserWarning: Using a target size (torch.Size([])) that is different to the input size (torch.Size([1])). This will likely lead to incorrect results due to broadcasting. Please ensure they have the same size.\n",
      "  return F.mse_loss(input, target, reduction=self.reduction)\n"
     ]
    },
    {
     "name": "stdout",
     "output_type": "stream",
     "text": [
      "model weights grad :  tensor([-0.1507, -0.2451, -0.1223, -0.0413])\n",
      "model weights grad :  tensor([-0.0380, -0.0309, -0.0214, -0.0264])\n",
      "model weights grad :  tensor([-0.0357, -0.0169, -0.3878, -0.4500])\n"
     ]
    },
    {
     "name": "stderr",
     "output_type": "stream",
     "text": [
      "/Users/yuksehyun/anaconda3/envs/qrf/lib/python3.12/site-packages/torch/nn/modules/loss.py:538: UserWarning: Using a target size (torch.Size([])) that is different to the input size (torch.Size([1])). This will likely lead to incorrect results due to broadcasting. Please ensure they have the same size.\n",
      "  return F.mse_loss(input, target, reduction=self.reduction)\n",
      "/Users/yuksehyun/anaconda3/envs/qrf/lib/python3.12/site-packages/torch/nn/modules/loss.py:538: UserWarning: Using a target size (torch.Size([])) that is different to the input size (torch.Size([1])). This will likely lead to incorrect results due to broadcasting. Please ensure they have the same size.\n",
      "  return F.mse_loss(input, target, reduction=self.reduction)\n"
     ]
    },
    {
     "name": "stdout",
     "output_type": "stream",
     "text": [
      "model weights grad :  tensor([-0.0344, -0.1180, -0.0800, -0.2538])\n",
      "model weights grad :  tensor([-0.1717, -0.0571, -0.1748, -0.1012])\n"
     ]
    },
    {
     "name": "stderr",
     "output_type": "stream",
     "text": [
      "/Users/yuksehyun/anaconda3/envs/qrf/lib/python3.12/site-packages/torch/nn/modules/loss.py:538: UserWarning: Using a target size (torch.Size([])) that is different to the input size (torch.Size([1])). This will likely lead to incorrect results due to broadcasting. Please ensure they have the same size.\n",
      "  return F.mse_loss(input, target, reduction=self.reduction)\n",
      "/Users/yuksehyun/anaconda3/envs/qrf/lib/python3.12/site-packages/torch/nn/modules/loss.py:538: UserWarning: Using a target size (torch.Size([])) that is different to the input size (torch.Size([1])). This will likely lead to incorrect results due to broadcasting. Please ensure they have the same size.\n",
      "  return F.mse_loss(input, target, reduction=self.reduction)\n",
      "/Users/yuksehyun/anaconda3/envs/qrf/lib/python3.12/site-packages/torch/nn/modules/loss.py:538: UserWarning: Using a target size (torch.Size([])) that is different to the input size (torch.Size([1])). This will likely lead to incorrect results due to broadcasting. Please ensure they have the same size.\n",
      "  return F.mse_loss(input, target, reduction=self.reduction)\n"
     ]
    },
    {
     "name": "stdout",
     "output_type": "stream",
     "text": [
      "model weights grad :  tensor([-0.0726, -0.1641, -0.0905, -0.1222])\n",
      "model weights grad :  tensor([-0.2937, -0.3711, -0.4094, -0.3285])\n",
      "model weights grad :  tensor([-0.1140, -0.2774, -0.1057, -0.1421])\n"
     ]
    },
    {
     "name": "stderr",
     "output_type": "stream",
     "text": [
      "/Users/yuksehyun/anaconda3/envs/qrf/lib/python3.12/site-packages/torch/nn/modules/loss.py:538: UserWarning: Using a target size (torch.Size([])) that is different to the input size (torch.Size([1])). This will likely lead to incorrect results due to broadcasting. Please ensure they have the same size.\n",
      "  return F.mse_loss(input, target, reduction=self.reduction)\n",
      "/Users/yuksehyun/anaconda3/envs/qrf/lib/python3.12/site-packages/torch/nn/modules/loss.py:538: UserWarning: Using a target size (torch.Size([])) that is different to the input size (torch.Size([1])). This will likely lead to incorrect results due to broadcasting. Please ensure they have the same size.\n",
      "  return F.mse_loss(input, target, reduction=self.reduction)\n",
      "/Users/yuksehyun/anaconda3/envs/qrf/lib/python3.12/site-packages/torch/nn/modules/loss.py:538: UserWarning: Using a target size (torch.Size([])) that is different to the input size (torch.Size([1])). This will likely lead to incorrect results due to broadcasting. Please ensure they have the same size.\n",
      "  return F.mse_loss(input, target, reduction=self.reduction)\n"
     ]
    },
    {
     "name": "stdout",
     "output_type": "stream",
     "text": [
      "model weights grad :  tensor([-0.0765, -0.0492, -0.0317, -0.2053])\n",
      "model weights grad :  tensor([-0.1526, -0.0036, -0.1819, -0.1054])\n",
      "model weights grad :  tensor([-0.2456, -0.2701, -0.3531, -0.0825])\n"
     ]
    },
    {
     "name": "stderr",
     "output_type": "stream",
     "text": [
      "/Users/yuksehyun/anaconda3/envs/qrf/lib/python3.12/site-packages/torch/nn/modules/loss.py:538: UserWarning: Using a target size (torch.Size([])) that is different to the input size (torch.Size([1])). This will likely lead to incorrect results due to broadcasting. Please ensure they have the same size.\n",
      "  return F.mse_loss(input, target, reduction=self.reduction)\n",
      "/Users/yuksehyun/anaconda3/envs/qrf/lib/python3.12/site-packages/torch/nn/modules/loss.py:538: UserWarning: Using a target size (torch.Size([])) that is different to the input size (torch.Size([1])). This will likely lead to incorrect results due to broadcasting. Please ensure they have the same size.\n",
      "  return F.mse_loss(input, target, reduction=self.reduction)\n",
      "/Users/yuksehyun/anaconda3/envs/qrf/lib/python3.12/site-packages/torch/nn/modules/loss.py:538: UserWarning: Using a target size (torch.Size([])) that is different to the input size (torch.Size([1])). This will likely lead to incorrect results due to broadcasting. Please ensure they have the same size.\n",
      "  return F.mse_loss(input, target, reduction=self.reduction)\n"
     ]
    },
    {
     "name": "stdout",
     "output_type": "stream",
     "text": [
      "model weights grad :  tensor([0.0454, 0.0176, 0.0011, 0.0040])\n",
      "model weights grad :  tensor([-0.0656, -0.4044, -0.1734, -0.4658])\n",
      "model weights grad :  tensor([0.0060, 0.0017, 0.0018, 0.0012])\n"
     ]
    },
    {
     "name": "stderr",
     "output_type": "stream",
     "text": [
      "/Users/yuksehyun/anaconda3/envs/qrf/lib/python3.12/site-packages/torch/nn/modules/loss.py:538: UserWarning: Using a target size (torch.Size([])) that is different to the input size (torch.Size([1])). This will likely lead to incorrect results due to broadcasting. Please ensure they have the same size.\n",
      "  return F.mse_loss(input, target, reduction=self.reduction)\n",
      "/Users/yuksehyun/anaconda3/envs/qrf/lib/python3.12/site-packages/torch/nn/modules/loss.py:538: UserWarning: Using a target size (torch.Size([])) that is different to the input size (torch.Size([1])). This will likely lead to incorrect results due to broadcasting. Please ensure they have the same size.\n",
      "  return F.mse_loss(input, target, reduction=self.reduction)\n",
      "/Users/yuksehyun/anaconda3/envs/qrf/lib/python3.12/site-packages/torch/nn/modules/loss.py:538: UserWarning: Using a target size (torch.Size([])) that is different to the input size (torch.Size([1])). This will likely lead to incorrect results due to broadcasting. Please ensure they have the same size.\n",
      "  return F.mse_loss(input, target, reduction=self.reduction)\n"
     ]
    },
    {
     "name": "stdout",
     "output_type": "stream",
     "text": [
      "model weights grad :  tensor([-0.1518, -0.3045, -0.2028, -0.2196])\n",
      "model weights grad :  tensor([-0.2141, -0.2719, -0.3544, -0.0157])\n",
      "model weights grad :  tensor([-0.2919, -0.3516, -0.4048, -0.3845])\n"
     ]
    },
    {
     "name": "stderr",
     "output_type": "stream",
     "text": [
      "/Users/yuksehyun/anaconda3/envs/qrf/lib/python3.12/site-packages/torch/nn/modules/loss.py:538: UserWarning: Using a target size (torch.Size([])) that is different to the input size (torch.Size([1])). This will likely lead to incorrect results due to broadcasting. Please ensure they have the same size.\n",
      "  return F.mse_loss(input, target, reduction=self.reduction)\n",
      "/Users/yuksehyun/anaconda3/envs/qrf/lib/python3.12/site-packages/torch/nn/modules/loss.py:538: UserWarning: Using a target size (torch.Size([])) that is different to the input size (torch.Size([1])). This will likely lead to incorrect results due to broadcasting. Please ensure they have the same size.\n",
      "  return F.mse_loss(input, target, reduction=self.reduction)\n",
      "/Users/yuksehyun/anaconda3/envs/qrf/lib/python3.12/site-packages/torch/nn/modules/loss.py:538: UserWarning: Using a target size (torch.Size([])) that is different to the input size (torch.Size([1])). This will likely lead to incorrect results due to broadcasting. Please ensure they have the same size.\n",
      "  return F.mse_loss(input, target, reduction=self.reduction)\n"
     ]
    },
    {
     "name": "stdout",
     "output_type": "stream",
     "text": [
      "model weights grad :  tensor([-0.0726, -0.0739, -0.0044, -0.0337])\n",
      "model weights grad :  tensor([-0.0587, -0.0430, -0.2625, -0.3280])\n",
      "model weights grad :  tensor([-0.0956, -0.0025, -0.0906, -0.0051])\n"
     ]
    },
    {
     "name": "stderr",
     "output_type": "stream",
     "text": [
      "/Users/yuksehyun/anaconda3/envs/qrf/lib/python3.12/site-packages/torch/nn/modules/loss.py:538: UserWarning: Using a target size (torch.Size([])) that is different to the input size (torch.Size([1])). This will likely lead to incorrect results due to broadcasting. Please ensure they have the same size.\n",
      "  return F.mse_loss(input, target, reduction=self.reduction)\n",
      "/Users/yuksehyun/anaconda3/envs/qrf/lib/python3.12/site-packages/torch/nn/modules/loss.py:538: UserWarning: Using a target size (torch.Size([])) that is different to the input size (torch.Size([1])). This will likely lead to incorrect results due to broadcasting. Please ensure they have the same size.\n",
      "  return F.mse_loss(input, target, reduction=self.reduction)\n",
      "/Users/yuksehyun/anaconda3/envs/qrf/lib/python3.12/site-packages/torch/nn/modules/loss.py:538: UserWarning: Using a target size (torch.Size([])) that is different to the input size (torch.Size([1])). This will likely lead to incorrect results due to broadcasting. Please ensure they have the same size.\n",
      "  return F.mse_loss(input, target, reduction=self.reduction)\n"
     ]
    },
    {
     "name": "stdout",
     "output_type": "stream",
     "text": [
      "model weights grad :  tensor([-0.0643, -0.0148, -0.4377, -0.2434])\n",
      "model weights grad :  tensor([-0.0622, -0.1030, -0.0232, -0.2623])\n",
      "model weights grad :  tensor([-0.1459, -0.2678, -0.3080, -0.0203])\n"
     ]
    },
    {
     "name": "stderr",
     "output_type": "stream",
     "text": [
      "/Users/yuksehyun/anaconda3/envs/qrf/lib/python3.12/site-packages/torch/nn/modules/loss.py:538: UserWarning: Using a target size (torch.Size([])) that is different to the input size (torch.Size([1])). This will likely lead to incorrect results due to broadcasting. Please ensure they have the same size.\n",
      "  return F.mse_loss(input, target, reduction=self.reduction)\n",
      "/Users/yuksehyun/anaconda3/envs/qrf/lib/python3.12/site-packages/torch/nn/modules/loss.py:538: UserWarning: Using a target size (torch.Size([])) that is different to the input size (torch.Size([1])). This will likely lead to incorrect results due to broadcasting. Please ensure they have the same size.\n",
      "  return F.mse_loss(input, target, reduction=self.reduction)\n",
      "/Users/yuksehyun/anaconda3/envs/qrf/lib/python3.12/site-packages/torch/nn/modules/loss.py:538: UserWarning: Using a target size (torch.Size([])) that is different to the input size (torch.Size([1])). This will likely lead to incorrect results due to broadcasting. Please ensure they have the same size.\n",
      "  return F.mse_loss(input, target, reduction=self.reduction)\n"
     ]
    },
    {
     "name": "stdout",
     "output_type": "stream",
     "text": [
      "model weights grad :  tensor([-0.1522, -0.2480, -0.0453, -0.2062])\n",
      "model weights grad :  tensor([-0.1553, -0.1123, -0.0939, -0.0884])\n",
      "model weights grad :  tensor([-0.0365, -0.0135, -0.0075, -0.0134])\n"
     ]
    },
    {
     "name": "stderr",
     "output_type": "stream",
     "text": [
      "/Users/yuksehyun/anaconda3/envs/qrf/lib/python3.12/site-packages/torch/nn/modules/loss.py:538: UserWarning: Using a target size (torch.Size([])) that is different to the input size (torch.Size([1])). This will likely lead to incorrect results due to broadcasting. Please ensure they have the same size.\n",
      "  return F.mse_loss(input, target, reduction=self.reduction)\n",
      "/Users/yuksehyun/anaconda3/envs/qrf/lib/python3.12/site-packages/torch/nn/modules/loss.py:538: UserWarning: Using a target size (torch.Size([])) that is different to the input size (torch.Size([1])). This will likely lead to incorrect results due to broadcasting. Please ensure they have the same size.\n",
      "  return F.mse_loss(input, target, reduction=self.reduction)\n"
     ]
    },
    {
     "name": "stdout",
     "output_type": "stream",
     "text": [
      "model weights grad :  tensor([-0.2153, -0.2624, -0.4380, -0.3498])\n",
      "model weights grad :  tensor([-0.1835, -0.1586, -0.0793, -0.1856])\n"
     ]
    },
    {
     "name": "stderr",
     "output_type": "stream",
     "text": [
      "/Users/yuksehyun/anaconda3/envs/qrf/lib/python3.12/site-packages/torch/nn/modules/loss.py:538: UserWarning: Using a target size (torch.Size([])) that is different to the input size (torch.Size([1])). This will likely lead to incorrect results due to broadcasting. Please ensure they have the same size.\n",
      "  return F.mse_loss(input, target, reduction=self.reduction)\n",
      "/Users/yuksehyun/anaconda3/envs/qrf/lib/python3.12/site-packages/torch/nn/modules/loss.py:538: UserWarning: Using a target size (torch.Size([])) that is different to the input size (torch.Size([1])). This will likely lead to incorrect results due to broadcasting. Please ensure they have the same size.\n",
      "  return F.mse_loss(input, target, reduction=self.reduction)\n",
      "/Users/yuksehyun/anaconda3/envs/qrf/lib/python3.12/site-packages/torch/nn/modules/loss.py:538: UserWarning: Using a target size (torch.Size([])) that is different to the input size (torch.Size([1])). This will likely lead to incorrect results due to broadcasting. Please ensure they have the same size.\n",
      "  return F.mse_loss(input, target, reduction=self.reduction)\n"
     ]
    },
    {
     "name": "stdout",
     "output_type": "stream",
     "text": [
      "model weights grad :  tensor([-0.1226, -0.1082, -0.0425, -0.0513])\n",
      "model weights grad :  tensor([-7.0979e-05, -1.6727e-05, -2.8737e-06, -1.3046e-05])\n",
      "model weights grad :  tensor([-0.1114, -0.0322, -0.0831, -0.0452])\n"
     ]
    },
    {
     "name": "stderr",
     "output_type": "stream",
     "text": [
      "/Users/yuksehyun/anaconda3/envs/qrf/lib/python3.12/site-packages/torch/nn/modules/loss.py:538: UserWarning: Using a target size (torch.Size([])) that is different to the input size (torch.Size([1])). This will likely lead to incorrect results due to broadcasting. Please ensure they have the same size.\n",
      "  return F.mse_loss(input, target, reduction=self.reduction)\n",
      "/Users/yuksehyun/anaconda3/envs/qrf/lib/python3.12/site-packages/torch/nn/modules/loss.py:538: UserWarning: Using a target size (torch.Size([])) that is different to the input size (torch.Size([1])). This will likely lead to incorrect results due to broadcasting. Please ensure they have the same size.\n",
      "  return F.mse_loss(input, target, reduction=self.reduction)\n",
      "/Users/yuksehyun/anaconda3/envs/qrf/lib/python3.12/site-packages/torch/nn/modules/loss.py:538: UserWarning: Using a target size (torch.Size([])) that is different to the input size (torch.Size([1])). This will likely lead to incorrect results due to broadcasting. Please ensure they have the same size.\n",
      "  return F.mse_loss(input, target, reduction=self.reduction)\n"
     ]
    },
    {
     "name": "stdout",
     "output_type": "stream",
     "text": [
      "model weights grad :  tensor([-0.0712, -0.1408, -0.1327, -0.0688])\n",
      "model weights grad :  tensor([-0.1044, -0.1243, -0.0191, -0.0814])\n",
      "model weights grad :  tensor([-0.0320, -0.0179, -0.0049, -0.0608])\n"
     ]
    },
    {
     "name": "stderr",
     "output_type": "stream",
     "text": [
      "/Users/yuksehyun/anaconda3/envs/qrf/lib/python3.12/site-packages/torch/nn/modules/loss.py:538: UserWarning: Using a target size (torch.Size([])) that is different to the input size (torch.Size([1])). This will likely lead to incorrect results due to broadcasting. Please ensure they have the same size.\n",
      "  return F.mse_loss(input, target, reduction=self.reduction)\n",
      "/Users/yuksehyun/anaconda3/envs/qrf/lib/python3.12/site-packages/torch/nn/modules/loss.py:538: UserWarning: Using a target size (torch.Size([])) that is different to the input size (torch.Size([1])). This will likely lead to incorrect results due to broadcasting. Please ensure they have the same size.\n",
      "  return F.mse_loss(input, target, reduction=self.reduction)\n",
      "/Users/yuksehyun/anaconda3/envs/qrf/lib/python3.12/site-packages/torch/nn/modules/loss.py:538: UserWarning: Using a target size (torch.Size([])) that is different to the input size (torch.Size([1])). This will likely lead to incorrect results due to broadcasting. Please ensure they have the same size.\n",
      "  return F.mse_loss(input, target, reduction=self.reduction)\n"
     ]
    },
    {
     "name": "stdout",
     "output_type": "stream",
     "text": [
      "model weights grad :  tensor([-0.0936, -0.2707, -0.0497, -0.1651])\n",
      "model weights grad :  tensor([-0.0538, -0.0540, -0.1144, -0.2912])\n",
      "model weights grad :  tensor([-0.1643, -0.3137, -0.2031, -0.1868])\n"
     ]
    },
    {
     "name": "stderr",
     "output_type": "stream",
     "text": [
      "/Users/yuksehyun/anaconda3/envs/qrf/lib/python3.12/site-packages/torch/nn/modules/loss.py:538: UserWarning: Using a target size (torch.Size([])) that is different to the input size (torch.Size([1])). This will likely lead to incorrect results due to broadcasting. Please ensure they have the same size.\n",
      "  return F.mse_loss(input, target, reduction=self.reduction)\n",
      "/Users/yuksehyun/anaconda3/envs/qrf/lib/python3.12/site-packages/torch/nn/modules/loss.py:538: UserWarning: Using a target size (torch.Size([])) that is different to the input size (torch.Size([1])). This will likely lead to incorrect results due to broadcasting. Please ensure they have the same size.\n",
      "  return F.mse_loss(input, target, reduction=self.reduction)\n",
      "/Users/yuksehyun/anaconda3/envs/qrf/lib/python3.12/site-packages/torch/nn/modules/loss.py:538: UserWarning: Using a target size (torch.Size([])) that is different to the input size (torch.Size([1])). This will likely lead to incorrect results due to broadcasting. Please ensure they have the same size.\n",
      "  return F.mse_loss(input, target, reduction=self.reduction)\n"
     ]
    },
    {
     "name": "stdout",
     "output_type": "stream",
     "text": [
      "model weights grad :  tensor([-0.1910, -0.0824, -0.3772, -0.3488])\n",
      "model weights grad :  tensor([-0.1217, -0.1330, -0.0651, -0.2212])\n",
      "model weights grad :  tensor([-0.2288, -0.0864, -0.2566, -0.2413])\n"
     ]
    },
    {
     "name": "stderr",
     "output_type": "stream",
     "text": [
      "/Users/yuksehyun/anaconda3/envs/qrf/lib/python3.12/site-packages/torch/nn/modules/loss.py:538: UserWarning: Using a target size (torch.Size([])) that is different to the input size (torch.Size([1])). This will likely lead to incorrect results due to broadcasting. Please ensure they have the same size.\n",
      "  return F.mse_loss(input, target, reduction=self.reduction)\n",
      "/Users/yuksehyun/anaconda3/envs/qrf/lib/python3.12/site-packages/torch/nn/modules/loss.py:538: UserWarning: Using a target size (torch.Size([])) that is different to the input size (torch.Size([1])). This will likely lead to incorrect results due to broadcasting. Please ensure they have the same size.\n",
      "  return F.mse_loss(input, target, reduction=self.reduction)\n",
      "/Users/yuksehyun/anaconda3/envs/qrf/lib/python3.12/site-packages/torch/nn/modules/loss.py:538: UserWarning: Using a target size (torch.Size([])) that is different to the input size (torch.Size([1])). This will likely lead to incorrect results due to broadcasting. Please ensure they have the same size.\n",
      "  return F.mse_loss(input, target, reduction=self.reduction)\n"
     ]
    },
    {
     "name": "stdout",
     "output_type": "stream",
     "text": [
      "model weights grad :  tensor([-0.1318, -0.1122, -0.0857, -0.0138])\n",
      "model weights grad :  tensor([-0.0021, -0.0334, -0.0270, -0.0289])\n",
      "model weights grad :  tensor([-0.0764, -0.1001, -0.0248, -0.0175])\n"
     ]
    },
    {
     "name": "stderr",
     "output_type": "stream",
     "text": [
      "/Users/yuksehyun/anaconda3/envs/qrf/lib/python3.12/site-packages/torch/nn/modules/loss.py:538: UserWarning: Using a target size (torch.Size([])) that is different to the input size (torch.Size([1])). This will likely lead to incorrect results due to broadcasting. Please ensure they have the same size.\n",
      "  return F.mse_loss(input, target, reduction=self.reduction)\n",
      "/Users/yuksehyun/anaconda3/envs/qrf/lib/python3.12/site-packages/torch/nn/modules/loss.py:538: UserWarning: Using a target size (torch.Size([])) that is different to the input size (torch.Size([1])). This will likely lead to incorrect results due to broadcasting. Please ensure they have the same size.\n",
      "  return F.mse_loss(input, target, reduction=self.reduction)\n",
      "/Users/yuksehyun/anaconda3/envs/qrf/lib/python3.12/site-packages/torch/nn/modules/loss.py:538: UserWarning: Using a target size (torch.Size([])) that is different to the input size (torch.Size([1])). This will likely lead to incorrect results due to broadcasting. Please ensure they have the same size.\n",
      "  return F.mse_loss(input, target, reduction=self.reduction)\n"
     ]
    },
    {
     "name": "stdout",
     "output_type": "stream",
     "text": [
      "model weights grad :  tensor([-0.1098, -0.2012, -0.2974, -0.2706])\n",
      "model weights grad :  tensor([-0.1105, -0.0252, -0.1713, -0.0129])\n",
      "model weights grad :  tensor([-0.0605, -0.0555, -0.0004, -0.0843])\n"
     ]
    },
    {
     "name": "stderr",
     "output_type": "stream",
     "text": [
      "/Users/yuksehyun/anaconda3/envs/qrf/lib/python3.12/site-packages/torch/nn/modules/loss.py:538: UserWarning: Using a target size (torch.Size([])) that is different to the input size (torch.Size([1])). This will likely lead to incorrect results due to broadcasting. Please ensure they have the same size.\n",
      "  return F.mse_loss(input, target, reduction=self.reduction)\n",
      "/Users/yuksehyun/anaconda3/envs/qrf/lib/python3.12/site-packages/torch/nn/modules/loss.py:538: UserWarning: Using a target size (torch.Size([])) that is different to the input size (torch.Size([1])). This will likely lead to incorrect results due to broadcasting. Please ensure they have the same size.\n",
      "  return F.mse_loss(input, target, reduction=self.reduction)\n",
      "/Users/yuksehyun/anaconda3/envs/qrf/lib/python3.12/site-packages/torch/nn/modules/loss.py:538: UserWarning: Using a target size (torch.Size([])) that is different to the input size (torch.Size([1])). This will likely lead to incorrect results due to broadcasting. Please ensure they have the same size.\n",
      "  return F.mse_loss(input, target, reduction=self.reduction)\n"
     ]
    },
    {
     "name": "stdout",
     "output_type": "stream",
     "text": [
      "model weights grad :  tensor([-0.0968, -0.2219, -0.1187, -0.1269])\n",
      "model weights grad :  tensor([-0.1518, -0.2166, -0.2878, -0.4119])\n",
      "model weights grad :  tensor([-0.1214, -0.1055, -0.0797, -0.0452])\n"
     ]
    },
    {
     "name": "stderr",
     "output_type": "stream",
     "text": [
      "/Users/yuksehyun/anaconda3/envs/qrf/lib/python3.12/site-packages/torch/nn/modules/loss.py:538: UserWarning: Using a target size (torch.Size([])) that is different to the input size (torch.Size([1])). This will likely lead to incorrect results due to broadcasting. Please ensure they have the same size.\n",
      "  return F.mse_loss(input, target, reduction=self.reduction)\n",
      "/Users/yuksehyun/anaconda3/envs/qrf/lib/python3.12/site-packages/torch/nn/modules/loss.py:538: UserWarning: Using a target size (torch.Size([])) that is different to the input size (torch.Size([1])). This will likely lead to incorrect results due to broadcasting. Please ensure they have the same size.\n",
      "  return F.mse_loss(input, target, reduction=self.reduction)\n",
      "/Users/yuksehyun/anaconda3/envs/qrf/lib/python3.12/site-packages/torch/nn/modules/loss.py:538: UserWarning: Using a target size (torch.Size([])) that is different to the input size (torch.Size([1])). This will likely lead to incorrect results due to broadcasting. Please ensure they have the same size.\n",
      "  return F.mse_loss(input, target, reduction=self.reduction)\n"
     ]
    },
    {
     "name": "stdout",
     "output_type": "stream",
     "text": [
      "model weights grad :  tensor([0.0195, 0.0013, 0.0051, 0.0099])\n",
      "model weights grad :  tensor([-0.1379, -0.1119, -0.0590, -0.0791])\n",
      "model weights grad :  tensor([-0.2344, -0.2765, -0.2241, -0.2511])\n"
     ]
    },
    {
     "name": "stderr",
     "output_type": "stream",
     "text": [
      "/Users/yuksehyun/anaconda3/envs/qrf/lib/python3.12/site-packages/torch/nn/modules/loss.py:538: UserWarning: Using a target size (torch.Size([])) that is different to the input size (torch.Size([1])). This will likely lead to incorrect results due to broadcasting. Please ensure they have the same size.\n",
      "  return F.mse_loss(input, target, reduction=self.reduction)\n",
      "/Users/yuksehyun/anaconda3/envs/qrf/lib/python3.12/site-packages/torch/nn/modules/loss.py:538: UserWarning: Using a target size (torch.Size([])) that is different to the input size (torch.Size([1])). This will likely lead to incorrect results due to broadcasting. Please ensure they have the same size.\n",
      "  return F.mse_loss(input, target, reduction=self.reduction)\n",
      "/Users/yuksehyun/anaconda3/envs/qrf/lib/python3.12/site-packages/torch/nn/modules/loss.py:538: UserWarning: Using a target size (torch.Size([])) that is different to the input size (torch.Size([1])). This will likely lead to incorrect results due to broadcasting. Please ensure they have the same size.\n",
      "  return F.mse_loss(input, target, reduction=self.reduction)\n"
     ]
    },
    {
     "name": "stdout",
     "output_type": "stream",
     "text": [
      "model weights grad :  tensor([-0.0779, -0.1358, -0.1904, -0.0560])\n",
      "model weights grad :  tensor([-0.1984, -0.1116, -0.2013, -0.2036])\n",
      "model weights grad :  tensor([-0.0907, -0.4620, -0.3294, -0.0294])\n"
     ]
    },
    {
     "name": "stderr",
     "output_type": "stream",
     "text": [
      "/Users/yuksehyun/anaconda3/envs/qrf/lib/python3.12/site-packages/torch/nn/modules/loss.py:538: UserWarning: Using a target size (torch.Size([])) that is different to the input size (torch.Size([1])). This will likely lead to incorrect results due to broadcasting. Please ensure they have the same size.\n",
      "  return F.mse_loss(input, target, reduction=self.reduction)\n",
      "/Users/yuksehyun/anaconda3/envs/qrf/lib/python3.12/site-packages/torch/nn/modules/loss.py:538: UserWarning: Using a target size (torch.Size([])) that is different to the input size (torch.Size([1])). This will likely lead to incorrect results due to broadcasting. Please ensure they have the same size.\n",
      "  return F.mse_loss(input, target, reduction=self.reduction)\n",
      "/Users/yuksehyun/anaconda3/envs/qrf/lib/python3.12/site-packages/torch/nn/modules/loss.py:538: UserWarning: Using a target size (torch.Size([])) that is different to the input size (torch.Size([1])). This will likely lead to incorrect results due to broadcasting. Please ensure they have the same size.\n",
      "  return F.mse_loss(input, target, reduction=self.reduction)\n"
     ]
    },
    {
     "name": "stdout",
     "output_type": "stream",
     "text": [
      "model weights grad :  tensor([-0.0018, -0.5227, -0.3337, -0.2667])\n",
      "model weights grad :  tensor([-0.1107, -0.2818, -0.1964, -0.4120])\n",
      "model weights grad :  tensor([-0.2897, -0.2646, -0.2813, -0.1674])\n"
     ]
    },
    {
     "name": "stderr",
     "output_type": "stream",
     "text": [
      "/Users/yuksehyun/anaconda3/envs/qrf/lib/python3.12/site-packages/torch/nn/modules/loss.py:538: UserWarning: Using a target size (torch.Size([])) that is different to the input size (torch.Size([1])). This will likely lead to incorrect results due to broadcasting. Please ensure they have the same size.\n",
      "  return F.mse_loss(input, target, reduction=self.reduction)\n",
      "/Users/yuksehyun/anaconda3/envs/qrf/lib/python3.12/site-packages/torch/nn/modules/loss.py:538: UserWarning: Using a target size (torch.Size([])) that is different to the input size (torch.Size([1])). This will likely lead to incorrect results due to broadcasting. Please ensure they have the same size.\n",
      "  return F.mse_loss(input, target, reduction=self.reduction)\n"
     ]
    },
    {
     "name": "stdout",
     "output_type": "stream",
     "text": [
      "model weights grad :  tensor([-0.1179, -0.0376, -0.0888, -0.1556])\n",
      "model weights grad :  tensor([-0.0697, -0.0737, -0.0130, -0.1372])\n"
     ]
    },
    {
     "name": "stderr",
     "output_type": "stream",
     "text": [
      "/Users/yuksehyun/anaconda3/envs/qrf/lib/python3.12/site-packages/torch/nn/modules/loss.py:538: UserWarning: Using a target size (torch.Size([])) that is different to the input size (torch.Size([1])). This will likely lead to incorrect results due to broadcasting. Please ensure they have the same size.\n",
      "  return F.mse_loss(input, target, reduction=self.reduction)\n",
      "/Users/yuksehyun/anaconda3/envs/qrf/lib/python3.12/site-packages/torch/nn/modules/loss.py:538: UserWarning: Using a target size (torch.Size([])) that is different to the input size (torch.Size([1])). This will likely lead to incorrect results due to broadcasting. Please ensure they have the same size.\n",
      "  return F.mse_loss(input, target, reduction=self.reduction)\n",
      "/Users/yuksehyun/anaconda3/envs/qrf/lib/python3.12/site-packages/torch/nn/modules/loss.py:538: UserWarning: Using a target size (torch.Size([])) that is different to the input size (torch.Size([1])). This will likely lead to incorrect results due to broadcasting. Please ensure they have the same size.\n",
      "  return F.mse_loss(input, target, reduction=self.reduction)\n"
     ]
    },
    {
     "name": "stdout",
     "output_type": "stream",
     "text": [
      "model weights grad :  tensor([-0.0774, -0.0008, -0.1734, -0.2231])\n",
      "model weights grad :  tensor([-0.2065, -0.3623, -0.4772, -0.3852])\n",
      "model weights grad :  tensor([-0.2162, -0.1571, -0.2883, -0.1334])\n"
     ]
    },
    {
     "name": "stderr",
     "output_type": "stream",
     "text": [
      "/Users/yuksehyun/anaconda3/envs/qrf/lib/python3.12/site-packages/torch/nn/modules/loss.py:538: UserWarning: Using a target size (torch.Size([])) that is different to the input size (torch.Size([1])). This will likely lead to incorrect results due to broadcasting. Please ensure they have the same size.\n",
      "  return F.mse_loss(input, target, reduction=self.reduction)\n",
      "/Users/yuksehyun/anaconda3/envs/qrf/lib/python3.12/site-packages/torch/nn/modules/loss.py:538: UserWarning: Using a target size (torch.Size([])) that is different to the input size (torch.Size([1])). This will likely lead to incorrect results due to broadcasting. Please ensure they have the same size.\n",
      "  return F.mse_loss(input, target, reduction=self.reduction)\n",
      "/Users/yuksehyun/anaconda3/envs/qrf/lib/python3.12/site-packages/torch/nn/modules/loss.py:538: UserWarning: Using a target size (torch.Size([])) that is different to the input size (torch.Size([1])). This will likely lead to incorrect results due to broadcasting. Please ensure they have the same size.\n",
      "  return F.mse_loss(input, target, reduction=self.reduction)\n"
     ]
    },
    {
     "name": "stdout",
     "output_type": "stream",
     "text": [
      "model weights grad :  tensor([-0.0928, -0.1688, -0.1535, -0.1744])\n",
      "model weights grad :  tensor([-0.0557, -0.1058, -0.0189, -0.0801])\n",
      "model weights grad :  tensor([-0.1119, -0.1275, -0.0150, -0.1081])\n"
     ]
    },
    {
     "name": "stderr",
     "output_type": "stream",
     "text": [
      "/Users/yuksehyun/anaconda3/envs/qrf/lib/python3.12/site-packages/torch/nn/modules/loss.py:538: UserWarning: Using a target size (torch.Size([])) that is different to the input size (torch.Size([1])). This will likely lead to incorrect results due to broadcasting. Please ensure they have the same size.\n",
      "  return F.mse_loss(input, target, reduction=self.reduction)\n",
      "/Users/yuksehyun/anaconda3/envs/qrf/lib/python3.12/site-packages/torch/nn/modules/loss.py:538: UserWarning: Using a target size (torch.Size([])) that is different to the input size (torch.Size([1])). This will likely lead to incorrect results due to broadcasting. Please ensure they have the same size.\n",
      "  return F.mse_loss(input, target, reduction=self.reduction)\n",
      "/Users/yuksehyun/anaconda3/envs/qrf/lib/python3.12/site-packages/torch/nn/modules/loss.py:538: UserWarning: Using a target size (torch.Size([])) that is different to the input size (torch.Size([1])). This will likely lead to incorrect results due to broadcasting. Please ensure they have the same size.\n",
      "  return F.mse_loss(input, target, reduction=self.reduction)\n"
     ]
    },
    {
     "name": "stdout",
     "output_type": "stream",
     "text": [
      "model weights grad :  tensor([-0.0314, -0.0055, -0.0119, -0.0135])\n",
      "model weights grad :  tensor([-0.1568, -0.1371, -0.1069, -0.0163])\n",
      "model weights grad :  tensor([-0.1705, -0.0192, -0.2803, -0.1749])\n"
     ]
    },
    {
     "name": "stderr",
     "output_type": "stream",
     "text": [
      "/Users/yuksehyun/anaconda3/envs/qrf/lib/python3.12/site-packages/torch/nn/modules/loss.py:538: UserWarning: Using a target size (torch.Size([])) that is different to the input size (torch.Size([1])). This will likely lead to incorrect results due to broadcasting. Please ensure they have the same size.\n",
      "  return F.mse_loss(input, target, reduction=self.reduction)\n",
      "/Users/yuksehyun/anaconda3/envs/qrf/lib/python3.12/site-packages/torch/nn/modules/loss.py:538: UserWarning: Using a target size (torch.Size([])) that is different to the input size (torch.Size([1])). This will likely lead to incorrect results due to broadcasting. Please ensure they have the same size.\n",
      "  return F.mse_loss(input, target, reduction=self.reduction)\n",
      "/Users/yuksehyun/anaconda3/envs/qrf/lib/python3.12/site-packages/torch/nn/modules/loss.py:538: UserWarning: Using a target size (torch.Size([])) that is different to the input size (torch.Size([1])). This will likely lead to incorrect results due to broadcasting. Please ensure they have the same size.\n",
      "  return F.mse_loss(input, target, reduction=self.reduction)\n"
     ]
    },
    {
     "name": "stdout",
     "output_type": "stream",
     "text": [
      "model weights grad :  tensor([-0.0829, -0.1403, -0.0156, -0.1583])\n",
      "model weights grad :  tensor([-0.0888, -0.0624, -0.1407, -0.2271])\n",
      "model weights grad :  tensor([-0.2199, -0.3999, -0.4058, -0.4432])\n"
     ]
    },
    {
     "name": "stderr",
     "output_type": "stream",
     "text": [
      "/Users/yuksehyun/anaconda3/envs/qrf/lib/python3.12/site-packages/torch/nn/modules/loss.py:538: UserWarning: Using a target size (torch.Size([])) that is different to the input size (torch.Size([1])). This will likely lead to incorrect results due to broadcasting. Please ensure they have the same size.\n",
      "  return F.mse_loss(input, target, reduction=self.reduction)\n",
      "/Users/yuksehyun/anaconda3/envs/qrf/lib/python3.12/site-packages/torch/nn/modules/loss.py:538: UserWarning: Using a target size (torch.Size([])) that is different to the input size (torch.Size([1])). This will likely lead to incorrect results due to broadcasting. Please ensure they have the same size.\n",
      "  return F.mse_loss(input, target, reduction=self.reduction)\n",
      "/Users/yuksehyun/anaconda3/envs/qrf/lib/python3.12/site-packages/torch/nn/modules/loss.py:538: UserWarning: Using a target size (torch.Size([])) that is different to the input size (torch.Size([1])). This will likely lead to incorrect results due to broadcasting. Please ensure they have the same size.\n",
      "  return F.mse_loss(input, target, reduction=self.reduction)\n"
     ]
    },
    {
     "name": "stdout",
     "output_type": "stream",
     "text": [
      "model weights grad :  tensor([-0.0658, -0.1482, -0.0064, -0.2560])\n",
      "model weights grad :  tensor([-0.1381, -0.0611, -0.3014, -0.2062])\n",
      "model weights grad :  tensor([-0.0739, -0.0796, -0.1365, -0.2747])\n"
     ]
    },
    {
     "name": "stderr",
     "output_type": "stream",
     "text": [
      "/Users/yuksehyun/anaconda3/envs/qrf/lib/python3.12/site-packages/torch/nn/modules/loss.py:538: UserWarning: Using a target size (torch.Size([])) that is different to the input size (torch.Size([1])). This will likely lead to incorrect results due to broadcasting. Please ensure they have the same size.\n",
      "  return F.mse_loss(input, target, reduction=self.reduction)\n",
      "/Users/yuksehyun/anaconda3/envs/qrf/lib/python3.12/site-packages/torch/nn/modules/loss.py:538: UserWarning: Using a target size (torch.Size([])) that is different to the input size (torch.Size([1])). This will likely lead to incorrect results due to broadcasting. Please ensure they have the same size.\n",
      "  return F.mse_loss(input, target, reduction=self.reduction)\n",
      "/Users/yuksehyun/anaconda3/envs/qrf/lib/python3.12/site-packages/torch/nn/modules/loss.py:538: UserWarning: Using a target size (torch.Size([])) that is different to the input size (torch.Size([1])). This will likely lead to incorrect results due to broadcasting. Please ensure they have the same size.\n",
      "  return F.mse_loss(input, target, reduction=self.reduction)\n"
     ]
    },
    {
     "name": "stdout",
     "output_type": "stream",
     "text": [
      "model weights grad :  tensor([-0.0122, -0.0474, -0.1062, -0.0259])\n",
      "model weights grad :  tensor([-0.0974, -0.2768, -0.4192, -0.2265])\n",
      "model weights grad :  tensor([-0.1782, -0.3779, -0.3469, -0.3328])\n"
     ]
    },
    {
     "name": "stderr",
     "output_type": "stream",
     "text": [
      "/Users/yuksehyun/anaconda3/envs/qrf/lib/python3.12/site-packages/torch/nn/modules/loss.py:538: UserWarning: Using a target size (torch.Size([])) that is different to the input size (torch.Size([1])). This will likely lead to incorrect results due to broadcasting. Please ensure they have the same size.\n",
      "  return F.mse_loss(input, target, reduction=self.reduction)\n",
      "/Users/yuksehyun/anaconda3/envs/qrf/lib/python3.12/site-packages/torch/nn/modules/loss.py:538: UserWarning: Using a target size (torch.Size([])) that is different to the input size (torch.Size([1])). This will likely lead to incorrect results due to broadcasting. Please ensure they have the same size.\n",
      "  return F.mse_loss(input, target, reduction=self.reduction)\n",
      "/Users/yuksehyun/anaconda3/envs/qrf/lib/python3.12/site-packages/torch/nn/modules/loss.py:538: UserWarning: Using a target size (torch.Size([])) that is different to the input size (torch.Size([1])). This will likely lead to incorrect results due to broadcasting. Please ensure they have the same size.\n",
      "  return F.mse_loss(input, target, reduction=self.reduction)\n"
     ]
    },
    {
     "name": "stdout",
     "output_type": "stream",
     "text": [
      "model weights grad :  tensor([-0.0498, -0.0068, -0.0298, -0.0209])\n",
      "model weights grad :  tensor([-0.0514, -0.0483, -0.0056, -0.0104])\n",
      "model weights grad :  tensor([-0.1432, -0.2256, -0.3115, -0.4091])\n"
     ]
    },
    {
     "name": "stderr",
     "output_type": "stream",
     "text": [
      "/Users/yuksehyun/anaconda3/envs/qrf/lib/python3.12/site-packages/torch/nn/modules/loss.py:538: UserWarning: Using a target size (torch.Size([])) that is different to the input size (torch.Size([1])). This will likely lead to incorrect results due to broadcasting. Please ensure they have the same size.\n",
      "  return F.mse_loss(input, target, reduction=self.reduction)\n",
      "/Users/yuksehyun/anaconda3/envs/qrf/lib/python3.12/site-packages/torch/nn/modules/loss.py:538: UserWarning: Using a target size (torch.Size([])) that is different to the input size (torch.Size([1])). This will likely lead to incorrect results due to broadcasting. Please ensure they have the same size.\n",
      "  return F.mse_loss(input, target, reduction=self.reduction)\n",
      "/Users/yuksehyun/anaconda3/envs/qrf/lib/python3.12/site-packages/torch/nn/modules/loss.py:538: UserWarning: Using a target size (torch.Size([])) that is different to the input size (torch.Size([1])). This will likely lead to incorrect results due to broadcasting. Please ensure they have the same size.\n",
      "  return F.mse_loss(input, target, reduction=self.reduction)\n"
     ]
    },
    {
     "name": "stdout",
     "output_type": "stream",
     "text": [
      "model weights grad :  tensor([-0.0300, -0.0050, -0.0092, -0.0199])\n",
      "model weights grad :  tensor([-0.2862, -0.2986, -0.2698, -0.2968])\n",
      "model weights grad :  tensor([-0.1049, -0.1098, -0.0226, -0.0733])\n"
     ]
    },
    {
     "name": "stderr",
     "output_type": "stream",
     "text": [
      "/Users/yuksehyun/anaconda3/envs/qrf/lib/python3.12/site-packages/torch/nn/modules/loss.py:538: UserWarning: Using a target size (torch.Size([])) that is different to the input size (torch.Size([1])). This will likely lead to incorrect results due to broadcasting. Please ensure they have the same size.\n",
      "  return F.mse_loss(input, target, reduction=self.reduction)\n",
      "/Users/yuksehyun/anaconda3/envs/qrf/lib/python3.12/site-packages/torch/nn/modules/loss.py:538: UserWarning: Using a target size (torch.Size([])) that is different to the input size (torch.Size([1])). This will likely lead to incorrect results due to broadcasting. Please ensure they have the same size.\n",
      "  return F.mse_loss(input, target, reduction=self.reduction)\n",
      "/Users/yuksehyun/anaconda3/envs/qrf/lib/python3.12/site-packages/torch/nn/modules/loss.py:538: UserWarning: Using a target size (torch.Size([])) that is different to the input size (torch.Size([1])). This will likely lead to incorrect results due to broadcasting. Please ensure they have the same size.\n",
      "  return F.mse_loss(input, target, reduction=self.reduction)\n"
     ]
    },
    {
     "name": "stdout",
     "output_type": "stream",
     "text": [
      "model weights grad :  tensor([-0.0969, -0.1199, -0.0399, -0.1623])\n",
      "model weights grad :  tensor([-0.0676, -0.2705, -0.0911, -0.2169])\n",
      "model weights grad :  tensor([-0.0941, -0.0051, -0.0728, -0.0643])\n"
     ]
    },
    {
     "name": "stderr",
     "output_type": "stream",
     "text": [
      "/Users/yuksehyun/anaconda3/envs/qrf/lib/python3.12/site-packages/torch/nn/modules/loss.py:538: UserWarning: Using a target size (torch.Size([])) that is different to the input size (torch.Size([1])). This will likely lead to incorrect results due to broadcasting. Please ensure they have the same size.\n",
      "  return F.mse_loss(input, target, reduction=self.reduction)\n",
      "/Users/yuksehyun/anaconda3/envs/qrf/lib/python3.12/site-packages/torch/nn/modules/loss.py:538: UserWarning: Using a target size (torch.Size([])) that is different to the input size (torch.Size([1])). This will likely lead to incorrect results due to broadcasting. Please ensure they have the same size.\n",
      "  return F.mse_loss(input, target, reduction=self.reduction)\n",
      "/Users/yuksehyun/anaconda3/envs/qrf/lib/python3.12/site-packages/torch/nn/modules/loss.py:538: UserWarning: Using a target size (torch.Size([])) that is different to the input size (torch.Size([1])). This will likely lead to incorrect results due to broadcasting. Please ensure they have the same size.\n",
      "  return F.mse_loss(input, target, reduction=self.reduction)\n"
     ]
    },
    {
     "name": "stdout",
     "output_type": "stream",
     "text": [
      "model weights grad :  tensor([-0.0189, -0.3260, -0.2682, -0.0493])\n",
      "model weights grad :  tensor([-0.0169, -0.2945, -0.0605, -0.1214])\n",
      "model weights grad :  tensor([-0.2049, -0.1974, -0.1269, -0.1471])\n"
     ]
    },
    {
     "name": "stderr",
     "output_type": "stream",
     "text": [
      "/Users/yuksehyun/anaconda3/envs/qrf/lib/python3.12/site-packages/torch/nn/modules/loss.py:538: UserWarning: Using a target size (torch.Size([])) that is different to the input size (torch.Size([1])). This will likely lead to incorrect results due to broadcasting. Please ensure they have the same size.\n",
      "  return F.mse_loss(input, target, reduction=self.reduction)\n",
      "/Users/yuksehyun/anaconda3/envs/qrf/lib/python3.12/site-packages/torch/nn/modules/loss.py:538: UserWarning: Using a target size (torch.Size([])) that is different to the input size (torch.Size([1])). This will likely lead to incorrect results due to broadcasting. Please ensure they have the same size.\n",
      "  return F.mse_loss(input, target, reduction=self.reduction)\n",
      "/Users/yuksehyun/anaconda3/envs/qrf/lib/python3.12/site-packages/torch/nn/modules/loss.py:538: UserWarning: Using a target size (torch.Size([])) that is different to the input size (torch.Size([1])). This will likely lead to incorrect results due to broadcasting. Please ensure they have the same size.\n",
      "  return F.mse_loss(input, target, reduction=self.reduction)\n"
     ]
    },
    {
     "name": "stdout",
     "output_type": "stream",
     "text": [
      "model weights grad :  tensor([-0.1351, -0.0721, -0.1179, -0.0052])\n",
      "model weights grad :  tensor([-0.0542, -0.0123, -0.0295, -0.0219])\n",
      "model weights grad :  tensor([-0.0973, -0.1926, -0.2221, -0.1114])\n"
     ]
    },
    {
     "name": "stderr",
     "output_type": "stream",
     "text": [
      "/Users/yuksehyun/anaconda3/envs/qrf/lib/python3.12/site-packages/torch/nn/modules/loss.py:538: UserWarning: Using a target size (torch.Size([])) that is different to the input size (torch.Size([1])). This will likely lead to incorrect results due to broadcasting. Please ensure they have the same size.\n",
      "  return F.mse_loss(input, target, reduction=self.reduction)\n",
      "/Users/yuksehyun/anaconda3/envs/qrf/lib/python3.12/site-packages/torch/nn/modules/loss.py:538: UserWarning: Using a target size (torch.Size([])) that is different to the input size (torch.Size([1])). This will likely lead to incorrect results due to broadcasting. Please ensure they have the same size.\n",
      "  return F.mse_loss(input, target, reduction=self.reduction)\n",
      "/Users/yuksehyun/anaconda3/envs/qrf/lib/python3.12/site-packages/torch/nn/modules/loss.py:538: UserWarning: Using a target size (torch.Size([])) that is different to the input size (torch.Size([1])). This will likely lead to incorrect results due to broadcasting. Please ensure they have the same size.\n",
      "  return F.mse_loss(input, target, reduction=self.reduction)\n"
     ]
    },
    {
     "name": "stdout",
     "output_type": "stream",
     "text": [
      "model weights grad :  tensor([-0.0564, -0.0445, -0.1616, -0.2447])\n",
      "model weights grad :  tensor([-0.0198, -0.1101, -0.0544, -0.0738])\n",
      "model weights grad :  tensor([-0.0232, -0.0176, -0.1360, -0.1132])\n"
     ]
    },
    {
     "name": "stderr",
     "output_type": "stream",
     "text": [
      "/Users/yuksehyun/anaconda3/envs/qrf/lib/python3.12/site-packages/torch/nn/modules/loss.py:538: UserWarning: Using a target size (torch.Size([])) that is different to the input size (torch.Size([1])). This will likely lead to incorrect results due to broadcasting. Please ensure they have the same size.\n",
      "  return F.mse_loss(input, target, reduction=self.reduction)\n",
      "/Users/yuksehyun/anaconda3/envs/qrf/lib/python3.12/site-packages/torch/nn/modules/loss.py:538: UserWarning: Using a target size (torch.Size([])) that is different to the input size (torch.Size([1])). This will likely lead to incorrect results due to broadcasting. Please ensure they have the same size.\n",
      "  return F.mse_loss(input, target, reduction=self.reduction)\n",
      "/Users/yuksehyun/anaconda3/envs/qrf/lib/python3.12/site-packages/torch/nn/modules/loss.py:538: UserWarning: Using a target size (torch.Size([])) that is different to the input size (torch.Size([1])). This will likely lead to incorrect results due to broadcasting. Please ensure they have the same size.\n",
      "  return F.mse_loss(input, target, reduction=self.reduction)\n"
     ]
    },
    {
     "name": "stdout",
     "output_type": "stream",
     "text": [
      "model weights grad :  tensor([-0.0921, -0.3546, -0.2546, -0.3502])\n",
      "model weights grad :  tensor([-0.0739, -0.1386, -0.2477, -0.3795])\n",
      "model weights grad :  tensor([0.0183, 0.0038, 0.0002, 0.0046])\n"
     ]
    },
    {
     "name": "stderr",
     "output_type": "stream",
     "text": [
      "/Users/yuksehyun/anaconda3/envs/qrf/lib/python3.12/site-packages/torch/nn/modules/loss.py:538: UserWarning: Using a target size (torch.Size([])) that is different to the input size (torch.Size([1])). This will likely lead to incorrect results due to broadcasting. Please ensure they have the same size.\n",
      "  return F.mse_loss(input, target, reduction=self.reduction)\n",
      "/Users/yuksehyun/anaconda3/envs/qrf/lib/python3.12/site-packages/torch/nn/modules/loss.py:538: UserWarning: Using a target size (torch.Size([])) that is different to the input size (torch.Size([1])). This will likely lead to incorrect results due to broadcasting. Please ensure they have the same size.\n",
      "  return F.mse_loss(input, target, reduction=self.reduction)\n",
      "/Users/yuksehyun/anaconda3/envs/qrf/lib/python3.12/site-packages/torch/nn/modules/loss.py:538: UserWarning: Using a target size (torch.Size([])) that is different to the input size (torch.Size([1])). This will likely lead to incorrect results due to broadcasting. Please ensure they have the same size.\n",
      "  return F.mse_loss(input, target, reduction=self.reduction)\n"
     ]
    },
    {
     "name": "stdout",
     "output_type": "stream",
     "text": [
      "model weights grad :  tensor([-0.1844, -0.2881, -0.4189, -0.2972])\n",
      "model weights grad :  tensor([-0.1262, -0.4005, -0.4046, -0.4617])\n",
      "model weights grad :  tensor([-0.1219, -0.2098, -0.0406, -0.1006])\n"
     ]
    },
    {
     "name": "stderr",
     "output_type": "stream",
     "text": [
      "/Users/yuksehyun/anaconda3/envs/qrf/lib/python3.12/site-packages/torch/nn/modules/loss.py:538: UserWarning: Using a target size (torch.Size([])) that is different to the input size (torch.Size([1])). This will likely lead to incorrect results due to broadcasting. Please ensure they have the same size.\n",
      "  return F.mse_loss(input, target, reduction=self.reduction)\n",
      "/Users/yuksehyun/anaconda3/envs/qrf/lib/python3.12/site-packages/torch/nn/modules/loss.py:538: UserWarning: Using a target size (torch.Size([])) that is different to the input size (torch.Size([1])). This will likely lead to incorrect results due to broadcasting. Please ensure they have the same size.\n",
      "  return F.mse_loss(input, target, reduction=self.reduction)\n",
      "/Users/yuksehyun/anaconda3/envs/qrf/lib/python3.12/site-packages/torch/nn/modules/loss.py:538: UserWarning: Using a target size (torch.Size([])) that is different to the input size (torch.Size([1])). This will likely lead to incorrect results due to broadcasting. Please ensure they have the same size.\n",
      "  return F.mse_loss(input, target, reduction=self.reduction)\n"
     ]
    },
    {
     "name": "stdout",
     "output_type": "stream",
     "text": [
      "model weights grad :  tensor([-0.0766, -0.0945, -0.0168, -0.0128])\n",
      "model weights grad :  tensor([-0.1019, -0.0635, -0.0621, -0.0470])\n",
      "model weights grad :  tensor([-0.2292, -0.2059, -0.2726, -0.0779])\n"
     ]
    },
    {
     "name": "stderr",
     "output_type": "stream",
     "text": [
      "/Users/yuksehyun/anaconda3/envs/qrf/lib/python3.12/site-packages/torch/nn/modules/loss.py:538: UserWarning: Using a target size (torch.Size([])) that is different to the input size (torch.Size([1])). This will likely lead to incorrect results due to broadcasting. Please ensure they have the same size.\n",
      "  return F.mse_loss(input, target, reduction=self.reduction)\n",
      "/Users/yuksehyun/anaconda3/envs/qrf/lib/python3.12/site-packages/torch/nn/modules/loss.py:538: UserWarning: Using a target size (torch.Size([])) that is different to the input size (torch.Size([1])). This will likely lead to incorrect results due to broadcasting. Please ensure they have the same size.\n",
      "  return F.mse_loss(input, target, reduction=self.reduction)\n",
      "/Users/yuksehyun/anaconda3/envs/qrf/lib/python3.12/site-packages/torch/nn/modules/loss.py:538: UserWarning: Using a target size (torch.Size([])) that is different to the input size (torch.Size([1])). This will likely lead to incorrect results due to broadcasting. Please ensure they have the same size.\n",
      "  return F.mse_loss(input, target, reduction=self.reduction)\n"
     ]
    },
    {
     "name": "stdout",
     "output_type": "stream",
     "text": [
      "model weights grad :  tensor([-0.0950, -0.4144, -0.4540, -0.2930])\n",
      "model weights grad :  tensor([-0.1015, -0.0749, -0.1515, -0.0663])\n",
      "model weights grad :  tensor([-0.1948, -0.1262, -0.1743, -0.1019])\n"
     ]
    },
    {
     "name": "stderr",
     "output_type": "stream",
     "text": [
      "/Users/yuksehyun/anaconda3/envs/qrf/lib/python3.12/site-packages/torch/nn/modules/loss.py:538: UserWarning: Using a target size (torch.Size([])) that is different to the input size (torch.Size([1])). This will likely lead to incorrect results due to broadcasting. Please ensure they have the same size.\n",
      "  return F.mse_loss(input, target, reduction=self.reduction)\n",
      "/Users/yuksehyun/anaconda3/envs/qrf/lib/python3.12/site-packages/torch/nn/modules/loss.py:538: UserWarning: Using a target size (torch.Size([])) that is different to the input size (torch.Size([1])). This will likely lead to incorrect results due to broadcasting. Please ensure they have the same size.\n",
      "  return F.mse_loss(input, target, reduction=self.reduction)\n",
      "/Users/yuksehyun/anaconda3/envs/qrf/lib/python3.12/site-packages/torch/nn/modules/loss.py:538: UserWarning: Using a target size (torch.Size([])) that is different to the input size (torch.Size([1])). This will likely lead to incorrect results due to broadcasting. Please ensure they have the same size.\n",
      "  return F.mse_loss(input, target, reduction=self.reduction)\n"
     ]
    },
    {
     "name": "stdout",
     "output_type": "stream",
     "text": [
      "model weights grad :  tensor([-0.1582, -0.1623, -0.0951, -0.1061])\n",
      "model weights grad :  tensor([-0.1382, -0.0496, -0.3148, -0.1031])\n",
      "model weights grad :  tensor([-0.0266, -0.0105, -0.0121, -0.0040])\n"
     ]
    },
    {
     "name": "stderr",
     "output_type": "stream",
     "text": [
      "/Users/yuksehyun/anaconda3/envs/qrf/lib/python3.12/site-packages/torch/nn/modules/loss.py:538: UserWarning: Using a target size (torch.Size([])) that is different to the input size (torch.Size([1])). This will likely lead to incorrect results due to broadcasting. Please ensure they have the same size.\n",
      "  return F.mse_loss(input, target, reduction=self.reduction)\n",
      "/Users/yuksehyun/anaconda3/envs/qrf/lib/python3.12/site-packages/torch/nn/modules/loss.py:538: UserWarning: Using a target size (torch.Size([])) that is different to the input size (torch.Size([1])). This will likely lead to incorrect results due to broadcasting. Please ensure they have the same size.\n",
      "  return F.mse_loss(input, target, reduction=self.reduction)\n",
      "/Users/yuksehyun/anaconda3/envs/qrf/lib/python3.12/site-packages/torch/nn/modules/loss.py:538: UserWarning: Using a target size (torch.Size([])) that is different to the input size (torch.Size([1])). This will likely lead to incorrect results due to broadcasting. Please ensure they have the same size.\n",
      "  return F.mse_loss(input, target, reduction=self.reduction)\n"
     ]
    },
    {
     "name": "stdout",
     "output_type": "stream",
     "text": [
      "model weights grad :  tensor([-0.2027, -0.3433, -0.2863, -0.0151])\n",
      "model weights grad :  tensor([-0.0231, -0.2109, -0.4990, -0.0990])\n",
      "model weights grad :  tensor([-0.1366, -0.0941, -0.1663, -0.2527])\n"
     ]
    },
    {
     "name": "stderr",
     "output_type": "stream",
     "text": [
      "/Users/yuksehyun/anaconda3/envs/qrf/lib/python3.12/site-packages/torch/nn/modules/loss.py:538: UserWarning: Using a target size (torch.Size([])) that is different to the input size (torch.Size([1])). This will likely lead to incorrect results due to broadcasting. Please ensure they have the same size.\n",
      "  return F.mse_loss(input, target, reduction=self.reduction)\n",
      "/Users/yuksehyun/anaconda3/envs/qrf/lib/python3.12/site-packages/torch/nn/modules/loss.py:538: UserWarning: Using a target size (torch.Size([])) that is different to the input size (torch.Size([1])). This will likely lead to incorrect results due to broadcasting. Please ensure they have the same size.\n",
      "  return F.mse_loss(input, target, reduction=self.reduction)\n",
      "/Users/yuksehyun/anaconda3/envs/qrf/lib/python3.12/site-packages/torch/nn/modules/loss.py:538: UserWarning: Using a target size (torch.Size([])) that is different to the input size (torch.Size([1])). This will likely lead to incorrect results due to broadcasting. Please ensure they have the same size.\n",
      "  return F.mse_loss(input, target, reduction=self.reduction)\n"
     ]
    },
    {
     "name": "stdout",
     "output_type": "stream",
     "text": [
      "model weights grad :  tensor([-0.0852, -0.1025, -0.0460, -0.0415])\n",
      "model weights grad :  tensor([-0.0822, -0.1005, -0.0068, -0.0626])\n",
      "model weights grad :  tensor([-0.0454, -0.1249, -0.1183, -0.1990])\n"
     ]
    },
    {
     "name": "stderr",
     "output_type": "stream",
     "text": [
      "/Users/yuksehyun/anaconda3/envs/qrf/lib/python3.12/site-packages/torch/nn/modules/loss.py:538: UserWarning: Using a target size (torch.Size([])) that is different to the input size (torch.Size([1])). This will likely lead to incorrect results due to broadcasting. Please ensure they have the same size.\n",
      "  return F.mse_loss(input, target, reduction=self.reduction)\n",
      "/Users/yuksehyun/anaconda3/envs/qrf/lib/python3.12/site-packages/torch/nn/modules/loss.py:538: UserWarning: Using a target size (torch.Size([])) that is different to the input size (torch.Size([1])). This will likely lead to incorrect results due to broadcasting. Please ensure they have the same size.\n",
      "  return F.mse_loss(input, target, reduction=self.reduction)\n",
      "/Users/yuksehyun/anaconda3/envs/qrf/lib/python3.12/site-packages/torch/nn/modules/loss.py:538: UserWarning: Using a target size (torch.Size([])) that is different to the input size (torch.Size([1])). This will likely lead to incorrect results due to broadcasting. Please ensure they have the same size.\n",
      "  return F.mse_loss(input, target, reduction=self.reduction)\n"
     ]
    },
    {
     "name": "stdout",
     "output_type": "stream",
     "text": [
      "model weights grad :  tensor([-0.2303, -0.2335, -0.3268, -0.2764])\n",
      "model weights grad :  tensor([-0.1239, -0.1377, -0.2139, -0.0230])\n",
      "model weights grad :  tensor([-0.2241, -0.3721, -0.3912, -0.2340])\n"
     ]
    },
    {
     "name": "stderr",
     "output_type": "stream",
     "text": [
      "/Users/yuksehyun/anaconda3/envs/qrf/lib/python3.12/site-packages/torch/nn/modules/loss.py:538: UserWarning: Using a target size (torch.Size([])) that is different to the input size (torch.Size([1])). This will likely lead to incorrect results due to broadcasting. Please ensure they have the same size.\n",
      "  return F.mse_loss(input, target, reduction=self.reduction)\n",
      "/Users/yuksehyun/anaconda3/envs/qrf/lib/python3.12/site-packages/torch/nn/modules/loss.py:538: UserWarning: Using a target size (torch.Size([])) that is different to the input size (torch.Size([1])). This will likely lead to incorrect results due to broadcasting. Please ensure they have the same size.\n",
      "  return F.mse_loss(input, target, reduction=self.reduction)\n",
      "/Users/yuksehyun/anaconda3/envs/qrf/lib/python3.12/site-packages/torch/nn/modules/loss.py:538: UserWarning: Using a target size (torch.Size([])) that is different to the input size (torch.Size([1])). This will likely lead to incorrect results due to broadcasting. Please ensure they have the same size.\n",
      "  return F.mse_loss(input, target, reduction=self.reduction)\n"
     ]
    },
    {
     "name": "stdout",
     "output_type": "stream",
     "text": [
      "model weights grad :  tensor([-0.1788, -0.3511, -0.3154, -0.0207])\n",
      "model weights grad :  tensor([-0.1001, -0.0293, -0.0657, -0.1225])\n",
      "model weights grad :  tensor([-0.0574, -0.0088, -0.0289, -0.0463])\n"
     ]
    },
    {
     "name": "stderr",
     "output_type": "stream",
     "text": [
      "/Users/yuksehyun/anaconda3/envs/qrf/lib/python3.12/site-packages/torch/nn/modules/loss.py:538: UserWarning: Using a target size (torch.Size([])) that is different to the input size (torch.Size([1])). This will likely lead to incorrect results due to broadcasting. Please ensure they have the same size.\n",
      "  return F.mse_loss(input, target, reduction=self.reduction)\n",
      "/Users/yuksehyun/anaconda3/envs/qrf/lib/python3.12/site-packages/torch/nn/modules/loss.py:538: UserWarning: Using a target size (torch.Size([])) that is different to the input size (torch.Size([1])). This will likely lead to incorrect results due to broadcasting. Please ensure they have the same size.\n",
      "  return F.mse_loss(input, target, reduction=self.reduction)\n",
      "/Users/yuksehyun/anaconda3/envs/qrf/lib/python3.12/site-packages/torch/nn/modules/loss.py:538: UserWarning: Using a target size (torch.Size([])) that is different to the input size (torch.Size([1])). This will likely lead to incorrect results due to broadcasting. Please ensure they have the same size.\n",
      "  return F.mse_loss(input, target, reduction=self.reduction)\n"
     ]
    },
    {
     "name": "stdout",
     "output_type": "stream",
     "text": [
      "model weights grad :  tensor([-0.0708, -0.0283, -0.0228, -0.1227])\n",
      "model weights grad :  tensor([-0.2278, -0.3453, -0.2878, -0.1580])\n",
      "model weights grad :  tensor([-0.1589, -0.2214, -0.0739, -0.1447])\n"
     ]
    },
    {
     "name": "stderr",
     "output_type": "stream",
     "text": [
      "/Users/yuksehyun/anaconda3/envs/qrf/lib/python3.12/site-packages/torch/nn/modules/loss.py:538: UserWarning: Using a target size (torch.Size([])) that is different to the input size (torch.Size([1])). This will likely lead to incorrect results due to broadcasting. Please ensure they have the same size.\n",
      "  return F.mse_loss(input, target, reduction=self.reduction)\n",
      "/Users/yuksehyun/anaconda3/envs/qrf/lib/python3.12/site-packages/torch/nn/modules/loss.py:538: UserWarning: Using a target size (torch.Size([])) that is different to the input size (torch.Size([1])). This will likely lead to incorrect results due to broadcasting. Please ensure they have the same size.\n",
      "  return F.mse_loss(input, target, reduction=self.reduction)\n",
      "/Users/yuksehyun/anaconda3/envs/qrf/lib/python3.12/site-packages/torch/nn/modules/loss.py:538: UserWarning: Using a target size (torch.Size([])) that is different to the input size (torch.Size([1])). This will likely lead to incorrect results due to broadcasting. Please ensure they have the same size.\n",
      "  return F.mse_loss(input, target, reduction=self.reduction)\n"
     ]
    },
    {
     "name": "stdout",
     "output_type": "stream",
     "text": [
      "model weights grad :  tensor([-0.0878, -0.1964, -0.0202, -0.0544])\n",
      "model weights grad :  tensor([-0.0526, -0.0449, -0.0002, -0.0435])\n",
      "model weights grad :  tensor([-0.2594, -0.3457, -0.3838, -0.3465])\n"
     ]
    },
    {
     "name": "stderr",
     "output_type": "stream",
     "text": [
      "/Users/yuksehyun/anaconda3/envs/qrf/lib/python3.12/site-packages/torch/nn/modules/loss.py:538: UserWarning: Using a target size (torch.Size([])) that is different to the input size (torch.Size([1])). This will likely lead to incorrect results due to broadcasting. Please ensure they have the same size.\n",
      "  return F.mse_loss(input, target, reduction=self.reduction)\n",
      "/Users/yuksehyun/anaconda3/envs/qrf/lib/python3.12/site-packages/torch/nn/modules/loss.py:538: UserWarning: Using a target size (torch.Size([])) that is different to the input size (torch.Size([1])). This will likely lead to incorrect results due to broadcasting. Please ensure they have the same size.\n",
      "  return F.mse_loss(input, target, reduction=self.reduction)\n",
      "/Users/yuksehyun/anaconda3/envs/qrf/lib/python3.12/site-packages/torch/nn/modules/loss.py:538: UserWarning: Using a target size (torch.Size([])) that is different to the input size (torch.Size([1])). This will likely lead to incorrect results due to broadcasting. Please ensure they have the same size.\n",
      "  return F.mse_loss(input, target, reduction=self.reduction)\n"
     ]
    },
    {
     "name": "stdout",
     "output_type": "stream",
     "text": [
      "model weights grad :  tensor([0.0736, 0.0082, 0.0012, 0.0737])\n",
      "model weights grad :  tensor([-0.2126, -0.3015, -0.2140, -0.1736])\n",
      "model weights grad :  tensor([-0.1076, -0.0724, -0.0860, -0.0435])\n"
     ]
    },
    {
     "name": "stderr",
     "output_type": "stream",
     "text": [
      "/Users/yuksehyun/anaconda3/envs/qrf/lib/python3.12/site-packages/torch/nn/modules/loss.py:538: UserWarning: Using a target size (torch.Size([])) that is different to the input size (torch.Size([1])). This will likely lead to incorrect results due to broadcasting. Please ensure they have the same size.\n",
      "  return F.mse_loss(input, target, reduction=self.reduction)\n",
      "/Users/yuksehyun/anaconda3/envs/qrf/lib/python3.12/site-packages/torch/nn/modules/loss.py:538: UserWarning: Using a target size (torch.Size([])) that is different to the input size (torch.Size([1])). This will likely lead to incorrect results due to broadcasting. Please ensure they have the same size.\n",
      "  return F.mse_loss(input, target, reduction=self.reduction)\n"
     ]
    },
    {
     "name": "stdout",
     "output_type": "stream",
     "text": [
      "model weights grad :  tensor([-0.1694, -0.0913, -0.2302, -0.2650])\n",
      "model weights grad :  tensor([-0.1019, -0.0389, -0.0635, -0.1134])\n",
      "model weights grad :  tensor([-0.1608, -0.0744, -0.2029, -0.1515])\n"
     ]
    },
    {
     "name": "stderr",
     "output_type": "stream",
     "text": [
      "/Users/yuksehyun/anaconda3/envs/qrf/lib/python3.12/site-packages/torch/nn/modules/loss.py:538: UserWarning: Using a target size (torch.Size([])) that is different to the input size (torch.Size([1])). This will likely lead to incorrect results due to broadcasting. Please ensure they have the same size.\n",
      "  return F.mse_loss(input, target, reduction=self.reduction)\n",
      "/Users/yuksehyun/anaconda3/envs/qrf/lib/python3.12/site-packages/torch/nn/modules/loss.py:538: UserWarning: Using a target size (torch.Size([])) that is different to the input size (torch.Size([1])). This will likely lead to incorrect results due to broadcasting. Please ensure they have the same size.\n",
      "  return F.mse_loss(input, target, reduction=self.reduction)\n",
      "/Users/yuksehyun/anaconda3/envs/qrf/lib/python3.12/site-packages/torch/nn/modules/loss.py:538: UserWarning: Using a target size (torch.Size([])) that is different to the input size (torch.Size([1])). This will likely lead to incorrect results due to broadcasting. Please ensure they have the same size.\n",
      "  return F.mse_loss(input, target, reduction=self.reduction)\n"
     ]
    },
    {
     "name": "stdout",
     "output_type": "stream",
     "text": [
      "model weights grad :  tensor([-0.1195, -0.0848, -0.0804, -0.0015])\n",
      "model weights grad :  tensor([-0.0769, -0.0233, -0.2408, -0.2325])\n"
     ]
    },
    {
     "name": "stderr",
     "output_type": "stream",
     "text": [
      "/Users/yuksehyun/anaconda3/envs/qrf/lib/python3.12/site-packages/torch/nn/modules/loss.py:538: UserWarning: Using a target size (torch.Size([])) that is different to the input size (torch.Size([1])). This will likely lead to incorrect results due to broadcasting. Please ensure they have the same size.\n",
      "  return F.mse_loss(input, target, reduction=self.reduction)\n",
      "/Users/yuksehyun/anaconda3/envs/qrf/lib/python3.12/site-packages/torch/nn/modules/loss.py:538: UserWarning: Using a target size (torch.Size([])) that is different to the input size (torch.Size([1])). This will likely lead to incorrect results due to broadcasting. Please ensure they have the same size.\n",
      "  return F.mse_loss(input, target, reduction=self.reduction)\n",
      "/Users/yuksehyun/anaconda3/envs/qrf/lib/python3.12/site-packages/torch/nn/modules/loss.py:538: UserWarning: Using a target size (torch.Size([])) that is different to the input size (torch.Size([1])). This will likely lead to incorrect results due to broadcasting. Please ensure they have the same size.\n",
      "  return F.mse_loss(input, target, reduction=self.reduction)\n"
     ]
    },
    {
     "name": "stdout",
     "output_type": "stream",
     "text": [
      "model weights grad :  tensor([-0.0692, -0.2302, -0.1823, -0.2398])\n",
      "model weights grad :  tensor([-0.0447, -0.0400, -0.0018, -0.0215])\n",
      "model weights grad :  tensor([-0.1608, -0.3134, -0.1811, -0.2128])\n"
     ]
    },
    {
     "name": "stderr",
     "output_type": "stream",
     "text": [
      "/Users/yuksehyun/anaconda3/envs/qrf/lib/python3.12/site-packages/torch/nn/modules/loss.py:538: UserWarning: Using a target size (torch.Size([])) that is different to the input size (torch.Size([1])). This will likely lead to incorrect results due to broadcasting. Please ensure they have the same size.\n",
      "  return F.mse_loss(input, target, reduction=self.reduction)\n",
      "/Users/yuksehyun/anaconda3/envs/qrf/lib/python3.12/site-packages/torch/nn/modules/loss.py:538: UserWarning: Using a target size (torch.Size([])) that is different to the input size (torch.Size([1])). This will likely lead to incorrect results due to broadcasting. Please ensure they have the same size.\n",
      "  return F.mse_loss(input, target, reduction=self.reduction)\n",
      "/Users/yuksehyun/anaconda3/envs/qrf/lib/python3.12/site-packages/torch/nn/modules/loss.py:538: UserWarning: Using a target size (torch.Size([])) that is different to the input size (torch.Size([1])). This will likely lead to incorrect results due to broadcasting. Please ensure they have the same size.\n",
      "  return F.mse_loss(input, target, reduction=self.reduction)\n"
     ]
    },
    {
     "name": "stdout",
     "output_type": "stream",
     "text": [
      "model weights grad :  tensor([-0.1041, -0.3106, -0.4441, -0.3282])\n",
      "model weights grad :  tensor([-0.0178, -0.0054, -0.0028, -0.0146])\n",
      "model weights grad :  tensor([-0.1609, -0.1714, -0.1854, -0.0846])\n"
     ]
    },
    {
     "name": "stderr",
     "output_type": "stream",
     "text": [
      "/Users/yuksehyun/anaconda3/envs/qrf/lib/python3.12/site-packages/torch/nn/modules/loss.py:538: UserWarning: Using a target size (torch.Size([])) that is different to the input size (torch.Size([1])). This will likely lead to incorrect results due to broadcasting. Please ensure they have the same size.\n",
      "  return F.mse_loss(input, target, reduction=self.reduction)\n",
      "/Users/yuksehyun/anaconda3/envs/qrf/lib/python3.12/site-packages/torch/nn/modules/loss.py:538: UserWarning: Using a target size (torch.Size([])) that is different to the input size (torch.Size([1])). This will likely lead to incorrect results due to broadcasting. Please ensure they have the same size.\n",
      "  return F.mse_loss(input, target, reduction=self.reduction)\n",
      "/Users/yuksehyun/anaconda3/envs/qrf/lib/python3.12/site-packages/torch/nn/modules/loss.py:538: UserWarning: Using a target size (torch.Size([])) that is different to the input size (torch.Size([1])). This will likely lead to incorrect results due to broadcasting. Please ensure they have the same size.\n",
      "  return F.mse_loss(input, target, reduction=self.reduction)\n"
     ]
    },
    {
     "name": "stdout",
     "output_type": "stream",
     "text": [
      "model weights grad :  tensor([-2.7464e-02, -1.8783e-02,  8.6790e-06, -4.1951e-03])\n",
      "model weights grad :  tensor([-0.0256, -0.0015, -0.0126, -0.0200])\n",
      "model weights grad :  tensor([-0.2450, -0.2593, -0.2127, -0.2663])\n"
     ]
    },
    {
     "name": "stderr",
     "output_type": "stream",
     "text": [
      "/Users/yuksehyun/anaconda3/envs/qrf/lib/python3.12/site-packages/torch/nn/modules/loss.py:538: UserWarning: Using a target size (torch.Size([])) that is different to the input size (torch.Size([1])). This will likely lead to incorrect results due to broadcasting. Please ensure they have the same size.\n",
      "  return F.mse_loss(input, target, reduction=self.reduction)\n",
      "/Users/yuksehyun/anaconda3/envs/qrf/lib/python3.12/site-packages/torch/nn/modules/loss.py:538: UserWarning: Using a target size (torch.Size([])) that is different to the input size (torch.Size([1])). This will likely lead to incorrect results due to broadcasting. Please ensure they have the same size.\n",
      "  return F.mse_loss(input, target, reduction=self.reduction)\n",
      "/Users/yuksehyun/anaconda3/envs/qrf/lib/python3.12/site-packages/torch/nn/modules/loss.py:538: UserWarning: Using a target size (torch.Size([])) that is different to the input size (torch.Size([1])). This will likely lead to incorrect results due to broadcasting. Please ensure they have the same size.\n",
      "  return F.mse_loss(input, target, reduction=self.reduction)\n"
     ]
    },
    {
     "name": "stdout",
     "output_type": "stream",
     "text": [
      "model weights grad :  tensor([-0.0173, -0.2818, -0.0842, -0.1653])\n",
      "model weights grad :  tensor([-0.0794, -0.1026, -0.0071, -0.1385])\n",
      "model weights grad :  tensor([-0.0932, -0.1832, -0.0723, -0.1777])\n"
     ]
    },
    {
     "name": "stderr",
     "output_type": "stream",
     "text": [
      "/Users/yuksehyun/anaconda3/envs/qrf/lib/python3.12/site-packages/torch/nn/modules/loss.py:538: UserWarning: Using a target size (torch.Size([])) that is different to the input size (torch.Size([1])). This will likely lead to incorrect results due to broadcasting. Please ensure they have the same size.\n",
      "  return F.mse_loss(input, target, reduction=self.reduction)\n",
      "/Users/yuksehyun/anaconda3/envs/qrf/lib/python3.12/site-packages/torch/nn/modules/loss.py:538: UserWarning: Using a target size (torch.Size([])) that is different to the input size (torch.Size([1])). This will likely lead to incorrect results due to broadcasting. Please ensure they have the same size.\n",
      "  return F.mse_loss(input, target, reduction=self.reduction)\n",
      "/Users/yuksehyun/anaconda3/envs/qrf/lib/python3.12/site-packages/torch/nn/modules/loss.py:538: UserWarning: Using a target size (torch.Size([])) that is different to the input size (torch.Size([1])). This will likely lead to incorrect results due to broadcasting. Please ensure they have the same size.\n",
      "  return F.mse_loss(input, target, reduction=self.reduction)\n"
     ]
    },
    {
     "name": "stdout",
     "output_type": "stream",
     "text": [
      "model weights grad :  tensor([-0.1357, -0.1724, -0.1109, -0.0854])\n",
      "model weights grad :  tensor([-0.2473, -0.2705, -0.2174, -0.2049])\n",
      "model weights grad :  tensor([-0.2065, -0.1264, -0.2056, -0.0962])\n"
     ]
    },
    {
     "name": "stderr",
     "output_type": "stream",
     "text": [
      "/Users/yuksehyun/anaconda3/envs/qrf/lib/python3.12/site-packages/torch/nn/modules/loss.py:538: UserWarning: Using a target size (torch.Size([])) that is different to the input size (torch.Size([1])). This will likely lead to incorrect results due to broadcasting. Please ensure they have the same size.\n",
      "  return F.mse_loss(input, target, reduction=self.reduction)\n",
      "/Users/yuksehyun/anaconda3/envs/qrf/lib/python3.12/site-packages/torch/nn/modules/loss.py:538: UserWarning: Using a target size (torch.Size([])) that is different to the input size (torch.Size([1])). This will likely lead to incorrect results due to broadcasting. Please ensure they have the same size.\n",
      "  return F.mse_loss(input, target, reduction=self.reduction)\n",
      "/Users/yuksehyun/anaconda3/envs/qrf/lib/python3.12/site-packages/torch/nn/modules/loss.py:538: UserWarning: Using a target size (torch.Size([])) that is different to the input size (torch.Size([1])). This will likely lead to incorrect results due to broadcasting. Please ensure they have the same size.\n",
      "  return F.mse_loss(input, target, reduction=self.reduction)\n"
     ]
    },
    {
     "name": "stdout",
     "output_type": "stream",
     "text": [
      "model weights grad :  tensor([-0.0405, -0.1683, -0.0185, -0.0930])\n",
      "model weights grad :  tensor([-0.1442, -0.0813, -0.2193, -0.1541])\n",
      "model weights grad :  tensor([-0.1419, -0.1037, -0.0907, -0.0712])\n"
     ]
    },
    {
     "name": "stderr",
     "output_type": "stream",
     "text": [
      "/Users/yuksehyun/anaconda3/envs/qrf/lib/python3.12/site-packages/torch/nn/modules/loss.py:538: UserWarning: Using a target size (torch.Size([])) that is different to the input size (torch.Size([1])). This will likely lead to incorrect results due to broadcasting. Please ensure they have the same size.\n",
      "  return F.mse_loss(input, target, reduction=self.reduction)\n",
      "/Users/yuksehyun/anaconda3/envs/qrf/lib/python3.12/site-packages/torch/nn/modules/loss.py:538: UserWarning: Using a target size (torch.Size([])) that is different to the input size (torch.Size([1])). This will likely lead to incorrect results due to broadcasting. Please ensure they have the same size.\n",
      "  return F.mse_loss(input, target, reduction=self.reduction)\n",
      "/Users/yuksehyun/anaconda3/envs/qrf/lib/python3.12/site-packages/torch/nn/modules/loss.py:538: UserWarning: Using a target size (torch.Size([])) that is different to the input size (torch.Size([1])). This will likely lead to incorrect results due to broadcasting. Please ensure they have the same size.\n",
      "  return F.mse_loss(input, target, reduction=self.reduction)\n"
     ]
    },
    {
     "name": "stdout",
     "output_type": "stream",
     "text": [
      "model weights grad :  tensor([-0.0753, -0.0306, -0.0216, -0.1367])\n",
      "model weights grad :  tensor([-0.0190, -0.2772, -0.1548, -0.1249])\n",
      "model weights grad :  tensor([-0.1778, -0.1391, -0.1498, -0.0457])\n"
     ]
    },
    {
     "name": "stderr",
     "output_type": "stream",
     "text": [
      "/Users/yuksehyun/anaconda3/envs/qrf/lib/python3.12/site-packages/torch/nn/modules/loss.py:538: UserWarning: Using a target size (torch.Size([])) that is different to the input size (torch.Size([1])). This will likely lead to incorrect results due to broadcasting. Please ensure they have the same size.\n",
      "  return F.mse_loss(input, target, reduction=self.reduction)\n",
      "/Users/yuksehyun/anaconda3/envs/qrf/lib/python3.12/site-packages/torch/nn/modules/loss.py:538: UserWarning: Using a target size (torch.Size([])) that is different to the input size (torch.Size([1])). This will likely lead to incorrect results due to broadcasting. Please ensure they have the same size.\n",
      "  return F.mse_loss(input, target, reduction=self.reduction)\n"
     ]
    },
    {
     "name": "stdout",
     "output_type": "stream",
     "text": [
      "model weights grad :  tensor([-0.1477, -0.1730, -0.1124, -0.2209])\n",
      "model weights grad :  tensor([-0.1097, -0.1753, -0.0323, -0.0793])\n"
     ]
    },
    {
     "name": "stderr",
     "output_type": "stream",
     "text": [
      "/Users/yuksehyun/anaconda3/envs/qrf/lib/python3.12/site-packages/torch/nn/modules/loss.py:538: UserWarning: Using a target size (torch.Size([])) that is different to the input size (torch.Size([1])). This will likely lead to incorrect results due to broadcasting. Please ensure they have the same size.\n",
      "  return F.mse_loss(input, target, reduction=self.reduction)\n",
      "/Users/yuksehyun/anaconda3/envs/qrf/lib/python3.12/site-packages/torch/nn/modules/loss.py:538: UserWarning: Using a target size (torch.Size([])) that is different to the input size (torch.Size([1])). This will likely lead to incorrect results due to broadcasting. Please ensure they have the same size.\n",
      "  return F.mse_loss(input, target, reduction=self.reduction)\n",
      "/Users/yuksehyun/anaconda3/envs/qrf/lib/python3.12/site-packages/torch/nn/modules/loss.py:538: UserWarning: Using a target size (torch.Size([])) that is different to the input size (torch.Size([1])). This will likely lead to incorrect results due to broadcasting. Please ensure they have the same size.\n",
      "  return F.mse_loss(input, target, reduction=self.reduction)\n"
     ]
    },
    {
     "name": "stdout",
     "output_type": "stream",
     "text": [
      "model weights grad :  tensor([-0.0969, -0.0572, -0.0718, -0.1583])\n",
      "model weights grad :  tensor([-0.0568, -0.0563, -0.0021, -0.0358])\n",
      "model weights grad :  tensor([-0.0132, -0.3090, -0.0076, -0.2565])\n"
     ]
    },
    {
     "name": "stderr",
     "output_type": "stream",
     "text": [
      "/Users/yuksehyun/anaconda3/envs/qrf/lib/python3.12/site-packages/torch/nn/modules/loss.py:538: UserWarning: Using a target size (torch.Size([])) that is different to the input size (torch.Size([1])). This will likely lead to incorrect results due to broadcasting. Please ensure they have the same size.\n",
      "  return F.mse_loss(input, target, reduction=self.reduction)\n",
      "/Users/yuksehyun/anaconda3/envs/qrf/lib/python3.12/site-packages/torch/nn/modules/loss.py:538: UserWarning: Using a target size (torch.Size([])) that is different to the input size (torch.Size([1])). This will likely lead to incorrect results due to broadcasting. Please ensure they have the same size.\n",
      "  return F.mse_loss(input, target, reduction=self.reduction)\n",
      "/Users/yuksehyun/anaconda3/envs/qrf/lib/python3.12/site-packages/torch/nn/modules/loss.py:538: UserWarning: Using a target size (torch.Size([])) that is different to the input size (torch.Size([1])). This will likely lead to incorrect results due to broadcasting. Please ensure they have the same size.\n",
      "  return F.mse_loss(input, target, reduction=self.reduction)\n"
     ]
    },
    {
     "name": "stdout",
     "output_type": "stream",
     "text": [
      "model weights grad :  tensor([-0.0560, -0.0417, -0.1731, -0.1180])\n",
      "model weights grad :  tensor([-0.0775, -0.2967, -0.3413, -0.0950])\n",
      "model weights grad :  tensor([-0.0316, -0.0244, -0.0078, -0.0051])\n"
     ]
    },
    {
     "name": "stderr",
     "output_type": "stream",
     "text": [
      "/Users/yuksehyun/anaconda3/envs/qrf/lib/python3.12/site-packages/torch/nn/modules/loss.py:538: UserWarning: Using a target size (torch.Size([])) that is different to the input size (torch.Size([1])). This will likely lead to incorrect results due to broadcasting. Please ensure they have the same size.\n",
      "  return F.mse_loss(input, target, reduction=self.reduction)\n",
      "/Users/yuksehyun/anaconda3/envs/qrf/lib/python3.12/site-packages/torch/nn/modules/loss.py:538: UserWarning: Using a target size (torch.Size([])) that is different to the input size (torch.Size([1])). This will likely lead to incorrect results due to broadcasting. Please ensure they have the same size.\n",
      "  return F.mse_loss(input, target, reduction=self.reduction)\n",
      "/Users/yuksehyun/anaconda3/envs/qrf/lib/python3.12/site-packages/torch/nn/modules/loss.py:538: UserWarning: Using a target size (torch.Size([])) that is different to the input size (torch.Size([1])). This will likely lead to incorrect results due to broadcasting. Please ensure they have the same size.\n",
      "  return F.mse_loss(input, target, reduction=self.reduction)\n"
     ]
    },
    {
     "name": "stdout",
     "output_type": "stream",
     "text": [
      "model weights grad :  tensor([0.0453, 0.0003, 0.0138, 0.0321])\n",
      "model weights grad :  tensor([-0.1457, -0.0005, -0.1627, -0.1210])\n",
      "model weights grad :  tensor([-0.0277, -0.1747, -0.0855, -0.3050])\n"
     ]
    },
    {
     "name": "stderr",
     "output_type": "stream",
     "text": [
      "/Users/yuksehyun/anaconda3/envs/qrf/lib/python3.12/site-packages/torch/nn/modules/loss.py:538: UserWarning: Using a target size (torch.Size([])) that is different to the input size (torch.Size([1])). This will likely lead to incorrect results due to broadcasting. Please ensure they have the same size.\n",
      "  return F.mse_loss(input, target, reduction=self.reduction)\n",
      "/Users/yuksehyun/anaconda3/envs/qrf/lib/python3.12/site-packages/torch/nn/modules/loss.py:538: UserWarning: Using a target size (torch.Size([])) that is different to the input size (torch.Size([1])). This will likely lead to incorrect results due to broadcasting. Please ensure they have the same size.\n",
      "  return F.mse_loss(input, target, reduction=self.reduction)\n",
      "/Users/yuksehyun/anaconda3/envs/qrf/lib/python3.12/site-packages/torch/nn/modules/loss.py:538: UserWarning: Using a target size (torch.Size([])) that is different to the input size (torch.Size([1])). This will likely lead to incorrect results due to broadcasting. Please ensure they have the same size.\n",
      "  return F.mse_loss(input, target, reduction=self.reduction)\n"
     ]
    },
    {
     "name": "stdout",
     "output_type": "stream",
     "text": [
      "model weights grad :  tensor([-0.1121, -0.0260, -0.0877, -0.0831])\n",
      "model weights grad :  tensor([-0.1836, -0.1972, -0.2155, -0.0354])\n",
      "model weights grad :  tensor([-0.1746, -0.2191, -0.1172, -0.1956])\n"
     ]
    },
    {
     "name": "stderr",
     "output_type": "stream",
     "text": [
      "/Users/yuksehyun/anaconda3/envs/qrf/lib/python3.12/site-packages/torch/nn/modules/loss.py:538: UserWarning: Using a target size (torch.Size([])) that is different to the input size (torch.Size([1])). This will likely lead to incorrect results due to broadcasting. Please ensure they have the same size.\n",
      "  return F.mse_loss(input, target, reduction=self.reduction)\n",
      "/Users/yuksehyun/anaconda3/envs/qrf/lib/python3.12/site-packages/torch/nn/modules/loss.py:538: UserWarning: Using a target size (torch.Size([])) that is different to the input size (torch.Size([1])). This will likely lead to incorrect results due to broadcasting. Please ensure they have the same size.\n",
      "  return F.mse_loss(input, target, reduction=self.reduction)\n",
      "/Users/yuksehyun/anaconda3/envs/qrf/lib/python3.12/site-packages/torch/nn/modules/loss.py:538: UserWarning: Using a target size (torch.Size([])) that is different to the input size (torch.Size([1])). This will likely lead to incorrect results due to broadcasting. Please ensure they have the same size.\n",
      "  return F.mse_loss(input, target, reduction=self.reduction)\n"
     ]
    },
    {
     "name": "stdout",
     "output_type": "stream",
     "text": [
      "model weights grad :  tensor([-0.0528, -0.0554, -0.0048, -0.0215])\n",
      "model weights grad :  tensor([-0.1694, -0.1647, -0.1160, -0.1779])\n",
      "model weights grad :  tensor([-0.2089, -0.3057, -0.2985, -0.0749])\n"
     ]
    },
    {
     "name": "stderr",
     "output_type": "stream",
     "text": [
      "/Users/yuksehyun/anaconda3/envs/qrf/lib/python3.12/site-packages/torch/nn/modules/loss.py:538: UserWarning: Using a target size (torch.Size([])) that is different to the input size (torch.Size([1])). This will likely lead to incorrect results due to broadcasting. Please ensure they have the same size.\n",
      "  return F.mse_loss(input, target, reduction=self.reduction)\n",
      "/Users/yuksehyun/anaconda3/envs/qrf/lib/python3.12/site-packages/torch/nn/modules/loss.py:538: UserWarning: Using a target size (torch.Size([])) that is different to the input size (torch.Size([1])). This will likely lead to incorrect results due to broadcasting. Please ensure they have the same size.\n",
      "  return F.mse_loss(input, target, reduction=self.reduction)\n",
      "/Users/yuksehyun/anaconda3/envs/qrf/lib/python3.12/site-packages/torch/nn/modules/loss.py:538: UserWarning: Using a target size (torch.Size([])) that is different to the input size (torch.Size([1])). This will likely lead to incorrect results due to broadcasting. Please ensure they have the same size.\n",
      "  return F.mse_loss(input, target, reduction=self.reduction)\n"
     ]
    },
    {
     "name": "stdout",
     "output_type": "stream",
     "text": [
      "model weights grad :  tensor([-0.1106, -0.0294, -0.1934, -0.0865])\n",
      "model weights grad :  tensor([-0.0091, -0.0941, -0.0797, -0.0231])\n",
      "model weights grad :  tensor([-0.1499, -0.2507, -0.1570, -0.1182])\n"
     ]
    },
    {
     "name": "stderr",
     "output_type": "stream",
     "text": [
      "/Users/yuksehyun/anaconda3/envs/qrf/lib/python3.12/site-packages/torch/nn/modules/loss.py:538: UserWarning: Using a target size (torch.Size([])) that is different to the input size (torch.Size([1])). This will likely lead to incorrect results due to broadcasting. Please ensure they have the same size.\n",
      "  return F.mse_loss(input, target, reduction=self.reduction)\n",
      "/Users/yuksehyun/anaconda3/envs/qrf/lib/python3.12/site-packages/torch/nn/modules/loss.py:538: UserWarning: Using a target size (torch.Size([])) that is different to the input size (torch.Size([1])). This will likely lead to incorrect results due to broadcasting. Please ensure they have the same size.\n",
      "  return F.mse_loss(input, target, reduction=self.reduction)\n",
      "/Users/yuksehyun/anaconda3/envs/qrf/lib/python3.12/site-packages/torch/nn/modules/loss.py:538: UserWarning: Using a target size (torch.Size([])) that is different to the input size (torch.Size([1])). This will likely lead to incorrect results due to broadcasting. Please ensure they have the same size.\n",
      "  return F.mse_loss(input, target, reduction=self.reduction)\n"
     ]
    },
    {
     "name": "stdout",
     "output_type": "stream",
     "text": [
      "model weights grad :  tensor([-0.0821, -0.1045, -0.0147, -0.0411])\n",
      "model weights grad :  tensor([-0.1012, -0.0718, -0.1670, -0.0808])\n",
      "model weights grad :  tensor([-0.1755, -0.1438, -0.2472, -0.1799])\n"
     ]
    },
    {
     "name": "stderr",
     "output_type": "stream",
     "text": [
      "/Users/yuksehyun/anaconda3/envs/qrf/lib/python3.12/site-packages/torch/nn/modules/loss.py:538: UserWarning: Using a target size (torch.Size([])) that is different to the input size (torch.Size([1])). This will likely lead to incorrect results due to broadcasting. Please ensure they have the same size.\n",
      "  return F.mse_loss(input, target, reduction=self.reduction)\n",
      "/Users/yuksehyun/anaconda3/envs/qrf/lib/python3.12/site-packages/torch/nn/modules/loss.py:538: UserWarning: Using a target size (torch.Size([])) that is different to the input size (torch.Size([1])). This will likely lead to incorrect results due to broadcasting. Please ensure they have the same size.\n",
      "  return F.mse_loss(input, target, reduction=self.reduction)\n",
      "/Users/yuksehyun/anaconda3/envs/qrf/lib/python3.12/site-packages/torch/nn/modules/loss.py:538: UserWarning: Using a target size (torch.Size([])) that is different to the input size (torch.Size([1])). This will likely lead to incorrect results due to broadcasting. Please ensure they have the same size.\n",
      "  return F.mse_loss(input, target, reduction=self.reduction)\n"
     ]
    },
    {
     "name": "stdout",
     "output_type": "stream",
     "text": [
      "model weights grad :  tensor([-0.1954, -0.1068, -0.2276, -0.2030])\n",
      "model weights grad :  tensor([-0.1635, -0.0993, -0.1657, -0.0050])\n",
      "model weights grad :  tensor([-0.1665, -0.1293, -0.1884, -0.0685])\n"
     ]
    },
    {
     "name": "stderr",
     "output_type": "stream",
     "text": [
      "/Users/yuksehyun/anaconda3/envs/qrf/lib/python3.12/site-packages/torch/nn/modules/loss.py:538: UserWarning: Using a target size (torch.Size([])) that is different to the input size (torch.Size([1])). This will likely lead to incorrect results due to broadcasting. Please ensure they have the same size.\n",
      "  return F.mse_loss(input, target, reduction=self.reduction)\n",
      "/Users/yuksehyun/anaconda3/envs/qrf/lib/python3.12/site-packages/torch/nn/modules/loss.py:538: UserWarning: Using a target size (torch.Size([])) that is different to the input size (torch.Size([1])). This will likely lead to incorrect results due to broadcasting. Please ensure they have the same size.\n",
      "  return F.mse_loss(input, target, reduction=self.reduction)\n",
      "/Users/yuksehyun/anaconda3/envs/qrf/lib/python3.12/site-packages/torch/nn/modules/loss.py:538: UserWarning: Using a target size (torch.Size([])) that is different to the input size (torch.Size([1])). This will likely lead to incorrect results due to broadcasting. Please ensure they have the same size.\n",
      "  return F.mse_loss(input, target, reduction=self.reduction)\n"
     ]
    },
    {
     "name": "stdout",
     "output_type": "stream",
     "text": [
      "model weights grad :  tensor([-0.0697, -0.0465, -0.0122, -0.0790])\n",
      "model weights grad :  tensor([-0.0494, -0.0632, -0.0366, -0.0256])\n",
      "model weights grad :  tensor([-0.1480, -0.1160, -0.1501, -0.0327])\n"
     ]
    },
    {
     "name": "stderr",
     "output_type": "stream",
     "text": [
      "/Users/yuksehyun/anaconda3/envs/qrf/lib/python3.12/site-packages/torch/nn/modules/loss.py:538: UserWarning: Using a target size (torch.Size([])) that is different to the input size (torch.Size([1])). This will likely lead to incorrect results due to broadcasting. Please ensure they have the same size.\n",
      "  return F.mse_loss(input, target, reduction=self.reduction)\n",
      "/Users/yuksehyun/anaconda3/envs/qrf/lib/python3.12/site-packages/torch/nn/modules/loss.py:538: UserWarning: Using a target size (torch.Size([])) that is different to the input size (torch.Size([1])). This will likely lead to incorrect results due to broadcasting. Please ensure they have the same size.\n",
      "  return F.mse_loss(input, target, reduction=self.reduction)\n",
      "/Users/yuksehyun/anaconda3/envs/qrf/lib/python3.12/site-packages/torch/nn/modules/loss.py:538: UserWarning: Using a target size (torch.Size([])) that is different to the input size (torch.Size([1])). This will likely lead to incorrect results due to broadcasting. Please ensure they have the same size.\n",
      "  return F.mse_loss(input, target, reduction=self.reduction)\n"
     ]
    },
    {
     "name": "stdout",
     "output_type": "stream",
     "text": [
      "model weights grad :  tensor([-0.0899, -0.0640, -0.1665, -0.0393])\n",
      "model weights grad :  tensor([-0.1592, -0.0443, -0.1608, -0.0723])\n",
      "model weights grad :  tensor([-0.1312, -0.3019, -0.3287, -0.3593])\n"
     ]
    },
    {
     "name": "stderr",
     "output_type": "stream",
     "text": [
      "/Users/yuksehyun/anaconda3/envs/qrf/lib/python3.12/site-packages/torch/nn/modules/loss.py:538: UserWarning: Using a target size (torch.Size([])) that is different to the input size (torch.Size([1])). This will likely lead to incorrect results due to broadcasting. Please ensure they have the same size.\n",
      "  return F.mse_loss(input, target, reduction=self.reduction)\n",
      "/Users/yuksehyun/anaconda3/envs/qrf/lib/python3.12/site-packages/torch/nn/modules/loss.py:538: UserWarning: Using a target size (torch.Size([])) that is different to the input size (torch.Size([1])). This will likely lead to incorrect results due to broadcasting. Please ensure they have the same size.\n",
      "  return F.mse_loss(input, target, reduction=self.reduction)\n",
      "/Users/yuksehyun/anaconda3/envs/qrf/lib/python3.12/site-packages/torch/nn/modules/loss.py:538: UserWarning: Using a target size (torch.Size([])) that is different to the input size (torch.Size([1])). This will likely lead to incorrect results due to broadcasting. Please ensure they have the same size.\n",
      "  return F.mse_loss(input, target, reduction=self.reduction)\n"
     ]
    },
    {
     "name": "stdout",
     "output_type": "stream",
     "text": [
      "model weights grad :  tensor([-0.0736, -0.0485, -0.0923, -0.0201])\n",
      "model weights grad :  tensor([-0.0459, -0.1114, -0.0822, -0.2603])\n",
      "model weights grad :  tensor([-0.2189, -0.2535, -0.2326, -0.0466])\n"
     ]
    },
    {
     "name": "stderr",
     "output_type": "stream",
     "text": [
      "/Users/yuksehyun/anaconda3/envs/qrf/lib/python3.12/site-packages/torch/nn/modules/loss.py:538: UserWarning: Using a target size (torch.Size([])) that is different to the input size (torch.Size([1])). This will likely lead to incorrect results due to broadcasting. Please ensure they have the same size.\n",
      "  return F.mse_loss(input, target, reduction=self.reduction)\n",
      "/Users/yuksehyun/anaconda3/envs/qrf/lib/python3.12/site-packages/torch/nn/modules/loss.py:538: UserWarning: Using a target size (torch.Size([])) that is different to the input size (torch.Size([1])). This will likely lead to incorrect results due to broadcasting. Please ensure they have the same size.\n",
      "  return F.mse_loss(input, target, reduction=self.reduction)\n",
      "/Users/yuksehyun/anaconda3/envs/qrf/lib/python3.12/site-packages/torch/nn/modules/loss.py:538: UserWarning: Using a target size (torch.Size([])) that is different to the input size (torch.Size([1])). This will likely lead to incorrect results due to broadcasting. Please ensure they have the same size.\n",
      "  return F.mse_loss(input, target, reduction=self.reduction)\n"
     ]
    },
    {
     "name": "stdout",
     "output_type": "stream",
     "text": [
      "model weights grad :  tensor([-0.1466, -0.2722, -0.1165, -0.1647])\n",
      "model weights grad :  tensor([-0.0013, -0.0032, -0.0678, -0.2426])\n",
      "model weights grad :  tensor([-0.1813, -0.1156, -0.2750, -0.2723])\n"
     ]
    },
    {
     "name": "stderr",
     "output_type": "stream",
     "text": [
      "/Users/yuksehyun/anaconda3/envs/qrf/lib/python3.12/site-packages/torch/nn/modules/loss.py:538: UserWarning: Using a target size (torch.Size([])) that is different to the input size (torch.Size([1])). This will likely lead to incorrect results due to broadcasting. Please ensure they have the same size.\n",
      "  return F.mse_loss(input, target, reduction=self.reduction)\n",
      "/Users/yuksehyun/anaconda3/envs/qrf/lib/python3.12/site-packages/torch/nn/modules/loss.py:538: UserWarning: Using a target size (torch.Size([])) that is different to the input size (torch.Size([1])). This will likely lead to incorrect results due to broadcasting. Please ensure they have the same size.\n",
      "  return F.mse_loss(input, target, reduction=self.reduction)\n",
      "/Users/yuksehyun/anaconda3/envs/qrf/lib/python3.12/site-packages/torch/nn/modules/loss.py:538: UserWarning: Using a target size (torch.Size([])) that is different to the input size (torch.Size([1])). This will likely lead to incorrect results due to broadcasting. Please ensure they have the same size.\n",
      "  return F.mse_loss(input, target, reduction=self.reduction)\n"
     ]
    },
    {
     "name": "stdout",
     "output_type": "stream",
     "text": [
      "model weights grad :  tensor([-0.0625, -0.3840, -0.3228, -0.1154])\n",
      "model weights grad :  tensor([-0.1230, -0.0273, -0.2489, -0.1928])\n",
      "model weights grad :  tensor([-0.1198, -0.1631, -0.0520, -0.1356])\n"
     ]
    },
    {
     "name": "stderr",
     "output_type": "stream",
     "text": [
      "/Users/yuksehyun/anaconda3/envs/qrf/lib/python3.12/site-packages/torch/nn/modules/loss.py:538: UserWarning: Using a target size (torch.Size([])) that is different to the input size (torch.Size([1])). This will likely lead to incorrect results due to broadcasting. Please ensure they have the same size.\n",
      "  return F.mse_loss(input, target, reduction=self.reduction)\n",
      "/Users/yuksehyun/anaconda3/envs/qrf/lib/python3.12/site-packages/torch/nn/modules/loss.py:538: UserWarning: Using a target size (torch.Size([])) that is different to the input size (torch.Size([1])). This will likely lead to incorrect results due to broadcasting. Please ensure they have the same size.\n",
      "  return F.mse_loss(input, target, reduction=self.reduction)\n",
      "/Users/yuksehyun/anaconda3/envs/qrf/lib/python3.12/site-packages/torch/nn/modules/loss.py:538: UserWarning: Using a target size (torch.Size([])) that is different to the input size (torch.Size([1])). This will likely lead to incorrect results due to broadcasting. Please ensure they have the same size.\n",
      "  return F.mse_loss(input, target, reduction=self.reduction)\n"
     ]
    },
    {
     "name": "stdout",
     "output_type": "stream",
     "text": [
      "model weights grad :  tensor([-0.1852, -0.1645, -0.2994, -0.1696])\n",
      "model weights grad :  tensor([-0.1322, -0.1608, -0.1101, -0.2216])\n",
      "model weights grad :  tensor([-0.1656, -0.0463, -0.2124, -0.0798])\n"
     ]
    },
    {
     "name": "stderr",
     "output_type": "stream",
     "text": [
      "/Users/yuksehyun/anaconda3/envs/qrf/lib/python3.12/site-packages/torch/nn/modules/loss.py:538: UserWarning: Using a target size (torch.Size([])) that is different to the input size (torch.Size([1])). This will likely lead to incorrect results due to broadcasting. Please ensure they have the same size.\n",
      "  return F.mse_loss(input, target, reduction=self.reduction)\n",
      "/Users/yuksehyun/anaconda3/envs/qrf/lib/python3.12/site-packages/torch/nn/modules/loss.py:538: UserWarning: Using a target size (torch.Size([])) that is different to the input size (torch.Size([1])). This will likely lead to incorrect results due to broadcasting. Please ensure they have the same size.\n",
      "  return F.mse_loss(input, target, reduction=self.reduction)\n",
      "/Users/yuksehyun/anaconda3/envs/qrf/lib/python3.12/site-packages/torch/nn/modules/loss.py:538: UserWarning: Using a target size (torch.Size([])) that is different to the input size (torch.Size([1])). This will likely lead to incorrect results due to broadcasting. Please ensure they have the same size.\n",
      "  return F.mse_loss(input, target, reduction=self.reduction)\n"
     ]
    },
    {
     "name": "stdout",
     "output_type": "stream",
     "text": [
      "model weights grad :  tensor([-0.0410, -0.0093, -0.1783, -0.0253])\n",
      "model weights grad :  tensor([-0.0789, -0.2061, -0.1629, -0.1664])\n",
      "model weights grad :  tensor([-0.1563, -0.1069, -0.1008, -0.1682])\n"
     ]
    },
    {
     "name": "stderr",
     "output_type": "stream",
     "text": [
      "/Users/yuksehyun/anaconda3/envs/qrf/lib/python3.12/site-packages/torch/nn/modules/loss.py:538: UserWarning: Using a target size (torch.Size([])) that is different to the input size (torch.Size([1])). This will likely lead to incorrect results due to broadcasting. Please ensure they have the same size.\n",
      "  return F.mse_loss(input, target, reduction=self.reduction)\n",
      "/Users/yuksehyun/anaconda3/envs/qrf/lib/python3.12/site-packages/torch/nn/modules/loss.py:538: UserWarning: Using a target size (torch.Size([])) that is different to the input size (torch.Size([1])). This will likely lead to incorrect results due to broadcasting. Please ensure they have the same size.\n",
      "  return F.mse_loss(input, target, reduction=self.reduction)\n",
      "/Users/yuksehyun/anaconda3/envs/qrf/lib/python3.12/site-packages/torch/nn/modules/loss.py:538: UserWarning: Using a target size (torch.Size([])) that is different to the input size (torch.Size([1])). This will likely lead to incorrect results due to broadcasting. Please ensure they have the same size.\n",
      "  return F.mse_loss(input, target, reduction=self.reduction)\n"
     ]
    },
    {
     "name": "stdout",
     "output_type": "stream",
     "text": [
      "model weights grad :  tensor([-0.1483, -0.0439, -0.1856, -0.1997])\n",
      "model weights grad :  tensor([-0.0539, -0.0423, -0.0035, -0.0684])\n",
      "model weights grad :  tensor([-0.0185, -0.0012, -0.0005, -0.0250])\n"
     ]
    },
    {
     "name": "stderr",
     "output_type": "stream",
     "text": [
      "/Users/yuksehyun/anaconda3/envs/qrf/lib/python3.12/site-packages/torch/nn/modules/loss.py:538: UserWarning: Using a target size (torch.Size([])) that is different to the input size (torch.Size([1])). This will likely lead to incorrect results due to broadcasting. Please ensure they have the same size.\n",
      "  return F.mse_loss(input, target, reduction=self.reduction)\n",
      "/Users/yuksehyun/anaconda3/envs/qrf/lib/python3.12/site-packages/torch/nn/modules/loss.py:538: UserWarning: Using a target size (torch.Size([])) that is different to the input size (torch.Size([1])). This will likely lead to incorrect results due to broadcasting. Please ensure they have the same size.\n",
      "  return F.mse_loss(input, target, reduction=self.reduction)\n",
      "/Users/yuksehyun/anaconda3/envs/qrf/lib/python3.12/site-packages/torch/nn/modules/loss.py:538: UserWarning: Using a target size (torch.Size([])) that is different to the input size (torch.Size([1])). This will likely lead to incorrect results due to broadcasting. Please ensure they have the same size.\n",
      "  return F.mse_loss(input, target, reduction=self.reduction)\n"
     ]
    },
    {
     "name": "stdout",
     "output_type": "stream",
     "text": [
      "model weights grad :  tensor([-0.0592, -0.0119, -0.0329, -0.0463])\n",
      "model weights grad :  tensor([-0.0998, -0.4064, -0.2773, -0.3153])\n",
      "model weights grad :  tensor([-0.0139, -0.0167, -0.3816, -0.0588])\n"
     ]
    },
    {
     "name": "stderr",
     "output_type": "stream",
     "text": [
      "/Users/yuksehyun/anaconda3/envs/qrf/lib/python3.12/site-packages/torch/nn/modules/loss.py:538: UserWarning: Using a target size (torch.Size([])) that is different to the input size (torch.Size([1])). This will likely lead to incorrect results due to broadcasting. Please ensure they have the same size.\n",
      "  return F.mse_loss(input, target, reduction=self.reduction)\n",
      "/Users/yuksehyun/anaconda3/envs/qrf/lib/python3.12/site-packages/torch/nn/modules/loss.py:538: UserWarning: Using a target size (torch.Size([])) that is different to the input size (torch.Size([1])). This will likely lead to incorrect results due to broadcasting. Please ensure they have the same size.\n",
      "  return F.mse_loss(input, target, reduction=self.reduction)\n",
      "/Users/yuksehyun/anaconda3/envs/qrf/lib/python3.12/site-packages/torch/nn/modules/loss.py:538: UserWarning: Using a target size (torch.Size([])) that is different to the input size (torch.Size([1])). This will likely lead to incorrect results due to broadcasting. Please ensure they have the same size.\n",
      "  return F.mse_loss(input, target, reduction=self.reduction)\n"
     ]
    },
    {
     "name": "stdout",
     "output_type": "stream",
     "text": [
      "model weights grad :  tensor([-0.0948, -0.0768, -0.0537, -0.0268])\n",
      "model weights grad :  tensor([-0.2290, -0.2502, -0.2241, -0.1255])\n",
      "model weights grad :  tensor([-0.0617, -0.1279, -0.0996, -0.1960])\n"
     ]
    },
    {
     "name": "stderr",
     "output_type": "stream",
     "text": [
      "/Users/yuksehyun/anaconda3/envs/qrf/lib/python3.12/site-packages/torch/nn/modules/loss.py:538: UserWarning: Using a target size (torch.Size([])) that is different to the input size (torch.Size([1])). This will likely lead to incorrect results due to broadcasting. Please ensure they have the same size.\n",
      "  return F.mse_loss(input, target, reduction=self.reduction)\n",
      "/Users/yuksehyun/anaconda3/envs/qrf/lib/python3.12/site-packages/torch/nn/modules/loss.py:538: UserWarning: Using a target size (torch.Size([])) that is different to the input size (torch.Size([1])). This will likely lead to incorrect results due to broadcasting. Please ensure they have the same size.\n",
      "  return F.mse_loss(input, target, reduction=self.reduction)\n",
      "/Users/yuksehyun/anaconda3/envs/qrf/lib/python3.12/site-packages/torch/nn/modules/loss.py:538: UserWarning: Using a target size (torch.Size([])) that is different to the input size (torch.Size([1])). This will likely lead to incorrect results due to broadcasting. Please ensure they have the same size.\n",
      "  return F.mse_loss(input, target, reduction=self.reduction)\n"
     ]
    },
    {
     "name": "stdout",
     "output_type": "stream",
     "text": [
      "model weights grad :  tensor([-0.1809, -0.1784, -0.1132, -0.1553])\n",
      "model weights grad :  tensor([-0.0983, -0.0249, -0.1110, -0.0175])\n",
      "model weights grad :  tensor([-0.0565, -0.0327, -0.0052, -0.0917])\n"
     ]
    },
    {
     "name": "stderr",
     "output_type": "stream",
     "text": [
      "/Users/yuksehyun/anaconda3/envs/qrf/lib/python3.12/site-packages/torch/nn/modules/loss.py:538: UserWarning: Using a target size (torch.Size([])) that is different to the input size (torch.Size([1])). This will likely lead to incorrect results due to broadcasting. Please ensure they have the same size.\n",
      "  return F.mse_loss(input, target, reduction=self.reduction)\n",
      "/Users/yuksehyun/anaconda3/envs/qrf/lib/python3.12/site-packages/torch/nn/modules/loss.py:538: UserWarning: Using a target size (torch.Size([])) that is different to the input size (torch.Size([1])). This will likely lead to incorrect results due to broadcasting. Please ensure they have the same size.\n",
      "  return F.mse_loss(input, target, reduction=self.reduction)\n",
      "/Users/yuksehyun/anaconda3/envs/qrf/lib/python3.12/site-packages/torch/nn/modules/loss.py:538: UserWarning: Using a target size (torch.Size([])) that is different to the input size (torch.Size([1])). This will likely lead to incorrect results due to broadcasting. Please ensure they have the same size.\n",
      "  return F.mse_loss(input, target, reduction=self.reduction)\n"
     ]
    },
    {
     "name": "stdout",
     "output_type": "stream",
     "text": [
      "model weights grad :  tensor([-0.1521, -0.0814, -0.2858, -0.2274])\n",
      "model weights grad :  tensor([-0.0143, -0.2607, -0.2578, -0.0435])\n",
      "model weights grad :  tensor([-0.0719, -0.1828, -0.1385, -0.1825])\n"
     ]
    },
    {
     "name": "stderr",
     "output_type": "stream",
     "text": [
      "/Users/yuksehyun/anaconda3/envs/qrf/lib/python3.12/site-packages/torch/nn/modules/loss.py:538: UserWarning: Using a target size (torch.Size([])) that is different to the input size (torch.Size([1])). This will likely lead to incorrect results due to broadcasting. Please ensure they have the same size.\n",
      "  return F.mse_loss(input, target, reduction=self.reduction)\n",
      "/Users/yuksehyun/anaconda3/envs/qrf/lib/python3.12/site-packages/torch/nn/modules/loss.py:538: UserWarning: Using a target size (torch.Size([])) that is different to the input size (torch.Size([1])). This will likely lead to incorrect results due to broadcasting. Please ensure they have the same size.\n",
      "  return F.mse_loss(input, target, reduction=self.reduction)\n",
      "/Users/yuksehyun/anaconda3/envs/qrf/lib/python3.12/site-packages/torch/nn/modules/loss.py:538: UserWarning: Using a target size (torch.Size([])) that is different to the input size (torch.Size([1])). This will likely lead to incorrect results due to broadcasting. Please ensure they have the same size.\n",
      "  return F.mse_loss(input, target, reduction=self.reduction)\n"
     ]
    },
    {
     "name": "stdout",
     "output_type": "stream",
     "text": [
      "model weights grad :  tensor([-0.0051, -0.3424, -0.0847, -0.2461])\n",
      "model weights grad :  tensor([-0.0397, -0.0318, -0.0004, -0.0312])\n",
      "model weights grad :  tensor([-0.0408, -0.0100, -0.0284, -0.0058])\n"
     ]
    },
    {
     "name": "stderr",
     "output_type": "stream",
     "text": [
      "/Users/yuksehyun/anaconda3/envs/qrf/lib/python3.12/site-packages/torch/nn/modules/loss.py:538: UserWarning: Using a target size (torch.Size([])) that is different to the input size (torch.Size([1])). This will likely lead to incorrect results due to broadcasting. Please ensure they have the same size.\n",
      "  return F.mse_loss(input, target, reduction=self.reduction)\n",
      "/Users/yuksehyun/anaconda3/envs/qrf/lib/python3.12/site-packages/torch/nn/modules/loss.py:538: UserWarning: Using a target size (torch.Size([])) that is different to the input size (torch.Size([1])). This will likely lead to incorrect results due to broadcasting. Please ensure they have the same size.\n",
      "  return F.mse_loss(input, target, reduction=self.reduction)\n",
      "/Users/yuksehyun/anaconda3/envs/qrf/lib/python3.12/site-packages/torch/nn/modules/loss.py:538: UserWarning: Using a target size (torch.Size([])) that is different to the input size (torch.Size([1])). This will likely lead to incorrect results due to broadcasting. Please ensure they have the same size.\n",
      "  return F.mse_loss(input, target, reduction=self.reduction)\n"
     ]
    },
    {
     "name": "stdout",
     "output_type": "stream",
     "text": [
      "model weights grad :  tensor([-0.0311, -0.0745, -0.0303, -0.0809])\n",
      "model weights grad :  tensor([-0.1817, -0.3061, -0.2184, -0.0895])\n",
      "model weights grad :  tensor([-0.1515, -0.2271, -0.2741, -0.3167])\n"
     ]
    },
    {
     "name": "stderr",
     "output_type": "stream",
     "text": [
      "/Users/yuksehyun/anaconda3/envs/qrf/lib/python3.12/site-packages/torch/nn/modules/loss.py:538: UserWarning: Using a target size (torch.Size([])) that is different to the input size (torch.Size([1])). This will likely lead to incorrect results due to broadcasting. Please ensure they have the same size.\n",
      "  return F.mse_loss(input, target, reduction=self.reduction)\n",
      "/Users/yuksehyun/anaconda3/envs/qrf/lib/python3.12/site-packages/torch/nn/modules/loss.py:538: UserWarning: Using a target size (torch.Size([])) that is different to the input size (torch.Size([1])). This will likely lead to incorrect results due to broadcasting. Please ensure they have the same size.\n",
      "  return F.mse_loss(input, target, reduction=self.reduction)\n",
      "/Users/yuksehyun/anaconda3/envs/qrf/lib/python3.12/site-packages/torch/nn/modules/loss.py:538: UserWarning: Using a target size (torch.Size([])) that is different to the input size (torch.Size([1])). This will likely lead to incorrect results due to broadcasting. Please ensure they have the same size.\n",
      "  return F.mse_loss(input, target, reduction=self.reduction)\n"
     ]
    },
    {
     "name": "stdout",
     "output_type": "stream",
     "text": [
      "model weights grad :  tensor([-0.1796, -0.1832, -0.1310, -0.0692])\n",
      "model weights grad :  tensor([-0.1865, -0.2422, -0.2239, -0.0501])\n",
      "model weights grad :  tensor([-0.1266, -0.0063, -0.2046, -0.1354])\n"
     ]
    },
    {
     "name": "stderr",
     "output_type": "stream",
     "text": [
      "/Users/yuksehyun/anaconda3/envs/qrf/lib/python3.12/site-packages/torch/nn/modules/loss.py:538: UserWarning: Using a target size (torch.Size([])) that is different to the input size (torch.Size([1])). This will likely lead to incorrect results due to broadcasting. Please ensure they have the same size.\n",
      "  return F.mse_loss(input, target, reduction=self.reduction)\n",
      "/Users/yuksehyun/anaconda3/envs/qrf/lib/python3.12/site-packages/torch/nn/modules/loss.py:538: UserWarning: Using a target size (torch.Size([])) that is different to the input size (torch.Size([1])). This will likely lead to incorrect results due to broadcasting. Please ensure they have the same size.\n",
      "  return F.mse_loss(input, target, reduction=self.reduction)\n",
      "/Users/yuksehyun/anaconda3/envs/qrf/lib/python3.12/site-packages/torch/nn/modules/loss.py:538: UserWarning: Using a target size (torch.Size([])) that is different to the input size (torch.Size([1])). This will likely lead to incorrect results due to broadcasting. Please ensure they have the same size.\n",
      "  return F.mse_loss(input, target, reduction=self.reduction)\n"
     ]
    },
    {
     "name": "stdout",
     "output_type": "stream",
     "text": [
      "model weights grad :  tensor([-0.0354, -0.1163, -0.0717, -0.0130])\n",
      "model weights grad :  tensor([-0.1429, -0.2753, -0.2852, -0.0700])\n",
      "model weights grad :  tensor([-0.1448, -0.1036, -0.2021, -0.0033])\n"
     ]
    },
    {
     "name": "stderr",
     "output_type": "stream",
     "text": [
      "/Users/yuksehyun/anaconda3/envs/qrf/lib/python3.12/site-packages/torch/nn/modules/loss.py:538: UserWarning: Using a target size (torch.Size([])) that is different to the input size (torch.Size([1])). This will likely lead to incorrect results due to broadcasting. Please ensure they have the same size.\n",
      "  return F.mse_loss(input, target, reduction=self.reduction)\n",
      "/Users/yuksehyun/anaconda3/envs/qrf/lib/python3.12/site-packages/torch/nn/modules/loss.py:538: UserWarning: Using a target size (torch.Size([])) that is different to the input size (torch.Size([1])). This will likely lead to incorrect results due to broadcasting. Please ensure they have the same size.\n",
      "  return F.mse_loss(input, target, reduction=self.reduction)\n",
      "/Users/yuksehyun/anaconda3/envs/qrf/lib/python3.12/site-packages/torch/nn/modules/loss.py:538: UserWarning: Using a target size (torch.Size([])) that is different to the input size (torch.Size([1])). This will likely lead to incorrect results due to broadcasting. Please ensure they have the same size.\n",
      "  return F.mse_loss(input, target, reduction=self.reduction)\n"
     ]
    },
    {
     "name": "stdout",
     "output_type": "stream",
     "text": [
      "model weights grad :  tensor([-0.0326, -0.0149, -0.0471, -0.0345])\n",
      "model weights grad :  tensor([-0.0898, -0.2597, -0.0458, -0.1789])\n",
      "model weights grad :  tensor([-0.1998, -0.1376, -0.2139, -0.1832])\n"
     ]
    },
    {
     "name": "stderr",
     "output_type": "stream",
     "text": [
      "/Users/yuksehyun/anaconda3/envs/qrf/lib/python3.12/site-packages/torch/nn/modules/loss.py:538: UserWarning: Using a target size (torch.Size([])) that is different to the input size (torch.Size([1])). This will likely lead to incorrect results due to broadcasting. Please ensure they have the same size.\n",
      "  return F.mse_loss(input, target, reduction=self.reduction)\n",
      "/Users/yuksehyun/anaconda3/envs/qrf/lib/python3.12/site-packages/torch/nn/modules/loss.py:538: UserWarning: Using a target size (torch.Size([])) that is different to the input size (torch.Size([1])). This will likely lead to incorrect results due to broadcasting. Please ensure they have the same size.\n",
      "  return F.mse_loss(input, target, reduction=self.reduction)\n",
      "/Users/yuksehyun/anaconda3/envs/qrf/lib/python3.12/site-packages/torch/nn/modules/loss.py:538: UserWarning: Using a target size (torch.Size([])) that is different to the input size (torch.Size([1])). This will likely lead to incorrect results due to broadcasting. Please ensure they have the same size.\n",
      "  return F.mse_loss(input, target, reduction=self.reduction)\n"
     ]
    },
    {
     "name": "stdout",
     "output_type": "stream",
     "text": [
      "model weights grad :  tensor([-0.0037, -0.1846, -0.0044, -0.0024])\n",
      "model weights grad :  tensor([-0.0146, -0.1867, -0.4335, -0.3111])\n",
      "model weights grad :  tensor([-0.0802, -0.1090, -0.0231, -0.0103])\n"
     ]
    },
    {
     "name": "stderr",
     "output_type": "stream",
     "text": [
      "/Users/yuksehyun/anaconda3/envs/qrf/lib/python3.12/site-packages/torch/nn/modules/loss.py:538: UserWarning: Using a target size (torch.Size([])) that is different to the input size (torch.Size([1])). This will likely lead to incorrect results due to broadcasting. Please ensure they have the same size.\n",
      "  return F.mse_loss(input, target, reduction=self.reduction)\n",
      "/Users/yuksehyun/anaconda3/envs/qrf/lib/python3.12/site-packages/torch/nn/modules/loss.py:538: UserWarning: Using a target size (torch.Size([])) that is different to the input size (torch.Size([1])). This will likely lead to incorrect results due to broadcasting. Please ensure they have the same size.\n",
      "  return F.mse_loss(input, target, reduction=self.reduction)\n",
      "/Users/yuksehyun/anaconda3/envs/qrf/lib/python3.12/site-packages/torch/nn/modules/loss.py:538: UserWarning: Using a target size (torch.Size([])) that is different to the input size (torch.Size([1])). This will likely lead to incorrect results due to broadcasting. Please ensure they have the same size.\n",
      "  return F.mse_loss(input, target, reduction=self.reduction)\n"
     ]
    },
    {
     "name": "stdout",
     "output_type": "stream",
     "text": [
      "model weights grad :  tensor([0.0134, 0.0009, 0.0015, 0.0089])\n",
      "model weights grad :  tensor([-0.0705, -0.1564, -0.0292, -0.0153])\n",
      "model weights grad :  tensor([-0.1142, -0.1704, -0.0567, -0.1683])\n"
     ]
    },
    {
     "name": "stderr",
     "output_type": "stream",
     "text": [
      "/Users/yuksehyun/anaconda3/envs/qrf/lib/python3.12/site-packages/torch/nn/modules/loss.py:538: UserWarning: Using a target size (torch.Size([])) that is different to the input size (torch.Size([1])). This will likely lead to incorrect results due to broadcasting. Please ensure they have the same size.\n",
      "  return F.mse_loss(input, target, reduction=self.reduction)\n",
      "/Users/yuksehyun/anaconda3/envs/qrf/lib/python3.12/site-packages/torch/nn/modules/loss.py:538: UserWarning: Using a target size (torch.Size([])) that is different to the input size (torch.Size([1])). This will likely lead to incorrect results due to broadcasting. Please ensure they have the same size.\n",
      "  return F.mse_loss(input, target, reduction=self.reduction)\n",
      "/Users/yuksehyun/anaconda3/envs/qrf/lib/python3.12/site-packages/torch/nn/modules/loss.py:538: UserWarning: Using a target size (torch.Size([])) that is different to the input size (torch.Size([1])). This will likely lead to incorrect results due to broadcasting. Please ensure they have the same size.\n",
      "  return F.mse_loss(input, target, reduction=self.reduction)\n"
     ]
    },
    {
     "name": "stdout",
     "output_type": "stream",
     "text": [
      "model weights grad :  tensor([-0.0386, -0.0185, -0.0159, -0.0199])\n",
      "model weights grad :  tensor([-0.0530, -0.0495, -0.0086, -0.0261])\n",
      "model weights grad :  tensor([-0.1327, -0.3002, -0.4313, -0.2744])\n"
     ]
    },
    {
     "name": "stderr",
     "output_type": "stream",
     "text": [
      "/Users/yuksehyun/anaconda3/envs/qrf/lib/python3.12/site-packages/torch/nn/modules/loss.py:538: UserWarning: Using a target size (torch.Size([])) that is different to the input size (torch.Size([1])). This will likely lead to incorrect results due to broadcasting. Please ensure they have the same size.\n",
      "  return F.mse_loss(input, target, reduction=self.reduction)\n",
      "/Users/yuksehyun/anaconda3/envs/qrf/lib/python3.12/site-packages/torch/nn/modules/loss.py:538: UserWarning: Using a target size (torch.Size([])) that is different to the input size (torch.Size([1])). This will likely lead to incorrect results due to broadcasting. Please ensure they have the same size.\n",
      "  return F.mse_loss(input, target, reduction=self.reduction)\n",
      "/Users/yuksehyun/anaconda3/envs/qrf/lib/python3.12/site-packages/torch/nn/modules/loss.py:538: UserWarning: Using a target size (torch.Size([])) that is different to the input size (torch.Size([1])). This will likely lead to incorrect results due to broadcasting. Please ensure they have the same size.\n",
      "  return F.mse_loss(input, target, reduction=self.reduction)\n"
     ]
    },
    {
     "name": "stdout",
     "output_type": "stream",
     "text": [
      "model weights grad :  tensor([-0.0494, -0.0137, -0.0240, -0.0617])\n",
      "model weights grad :  tensor([-0.1211, -0.1033, -0.1680, -0.1427])\n",
      "model weights grad :  tensor([-0.0222, -0.1176, -0.0076, -0.0094])\n"
     ]
    },
    {
     "name": "stderr",
     "output_type": "stream",
     "text": [
      "/Users/yuksehyun/anaconda3/envs/qrf/lib/python3.12/site-packages/torch/nn/modules/loss.py:538: UserWarning: Using a target size (torch.Size([])) that is different to the input size (torch.Size([1])). This will likely lead to incorrect results due to broadcasting. Please ensure they have the same size.\n",
      "  return F.mse_loss(input, target, reduction=self.reduction)\n",
      "/Users/yuksehyun/anaconda3/envs/qrf/lib/python3.12/site-packages/torch/nn/modules/loss.py:538: UserWarning: Using a target size (torch.Size([])) that is different to the input size (torch.Size([1])). This will likely lead to incorrect results due to broadcasting. Please ensure they have the same size.\n",
      "  return F.mse_loss(input, target, reduction=self.reduction)\n",
      "/Users/yuksehyun/anaconda3/envs/qrf/lib/python3.12/site-packages/torch/nn/modules/loss.py:538: UserWarning: Using a target size (torch.Size([])) that is different to the input size (torch.Size([1])). This will likely lead to incorrect results due to broadcasting. Please ensure they have the same size.\n",
      "  return F.mse_loss(input, target, reduction=self.reduction)\n"
     ]
    },
    {
     "name": "stdout",
     "output_type": "stream",
     "text": [
      "model weights grad :  tensor([-0.0697, -0.1300, -0.0091, -0.0224])\n",
      "model weights grad :  tensor([-0.0388, -0.0083, -0.0129, -0.0507])\n",
      "model weights grad :  tensor([-0.1420, -0.1542, -0.0731, -0.1295])\n"
     ]
    },
    {
     "name": "stderr",
     "output_type": "stream",
     "text": [
      "/Users/yuksehyun/anaconda3/envs/qrf/lib/python3.12/site-packages/torch/nn/modules/loss.py:538: UserWarning: Using a target size (torch.Size([])) that is different to the input size (torch.Size([1])). This will likely lead to incorrect results due to broadcasting. Please ensure they have the same size.\n",
      "  return F.mse_loss(input, target, reduction=self.reduction)\n",
      "/Users/yuksehyun/anaconda3/envs/qrf/lib/python3.12/site-packages/torch/nn/modules/loss.py:538: UserWarning: Using a target size (torch.Size([])) that is different to the input size (torch.Size([1])). This will likely lead to incorrect results due to broadcasting. Please ensure they have the same size.\n",
      "  return F.mse_loss(input, target, reduction=self.reduction)\n",
      "/Users/yuksehyun/anaconda3/envs/qrf/lib/python3.12/site-packages/torch/nn/modules/loss.py:538: UserWarning: Using a target size (torch.Size([])) that is different to the input size (torch.Size([1])). This will likely lead to incorrect results due to broadcasting. Please ensure they have the same size.\n",
      "  return F.mse_loss(input, target, reduction=self.reduction)\n"
     ]
    },
    {
     "name": "stdout",
     "output_type": "stream",
     "text": [
      "model weights grad :  tensor([-0.1973, -0.2437, -0.3046, -0.2748])\n",
      "model weights grad :  tensor([-0.0733, -0.0011, -0.0779, -0.0023])\n",
      "model weights grad :  tensor([-0.0422, -0.5116, -0.5345, -0.3950])\n"
     ]
    },
    {
     "name": "stderr",
     "output_type": "stream",
     "text": [
      "/Users/yuksehyun/anaconda3/envs/qrf/lib/python3.12/site-packages/torch/nn/modules/loss.py:538: UserWarning: Using a target size (torch.Size([])) that is different to the input size (torch.Size([1])). This will likely lead to incorrect results due to broadcasting. Please ensure they have the same size.\n",
      "  return F.mse_loss(input, target, reduction=self.reduction)\n",
      "/Users/yuksehyun/anaconda3/envs/qrf/lib/python3.12/site-packages/torch/nn/modules/loss.py:538: UserWarning: Using a target size (torch.Size([])) that is different to the input size (torch.Size([1])). This will likely lead to incorrect results due to broadcasting. Please ensure they have the same size.\n",
      "  return F.mse_loss(input, target, reduction=self.reduction)\n",
      "/Users/yuksehyun/anaconda3/envs/qrf/lib/python3.12/site-packages/torch/nn/modules/loss.py:538: UserWarning: Using a target size (torch.Size([])) that is different to the input size (torch.Size([1])). This will likely lead to incorrect results due to broadcasting. Please ensure they have the same size.\n",
      "  return F.mse_loss(input, target, reduction=self.reduction)\n"
     ]
    },
    {
     "name": "stdout",
     "output_type": "stream",
     "text": [
      "model weights grad :  tensor([-0.1519, -0.1449, -0.1199, -0.0030])\n",
      "model weights grad :  tensor([-0.1211, -0.0164, -0.1114, -0.0825])\n",
      "model weights grad :  tensor([-0.0704, -0.0015, -0.0568, -0.0449])\n"
     ]
    },
    {
     "name": "stderr",
     "output_type": "stream",
     "text": [
      "/Users/yuksehyun/anaconda3/envs/qrf/lib/python3.12/site-packages/torch/nn/modules/loss.py:538: UserWarning: Using a target size (torch.Size([])) that is different to the input size (torch.Size([1])). This will likely lead to incorrect results due to broadcasting. Please ensure they have the same size.\n",
      "  return F.mse_loss(input, target, reduction=self.reduction)\n",
      "/Users/yuksehyun/anaconda3/envs/qrf/lib/python3.12/site-packages/torch/nn/modules/loss.py:538: UserWarning: Using a target size (torch.Size([])) that is different to the input size (torch.Size([1])). This will likely lead to incorrect results due to broadcasting. Please ensure they have the same size.\n",
      "  return F.mse_loss(input, target, reduction=self.reduction)\n",
      "/Users/yuksehyun/anaconda3/envs/qrf/lib/python3.12/site-packages/torch/nn/modules/loss.py:538: UserWarning: Using a target size (torch.Size([])) that is different to the input size (torch.Size([1])). This will likely lead to incorrect results due to broadcasting. Please ensure they have the same size.\n",
      "  return F.mse_loss(input, target, reduction=self.reduction)\n"
     ]
    },
    {
     "name": "stdout",
     "output_type": "stream",
     "text": [
      "model weights grad :  tensor([-0.1429, -0.1404, -0.2366, -0.0703])\n",
      "model weights grad :  tensor([-0.1035, -0.1141, -0.2592, -0.1110])\n",
      "model weights grad :  tensor([-0.0532, -0.0028, -0.0231, -0.0815])\n"
     ]
    },
    {
     "name": "stderr",
     "output_type": "stream",
     "text": [
      "/Users/yuksehyun/anaconda3/envs/qrf/lib/python3.12/site-packages/torch/nn/modules/loss.py:538: UserWarning: Using a target size (torch.Size([])) that is different to the input size (torch.Size([1])). This will likely lead to incorrect results due to broadcasting. Please ensure they have the same size.\n",
      "  return F.mse_loss(input, target, reduction=self.reduction)\n",
      "/Users/yuksehyun/anaconda3/envs/qrf/lib/python3.12/site-packages/torch/nn/modules/loss.py:538: UserWarning: Using a target size (torch.Size([])) that is different to the input size (torch.Size([1])). This will likely lead to incorrect results due to broadcasting. Please ensure they have the same size.\n",
      "  return F.mse_loss(input, target, reduction=self.reduction)\n",
      "/Users/yuksehyun/anaconda3/envs/qrf/lib/python3.12/site-packages/torch/nn/modules/loss.py:538: UserWarning: Using a target size (torch.Size([])) that is different to the input size (torch.Size([1])). This will likely lead to incorrect results due to broadcasting. Please ensure they have the same size.\n",
      "  return F.mse_loss(input, target, reduction=self.reduction)\n"
     ]
    },
    {
     "name": "stdout",
     "output_type": "stream",
     "text": [
      "model weights grad :  tensor([-0.0909, -0.1391, -0.0107, -0.1494])\n",
      "model weights grad :  tensor([-0.1075, -0.0390, -0.0836, -0.0703])\n",
      "model weights grad :  tensor([-0.0641, -0.2655, -0.0603, -0.1813])\n"
     ]
    },
    {
     "name": "stderr",
     "output_type": "stream",
     "text": [
      "/Users/yuksehyun/anaconda3/envs/qrf/lib/python3.12/site-packages/torch/nn/modules/loss.py:538: UserWarning: Using a target size (torch.Size([])) that is different to the input size (torch.Size([1])). This will likely lead to incorrect results due to broadcasting. Please ensure they have the same size.\n",
      "  return F.mse_loss(input, target, reduction=self.reduction)\n",
      "/Users/yuksehyun/anaconda3/envs/qrf/lib/python3.12/site-packages/torch/nn/modules/loss.py:538: UserWarning: Using a target size (torch.Size([])) that is different to the input size (torch.Size([1])). This will likely lead to incorrect results due to broadcasting. Please ensure they have the same size.\n",
      "  return F.mse_loss(input, target, reduction=self.reduction)\n",
      "/Users/yuksehyun/anaconda3/envs/qrf/lib/python3.12/site-packages/torch/nn/modules/loss.py:538: UserWarning: Using a target size (torch.Size([])) that is different to the input size (torch.Size([1])). This will likely lead to incorrect results due to broadcasting. Please ensure they have the same size.\n",
      "  return F.mse_loss(input, target, reduction=self.reduction)\n"
     ]
    },
    {
     "name": "stdout",
     "output_type": "stream",
     "text": [
      "model weights grad :  tensor([-0.0625, -0.0542, -0.1387, -0.1382])\n",
      "model weights grad :  tensor([-0.0914, -0.2056, -0.3238, -0.1502])\n",
      "model weights grad :  tensor([-0.0170, -0.0038, -0.0022, -0.0135])\n"
     ]
    },
    {
     "name": "stderr",
     "output_type": "stream",
     "text": [
      "/Users/yuksehyun/anaconda3/envs/qrf/lib/python3.12/site-packages/torch/nn/modules/loss.py:538: UserWarning: Using a target size (torch.Size([])) that is different to the input size (torch.Size([1])). This will likely lead to incorrect results due to broadcasting. Please ensure they have the same size.\n",
      "  return F.mse_loss(input, target, reduction=self.reduction)\n",
      "/Users/yuksehyun/anaconda3/envs/qrf/lib/python3.12/site-packages/torch/nn/modules/loss.py:538: UserWarning: Using a target size (torch.Size([])) that is different to the input size (torch.Size([1])). This will likely lead to incorrect results due to broadcasting. Please ensure they have the same size.\n",
      "  return F.mse_loss(input, target, reduction=self.reduction)\n"
     ]
    },
    {
     "name": "stdout",
     "output_type": "stream",
     "text": [
      "model weights grad :  tensor([-0.0724, -0.1881, -0.0126, -0.1574])\n",
      "model weights grad :  tensor([-0.1135, -0.1884, -0.0686, -0.0203])\n"
     ]
    },
    {
     "name": "stderr",
     "output_type": "stream",
     "text": [
      "/Users/yuksehyun/anaconda3/envs/qrf/lib/python3.12/site-packages/torch/nn/modules/loss.py:538: UserWarning: Using a target size (torch.Size([])) that is different to the input size (torch.Size([1])). This will likely lead to incorrect results due to broadcasting. Please ensure they have the same size.\n",
      "  return F.mse_loss(input, target, reduction=self.reduction)\n",
      "/Users/yuksehyun/anaconda3/envs/qrf/lib/python3.12/site-packages/torch/nn/modules/loss.py:538: UserWarning: Using a target size (torch.Size([])) that is different to the input size (torch.Size([1])). This will likely lead to incorrect results due to broadcasting. Please ensure they have the same size.\n",
      "  return F.mse_loss(input, target, reduction=self.reduction)\n"
     ]
    },
    {
     "name": "stdout",
     "output_type": "stream",
     "text": [
      "model weights grad :  tensor([-0.0837, -0.0222, -0.0604, -0.1274])\n",
      "model weights grad :  tensor([-0.0611, -0.0978, -0.3631, -0.0123])\n",
      "model weights grad :  tensor([-0.1474, -0.0527, -0.1286, -0.1709])\n"
     ]
    },
    {
     "name": "stderr",
     "output_type": "stream",
     "text": [
      "/Users/yuksehyun/anaconda3/envs/qrf/lib/python3.12/site-packages/torch/nn/modules/loss.py:538: UserWarning: Using a target size (torch.Size([])) that is different to the input size (torch.Size([1])). This will likely lead to incorrect results due to broadcasting. Please ensure they have the same size.\n",
      "  return F.mse_loss(input, target, reduction=self.reduction)\n",
      "/Users/yuksehyun/anaconda3/envs/qrf/lib/python3.12/site-packages/torch/nn/modules/loss.py:538: UserWarning: Using a target size (torch.Size([])) that is different to the input size (torch.Size([1])). This will likely lead to incorrect results due to broadcasting. Please ensure they have the same size.\n",
      "  return F.mse_loss(input, target, reduction=self.reduction)\n",
      "/Users/yuksehyun/anaconda3/envs/qrf/lib/python3.12/site-packages/torch/nn/modules/loss.py:538: UserWarning: Using a target size (torch.Size([])) that is different to the input size (torch.Size([1])). This will likely lead to incorrect results due to broadcasting. Please ensure they have the same size.\n",
      "  return F.mse_loss(input, target, reduction=self.reduction)\n"
     ]
    },
    {
     "name": "stdout",
     "output_type": "stream",
     "text": [
      "model weights grad :  tensor([-0.2047, -0.2668, -0.3363, -0.1958])\n",
      "model weights grad :  tensor([-0.1095, -0.0654, -0.1251, -0.2453])\n",
      "model weights grad :  tensor([-0.0763, -0.0794, -0.3155, -0.1909])\n"
     ]
    },
    {
     "name": "stderr",
     "output_type": "stream",
     "text": [
      "/Users/yuksehyun/anaconda3/envs/qrf/lib/python3.12/site-packages/torch/nn/modules/loss.py:538: UserWarning: Using a target size (torch.Size([])) that is different to the input size (torch.Size([1])). This will likely lead to incorrect results due to broadcasting. Please ensure they have the same size.\n",
      "  return F.mse_loss(input, target, reduction=self.reduction)\n",
      "/Users/yuksehyun/anaconda3/envs/qrf/lib/python3.12/site-packages/torch/nn/modules/loss.py:538: UserWarning: Using a target size (torch.Size([])) that is different to the input size (torch.Size([1])). This will likely lead to incorrect results due to broadcasting. Please ensure they have the same size.\n",
      "  return F.mse_loss(input, target, reduction=self.reduction)\n",
      "/Users/yuksehyun/anaconda3/envs/qrf/lib/python3.12/site-packages/torch/nn/modules/loss.py:538: UserWarning: Using a target size (torch.Size([])) that is different to the input size (torch.Size([1])). This will likely lead to incorrect results due to broadcasting. Please ensure they have the same size.\n",
      "  return F.mse_loss(input, target, reduction=self.reduction)\n"
     ]
    },
    {
     "name": "stdout",
     "output_type": "stream",
     "text": [
      "model weights grad :  tensor([-0.0633, -0.3096, -0.1949, -0.1178])\n",
      "model weights grad :  tensor([-0.0829, -0.0081, -0.0641, -0.0709])\n",
      "model weights grad :  tensor([-0.0447, -0.0710, -0.2937, -0.3929])\n"
     ]
    },
    {
     "name": "stderr",
     "output_type": "stream",
     "text": [
      "/Users/yuksehyun/anaconda3/envs/qrf/lib/python3.12/site-packages/torch/nn/modules/loss.py:538: UserWarning: Using a target size (torch.Size([])) that is different to the input size (torch.Size([1])). This will likely lead to incorrect results due to broadcasting. Please ensure they have the same size.\n",
      "  return F.mse_loss(input, target, reduction=self.reduction)\n",
      "/Users/yuksehyun/anaconda3/envs/qrf/lib/python3.12/site-packages/torch/nn/modules/loss.py:538: UserWarning: Using a target size (torch.Size([])) that is different to the input size (torch.Size([1])). This will likely lead to incorrect results due to broadcasting. Please ensure they have the same size.\n",
      "  return F.mse_loss(input, target, reduction=self.reduction)\n",
      "/Users/yuksehyun/anaconda3/envs/qrf/lib/python3.12/site-packages/torch/nn/modules/loss.py:538: UserWarning: Using a target size (torch.Size([])) that is different to the input size (torch.Size([1])). This will likely lead to incorrect results due to broadcasting. Please ensure they have the same size.\n",
      "  return F.mse_loss(input, target, reduction=self.reduction)\n"
     ]
    },
    {
     "name": "stdout",
     "output_type": "stream",
     "text": [
      "model weights grad :  tensor([-0.1900, -0.1472, -0.2524, -0.1399])\n",
      "model weights grad :  tensor([-0.0744, -0.0449, -0.0635, -0.1209])\n"
     ]
    },
    {
     "name": "stderr",
     "output_type": "stream",
     "text": [
      "/Users/yuksehyun/anaconda3/envs/qrf/lib/python3.12/site-packages/torch/nn/modules/loss.py:538: UserWarning: Using a target size (torch.Size([])) that is different to the input size (torch.Size([1])). This will likely lead to incorrect results due to broadcasting. Please ensure they have the same size.\n",
      "  return F.mse_loss(input, target, reduction=self.reduction)\n",
      "/Users/yuksehyun/anaconda3/envs/qrf/lib/python3.12/site-packages/torch/nn/modules/loss.py:538: UserWarning: Using a target size (torch.Size([])) that is different to the input size (torch.Size([1])). This will likely lead to incorrect results due to broadcasting. Please ensure they have the same size.\n",
      "  return F.mse_loss(input, target, reduction=self.reduction)\n",
      "/Users/yuksehyun/anaconda3/envs/qrf/lib/python3.12/site-packages/torch/nn/modules/loss.py:538: UserWarning: Using a target size (torch.Size([])) that is different to the input size (torch.Size([1])). This will likely lead to incorrect results due to broadcasting. Please ensure they have the same size.\n",
      "  return F.mse_loss(input, target, reduction=self.reduction)\n"
     ]
    },
    {
     "name": "stdout",
     "output_type": "stream",
     "text": [
      "model weights grad :  tensor([-0.1990, -0.1979, -0.1437, -0.2108])\n",
      "model weights grad :  tensor([0.0233, 0.0073, 0.0047, 0.0046])\n",
      "model weights grad :  tensor([-0.0601, -0.3761, -0.4347, -0.4577])\n"
     ]
    },
    {
     "name": "stderr",
     "output_type": "stream",
     "text": [
      "/Users/yuksehyun/anaconda3/envs/qrf/lib/python3.12/site-packages/torch/nn/modules/loss.py:538: UserWarning: Using a target size (torch.Size([])) that is different to the input size (torch.Size([1])). This will likely lead to incorrect results due to broadcasting. Please ensure they have the same size.\n",
      "  return F.mse_loss(input, target, reduction=self.reduction)\n",
      "/Users/yuksehyun/anaconda3/envs/qrf/lib/python3.12/site-packages/torch/nn/modules/loss.py:538: UserWarning: Using a target size (torch.Size([])) that is different to the input size (torch.Size([1])). This will likely lead to incorrect results due to broadcasting. Please ensure they have the same size.\n",
      "  return F.mse_loss(input, target, reduction=self.reduction)\n",
      "/Users/yuksehyun/anaconda3/envs/qrf/lib/python3.12/site-packages/torch/nn/modules/loss.py:538: UserWarning: Using a target size (torch.Size([])) that is different to the input size (torch.Size([1])). This will likely lead to incorrect results due to broadcasting. Please ensure they have the same size.\n",
      "  return F.mse_loss(input, target, reduction=self.reduction)\n"
     ]
    },
    {
     "name": "stdout",
     "output_type": "stream",
     "text": [
      "model weights grad :  tensor([-0.1623, -0.3218, -0.2950, -0.3200])\n",
      "model weights grad :  tensor([-0.0453, -0.0270, -0.0220, -0.0033])\n",
      "model weights grad :  tensor([-0.0613, -0.0309, -0.0412, -0.0150])\n"
     ]
    },
    {
     "name": "stderr",
     "output_type": "stream",
     "text": [
      "/Users/yuksehyun/anaconda3/envs/qrf/lib/python3.12/site-packages/torch/nn/modules/loss.py:538: UserWarning: Using a target size (torch.Size([])) that is different to the input size (torch.Size([1])). This will likely lead to incorrect results due to broadcasting. Please ensure they have the same size.\n",
      "  return F.mse_loss(input, target, reduction=self.reduction)\n",
      "/Users/yuksehyun/anaconda3/envs/qrf/lib/python3.12/site-packages/torch/nn/modules/loss.py:538: UserWarning: Using a target size (torch.Size([])) that is different to the input size (torch.Size([1])). This will likely lead to incorrect results due to broadcasting. Please ensure they have the same size.\n",
      "  return F.mse_loss(input, target, reduction=self.reduction)\n",
      "/Users/yuksehyun/anaconda3/envs/qrf/lib/python3.12/site-packages/torch/nn/modules/loss.py:538: UserWarning: Using a target size (torch.Size([])) that is different to the input size (torch.Size([1])). This will likely lead to incorrect results due to broadcasting. Please ensure they have the same size.\n",
      "  return F.mse_loss(input, target, reduction=self.reduction)\n"
     ]
    },
    {
     "name": "stdout",
     "output_type": "stream",
     "text": [
      "model weights grad :  tensor([-0.0706, -0.1202, -0.3786, -0.2482])\n",
      "model weights grad :  tensor([-0.1038, -0.0391, -0.0970, -0.0743])\n",
      "model weights grad :  tensor([-0.0626, -0.0169, -0.0354, -0.0657])\n"
     ]
    },
    {
     "name": "stderr",
     "output_type": "stream",
     "text": [
      "/Users/yuksehyun/anaconda3/envs/qrf/lib/python3.12/site-packages/torch/nn/modules/loss.py:538: UserWarning: Using a target size (torch.Size([])) that is different to the input size (torch.Size([1])). This will likely lead to incorrect results due to broadcasting. Please ensure they have the same size.\n",
      "  return F.mse_loss(input, target, reduction=self.reduction)\n",
      "  0%|          | 0/100 [00:33<?, ?it/s]\n"
     ]
    },
    {
     "name": "stdout",
     "output_type": "stream",
     "text": [
      "model weights grad :  tensor([-0.1843, -0.3066, -0.2733, -0.1036])\n"
     ]
    },
    {
     "ename": "KeyboardInterrupt",
     "evalue": "",
     "output_type": "error",
     "traceback": [
      "\u001b[0;31m---------------------------------------------------------------------------\u001b[0m",
      "\u001b[0;31mKeyboardInterrupt\u001b[0m                         Traceback (most recent call last)",
      "Cell \u001b[0;32mIn[206], line 1\u001b[0m\n\u001b[0;32m----> 1\u001b[0m \u001b[43mtrainer1\u001b[49m\u001b[38;5;241;43m.\u001b[39;49m\u001b[43mtrain\u001b[49m\u001b[43m(\u001b[49m\u001b[43m)\u001b[49m\n",
      "File \u001b[0;32m~/project/NERF-vs-QRF/QAF/trainer.py:67\u001b[0m, in \u001b[0;36mtrainer.train\u001b[0;34m(self, epochs, chk)\u001b[0m\n\u001b[1;32m     65\u001b[0m \u001b[38;5;28;01mfor\u001b[39;00m idx, (x, y) \u001b[38;5;129;01min\u001b[39;00m \u001b[38;5;28menumerate\u001b[39m(\u001b[38;5;28mself\u001b[39m\u001b[38;5;241m.\u001b[39mtrain_loader):\n\u001b[1;32m     66\u001b[0m     \u001b[38;5;28mself\u001b[39m\u001b[38;5;241m.\u001b[39moptimizer\u001b[38;5;241m.\u001b[39mzero_grad()\n\u001b[0;32m---> 67\u001b[0m     pred \u001b[38;5;241m=\u001b[39m \u001b[38;5;28;43mself\u001b[39;49m\u001b[38;5;241;43m.\u001b[39;49m\u001b[43mmodel\u001b[49m\u001b[43m(\u001b[49m\u001b[43mx\u001b[49m\u001b[43m)\u001b[49m\n\u001b[1;32m     68\u001b[0m     loss \u001b[38;5;241m=\u001b[39m \u001b[38;5;28mself\u001b[39m\u001b[38;5;241m.\u001b[39mcriterion(pred, y)\n\u001b[1;32m     69\u001b[0m     \u001b[38;5;28mself\u001b[39m\u001b[38;5;241m.\u001b[39mtrain_loss_list\u001b[38;5;241m.\u001b[39mappend(loss\u001b[38;5;241m.\u001b[39mmean())\n",
      "File \u001b[0;32m~/anaconda3/envs/qrf/lib/python3.12/site-packages/torch/nn/modules/module.py:1553\u001b[0m, in \u001b[0;36mModule._wrapped_call_impl\u001b[0;34m(self, *args, **kwargs)\u001b[0m\n\u001b[1;32m   1551\u001b[0m     \u001b[38;5;28;01mreturn\u001b[39;00m \u001b[38;5;28mself\u001b[39m\u001b[38;5;241m.\u001b[39m_compiled_call_impl(\u001b[38;5;241m*\u001b[39margs, \u001b[38;5;241m*\u001b[39m\u001b[38;5;241m*\u001b[39mkwargs)  \u001b[38;5;66;03m# type: ignore[misc]\u001b[39;00m\n\u001b[1;32m   1552\u001b[0m \u001b[38;5;28;01melse\u001b[39;00m:\n\u001b[0;32m-> 1553\u001b[0m     \u001b[38;5;28;01mreturn\u001b[39;00m \u001b[38;5;28;43mself\u001b[39;49m\u001b[38;5;241;43m.\u001b[39;49m\u001b[43m_call_impl\u001b[49m\u001b[43m(\u001b[49m\u001b[38;5;241;43m*\u001b[39;49m\u001b[43margs\u001b[49m\u001b[43m,\u001b[49m\u001b[43m \u001b[49m\u001b[38;5;241;43m*\u001b[39;49m\u001b[38;5;241;43m*\u001b[39;49m\u001b[43mkwargs\u001b[49m\u001b[43m)\u001b[49m\n",
      "File \u001b[0;32m~/anaconda3/envs/qrf/lib/python3.12/site-packages/torch/nn/modules/module.py:1562\u001b[0m, in \u001b[0;36mModule._call_impl\u001b[0;34m(self, *args, **kwargs)\u001b[0m\n\u001b[1;32m   1557\u001b[0m \u001b[38;5;66;03m# If we don't have any hooks, we want to skip the rest of the logic in\u001b[39;00m\n\u001b[1;32m   1558\u001b[0m \u001b[38;5;66;03m# this function, and just call forward.\u001b[39;00m\n\u001b[1;32m   1559\u001b[0m \u001b[38;5;28;01mif\u001b[39;00m \u001b[38;5;129;01mnot\u001b[39;00m (\u001b[38;5;28mself\u001b[39m\u001b[38;5;241m.\u001b[39m_backward_hooks \u001b[38;5;129;01mor\u001b[39;00m \u001b[38;5;28mself\u001b[39m\u001b[38;5;241m.\u001b[39m_backward_pre_hooks \u001b[38;5;129;01mor\u001b[39;00m \u001b[38;5;28mself\u001b[39m\u001b[38;5;241m.\u001b[39m_forward_hooks \u001b[38;5;129;01mor\u001b[39;00m \u001b[38;5;28mself\u001b[39m\u001b[38;5;241m.\u001b[39m_forward_pre_hooks\n\u001b[1;32m   1560\u001b[0m         \u001b[38;5;129;01mor\u001b[39;00m _global_backward_pre_hooks \u001b[38;5;129;01mor\u001b[39;00m _global_backward_hooks\n\u001b[1;32m   1561\u001b[0m         \u001b[38;5;129;01mor\u001b[39;00m _global_forward_hooks \u001b[38;5;129;01mor\u001b[39;00m _global_forward_pre_hooks):\n\u001b[0;32m-> 1562\u001b[0m     \u001b[38;5;28;01mreturn\u001b[39;00m \u001b[43mforward_call\u001b[49m\u001b[43m(\u001b[49m\u001b[38;5;241;43m*\u001b[39;49m\u001b[43margs\u001b[49m\u001b[43m,\u001b[49m\u001b[43m \u001b[49m\u001b[38;5;241;43m*\u001b[39;49m\u001b[38;5;241;43m*\u001b[39;49m\u001b[43mkwargs\u001b[49m\u001b[43m)\u001b[49m\n\u001b[1;32m   1564\u001b[0m \u001b[38;5;28;01mtry\u001b[39;00m:\n\u001b[1;32m   1565\u001b[0m     result \u001b[38;5;241m=\u001b[39m \u001b[38;5;28;01mNone\u001b[39;00m\n",
      "Cell \u001b[0;32mIn[200], line 17\u001b[0m, in \u001b[0;36mqaf_model.forward\u001b[0;34m(self, input, dim)\u001b[0m\n\u001b[1;32m     15\u001b[0m \u001b[38;5;28;01mdef\u001b[39;00m \u001b[38;5;21mforward\u001b[39m(\u001b[38;5;28mself\u001b[39m, \u001b[38;5;28minput\u001b[39m, dim\u001b[38;5;241m=\u001b[39m\u001b[38;5;241m4\u001b[39m):\n\u001b[1;32m     16\u001b[0m     q_layer \u001b[38;5;241m=\u001b[39m qaf_layer(w\u001b[38;5;241m=\u001b[39m\u001b[38;5;28mself\u001b[39m\u001b[38;5;241m.\u001b[39mweights, x\u001b[38;5;241m=\u001b[39m\u001b[38;5;28minput\u001b[39m, b\u001b[38;5;241m=\u001b[39m\u001b[38;5;28mself\u001b[39m\u001b[38;5;241m.\u001b[39mbias, d\u001b[38;5;241m=\u001b[39mdim, f\u001b[38;5;241m=\u001b[39m\u001b[38;5;28mself\u001b[39m\u001b[38;5;241m.\u001b[39mactivation)\n\u001b[0;32m---> 17\u001b[0m     \u001b[38;5;28;01mreturn\u001b[39;00m \u001b[43mq_layer\u001b[49m\u001b[38;5;241;43m.\u001b[39;49m\u001b[43mactivation_estimation\u001b[49m\u001b[43m(\u001b[49m\u001b[43m)\u001b[49m\n",
      "Cell \u001b[0;32mIn[197], line 43\u001b[0m, in \u001b[0;36mqaf_layer.activation_estimation\u001b[0;34m(self)\u001b[0m\n\u001b[1;32m     42\u001b[0m \u001b[38;5;28;01mdef\u001b[39;00m \u001b[38;5;21mactivation_estimation\u001b[39m(\u001b[38;5;28mself\u001b[39m):\n\u001b[0;32m---> 43\u001b[0m     result \u001b[38;5;241m=\u001b[39m \u001b[38;5;28;43mself\u001b[39;49m\u001b[38;5;241;43m.\u001b[39;49m\u001b[43mamplitude_estimation\u001b[49m\u001b[43m(\u001b[49m\u001b[43m)\u001b[49m\n\u001b[1;32m     44\u001b[0m     \u001b[38;5;28;01mreturn\u001b[39;00m result \u001b[38;5;241m*\u001b[39m \u001b[38;5;28mself\u001b[39m\u001b[38;5;241m.\u001b[39mC_d\n",
      "Cell \u001b[0;32mIn[197], line 37\u001b[0m, in \u001b[0;36mqaf_layer.amplitude_estimation\u001b[0;34m(self)\u001b[0m\n\u001b[1;32m     36\u001b[0m \u001b[38;5;28;01mdef\u001b[39;00m \u001b[38;5;21mamplitude_estimation\u001b[39m(\u001b[38;5;28mself\u001b[39m):\n\u001b[0;32m---> 37\u001b[0m     result \u001b[38;5;241m=\u001b[39m \u001b[38;5;28;43mself\u001b[39;49m\u001b[38;5;241;43m.\u001b[39;49m\u001b[43mcontrolled_theorem2\u001b[49m\u001b[43m(\u001b[49m\u001b[43m)\u001b[49m[\u001b[38;5;241m0\u001b[39m] \u001b[38;5;66;03m# get P_0\u001b[39;00m\n\u001b[1;32m     38\u001b[0m     factorized_inner_product \u001b[38;5;241m=\u001b[39m torch\u001b[38;5;241m.\u001b[39msqrt(\u001b[38;5;241m4\u001b[39m \u001b[38;5;241m*\u001b[39m result) \u001b[38;5;241m-\u001b[39m \u001b[38;5;241m1\u001b[39m\n\u001b[1;32m     39\u001b[0m     inner_product \u001b[38;5;241m=\u001b[39m factorized_inner_product \u001b[38;5;241m*\u001b[39m (\u001b[38;5;241m2\u001b[39m \u001b[38;5;241m*\u001b[39m\u001b[38;5;241m*\u001b[39m (\u001b[38;5;28mself\u001b[39m\u001b[38;5;241m.\u001b[39md \u001b[38;5;241m/\u001b[39m \u001b[38;5;241m2\u001b[39m))\n",
      "Cell \u001b[0;32mIn[197], line 34\u001b[0m, in \u001b[0;36mqaf_layer.controlled_theorem2\u001b[0;34m(self)\u001b[0m\n\u001b[1;32m     32\u001b[0m     \u001b[38;5;28;01mreturn\u001b[39;00m qml\u001b[38;5;241m.\u001b[39mprobs()\n\u001b[1;32m     33\u001b[0m \u001b[38;5;66;03m# qml.draw_mpl(inner_controlled_theorem2,show_all_wires=True)()\u001b[39;00m\n\u001b[0;32m---> 34\u001b[0m \u001b[38;5;28;01mreturn\u001b[39;00m \u001b[43minner_controlled_theorem2\u001b[49m\u001b[43m(\u001b[49m\u001b[43m)\u001b[49m\n",
      "File \u001b[0;32m~/anaconda3/envs/qrf/lib/python3.12/site-packages/pennylane/workflow/qnode.py:1020\u001b[0m, in \u001b[0;36mQNode.__call__\u001b[0;34m(self, *args, **kwargs)\u001b[0m\n\u001b[1;32m   1018\u001b[0m \u001b[38;5;28;01mif\u001b[39;00m qml\u001b[38;5;241m.\u001b[39mcapture\u001b[38;5;241m.\u001b[39menabled():\n\u001b[1;32m   1019\u001b[0m     \u001b[38;5;28;01mreturn\u001b[39;00m qml\u001b[38;5;241m.\u001b[39mcapture\u001b[38;5;241m.\u001b[39mqnode_call(\u001b[38;5;28mself\u001b[39m, \u001b[38;5;241m*\u001b[39margs, \u001b[38;5;241m*\u001b[39m\u001b[38;5;241m*\u001b[39mkwargs)\n\u001b[0;32m-> 1020\u001b[0m \u001b[38;5;28;01mreturn\u001b[39;00m \u001b[38;5;28;43mself\u001b[39;49m\u001b[38;5;241;43m.\u001b[39;49m\u001b[43m_impl_call\u001b[49m\u001b[43m(\u001b[49m\u001b[38;5;241;43m*\u001b[39;49m\u001b[43margs\u001b[49m\u001b[43m,\u001b[49m\u001b[43m \u001b[49m\u001b[38;5;241;43m*\u001b[39;49m\u001b[38;5;241;43m*\u001b[39;49m\u001b[43mkwargs\u001b[49m\u001b[43m)\u001b[49m\n",
      "File \u001b[0;32m~/anaconda3/envs/qrf/lib/python3.12/site-packages/pennylane/workflow/qnode.py:1008\u001b[0m, in \u001b[0;36mQNode._impl_call\u001b[0;34m(self, *args, **kwargs)\u001b[0m\n\u001b[1;32m   1005\u001b[0m \u001b[38;5;28mself\u001b[39m\u001b[38;5;241m.\u001b[39m_update_gradient_fn(shots\u001b[38;5;241m=\u001b[39moverride_shots, tape\u001b[38;5;241m=\u001b[39m\u001b[38;5;28mself\u001b[39m\u001b[38;5;241m.\u001b[39m_tape)\n\u001b[1;32m   1007\u001b[0m \u001b[38;5;28;01mtry\u001b[39;00m:\n\u001b[0;32m-> 1008\u001b[0m     res \u001b[38;5;241m=\u001b[39m \u001b[38;5;28;43mself\u001b[39;49m\u001b[38;5;241;43m.\u001b[39;49m\u001b[43m_execution_component\u001b[49m\u001b[43m(\u001b[49m\u001b[43margs\u001b[49m\u001b[43m,\u001b[49m\u001b[43m \u001b[49m\u001b[43mkwargs\u001b[49m\u001b[43m,\u001b[49m\u001b[43m \u001b[49m\u001b[43moverride_shots\u001b[49m\u001b[38;5;241;43m=\u001b[39;49m\u001b[43moverride_shots\u001b[49m\u001b[43m)\u001b[49m\n\u001b[1;32m   1009\u001b[0m \u001b[38;5;28;01mfinally\u001b[39;00m:\n\u001b[1;32m   1010\u001b[0m     \u001b[38;5;28;01mif\u001b[39;00m old_interface \u001b[38;5;241m==\u001b[39m \u001b[38;5;124m\"\u001b[39m\u001b[38;5;124mauto\u001b[39m\u001b[38;5;124m\"\u001b[39m:\n",
      "File \u001b[0;32m~/anaconda3/envs/qrf/lib/python3.12/site-packages/pennylane/workflow/qnode.py:957\u001b[0m, in \u001b[0;36mQNode._execution_component\u001b[0;34m(self, args, kwargs, override_shots)\u001b[0m\n\u001b[1;32m    951\u001b[0m     warnings\u001b[38;5;241m.\u001b[39mfilterwarnings(\n\u001b[1;32m    952\u001b[0m         action\u001b[38;5;241m=\u001b[39m\u001b[38;5;124m\"\u001b[39m\u001b[38;5;124mignore\u001b[39m\u001b[38;5;124m\"\u001b[39m,\n\u001b[1;32m    953\u001b[0m         message\u001b[38;5;241m=\u001b[39m\u001b[38;5;124mr\u001b[39m\u001b[38;5;124m\"\u001b[39m\u001b[38;5;124m.*argument is deprecated and will be removed in version 0.39.*\u001b[39m\u001b[38;5;124m\"\u001b[39m,\n\u001b[1;32m    954\u001b[0m         category\u001b[38;5;241m=\u001b[39mqml\u001b[38;5;241m.\u001b[39mPennyLaneDeprecationWarning,\n\u001b[1;32m    955\u001b[0m     )\n\u001b[1;32m    956\u001b[0m     \u001b[38;5;66;03m# pylint: disable=unexpected-keyword-arg\u001b[39;00m\n\u001b[0;32m--> 957\u001b[0m     res \u001b[38;5;241m=\u001b[39m \u001b[43mqml\u001b[49m\u001b[38;5;241;43m.\u001b[39;49m\u001b[43mexecute\u001b[49m\u001b[43m(\u001b[49m\n\u001b[1;32m    958\u001b[0m \u001b[43m        \u001b[49m\u001b[43m(\u001b[49m\u001b[38;5;28;43mself\u001b[39;49m\u001b[38;5;241;43m.\u001b[39;49m\u001b[43m_tape\u001b[49m\u001b[43m,\u001b[49m\u001b[43m)\u001b[49m\u001b[43m,\u001b[49m\n\u001b[1;32m    959\u001b[0m \u001b[43m        \u001b[49m\u001b[43mdevice\u001b[49m\u001b[38;5;241;43m=\u001b[39;49m\u001b[38;5;28;43mself\u001b[39;49m\u001b[38;5;241;43m.\u001b[39;49m\u001b[43mdevice\u001b[49m\u001b[43m,\u001b[49m\n\u001b[1;32m    960\u001b[0m \u001b[43m        \u001b[49m\u001b[43mgradient_fn\u001b[49m\u001b[38;5;241;43m=\u001b[39;49m\u001b[38;5;28;43mself\u001b[39;49m\u001b[38;5;241;43m.\u001b[39;49m\u001b[43mgradient_fn\u001b[49m\u001b[43m,\u001b[49m\n\u001b[1;32m    961\u001b[0m \u001b[43m        \u001b[49m\u001b[43minterface\u001b[49m\u001b[38;5;241;43m=\u001b[39;49m\u001b[38;5;28;43mself\u001b[39;49m\u001b[38;5;241;43m.\u001b[39;49m\u001b[43minterface\u001b[49m\u001b[43m,\u001b[49m\n\u001b[1;32m    962\u001b[0m \u001b[43m        \u001b[49m\u001b[43mtransform_program\u001b[49m\u001b[38;5;241;43m=\u001b[39;49m\u001b[43mfull_transform_program\u001b[49m\u001b[43m,\u001b[49m\n\u001b[1;32m    963\u001b[0m \u001b[43m        \u001b[49m\u001b[43minner_transform\u001b[49m\u001b[38;5;241;43m=\u001b[39;49m\u001b[43minner_transform_program\u001b[49m\u001b[43m,\u001b[49m\n\u001b[1;32m    964\u001b[0m \u001b[43m        \u001b[49m\u001b[43mconfig\u001b[49m\u001b[38;5;241;43m=\u001b[39;49m\u001b[43mconfig\u001b[49m\u001b[43m,\u001b[49m\n\u001b[1;32m    965\u001b[0m \u001b[43m        \u001b[49m\u001b[43mgradient_kwargs\u001b[49m\u001b[38;5;241;43m=\u001b[39;49m\u001b[38;5;28;43mself\u001b[39;49m\u001b[38;5;241;43m.\u001b[39;49m\u001b[43mgradient_kwargs\u001b[49m\u001b[43m,\u001b[49m\n\u001b[1;32m    966\u001b[0m \u001b[43m        \u001b[49m\u001b[43moverride_shots\u001b[49m\u001b[38;5;241;43m=\u001b[39;49m\u001b[43moverride_shots\u001b[49m\u001b[43m,\u001b[49m\n\u001b[1;32m    967\u001b[0m \u001b[43m        \u001b[49m\u001b[38;5;241;43m*\u001b[39;49m\u001b[38;5;241;43m*\u001b[39;49m\u001b[43mexecute_kwargs\u001b[49m\u001b[43m,\u001b[49m\n\u001b[1;32m    968\u001b[0m \u001b[43m    \u001b[49m\u001b[43m)\u001b[49m\n\u001b[1;32m    969\u001b[0m res \u001b[38;5;241m=\u001b[39m res[\u001b[38;5;241m0\u001b[39m]\n\u001b[1;32m    971\u001b[0m \u001b[38;5;66;03m# convert result to the interface in case the qfunc has no parameters\u001b[39;00m\n",
      "File \u001b[0;32m~/anaconda3/envs/qrf/lib/python3.12/site-packages/pennylane/workflow/execution.py:660\u001b[0m, in \u001b[0;36mexecute\u001b[0;34m(tapes, device, gradient_fn, interface, transform_program, inner_transform, config, grad_on_execution, gradient_kwargs, cache, cachesize, max_diff, override_shots, expand_fn, max_expansion, device_batch_transform, device_vjp, mcm_config)\u001b[0m\n\u001b[1;32m    658\u001b[0m \u001b[38;5;66;03m# Exiting early if we do not need to deal with an interface boundary\u001b[39;00m\n\u001b[1;32m    659\u001b[0m \u001b[38;5;28;01mif\u001b[39;00m no_interface_boundary_required:\n\u001b[0;32m--> 660\u001b[0m     results \u001b[38;5;241m=\u001b[39m \u001b[43minner_execute\u001b[49m\u001b[43m(\u001b[49m\u001b[43mtapes\u001b[49m\u001b[43m)\u001b[49m\n\u001b[1;32m    661\u001b[0m     \u001b[38;5;28;01mreturn\u001b[39;00m post_processing(results)\n\u001b[1;32m    663\u001b[0m \u001b[38;5;28;01mif\u001b[39;00m (\n\u001b[1;32m    664\u001b[0m     device_vjp\n\u001b[1;32m    665\u001b[0m     \u001b[38;5;129;01mand\u001b[39;00m \u001b[38;5;28mgetattr\u001b[39m(device, \u001b[38;5;124m\"\u001b[39m\u001b[38;5;124mshort_name\u001b[39m\u001b[38;5;124m\"\u001b[39m, \u001b[38;5;124m\"\u001b[39m\u001b[38;5;124m\"\u001b[39m) \u001b[38;5;129;01min\u001b[39;00m (\u001b[38;5;124m\"\u001b[39m\u001b[38;5;124mlightning.gpu\u001b[39m\u001b[38;5;124m\"\u001b[39m, \u001b[38;5;124m\"\u001b[39m\u001b[38;5;124mlightning.kokkos\u001b[39m\u001b[38;5;124m\"\u001b[39m)\n\u001b[1;32m    666\u001b[0m     \u001b[38;5;129;01mand\u001b[39;00m interface \u001b[38;5;129;01min\u001b[39;00m jpc_interfaces\n\u001b[1;32m    667\u001b[0m ):  \u001b[38;5;66;03m# pragma: no cover\u001b[39;00m\n",
      "File \u001b[0;32m~/anaconda3/envs/qrf/lib/python3.12/site-packages/pennylane/workflow/execution.py:212\u001b[0m, in \u001b[0;36m_make_inner_execute.<locals>.inner_execute\u001b[0;34m(tapes, **_)\u001b[0m\n\u001b[1;32m    209\u001b[0m transformed_tapes, transform_post_processing \u001b[38;5;241m=\u001b[39m transform_program(tapes)\n\u001b[1;32m    211\u001b[0m \u001b[38;5;28;01mif\u001b[39;00m transformed_tapes:\n\u001b[0;32m--> 212\u001b[0m     results \u001b[38;5;241m=\u001b[39m \u001b[43mdevice\u001b[49m\u001b[38;5;241;43m.\u001b[39;49m\u001b[43mexecute\u001b[49m\u001b[43m(\u001b[49m\u001b[43mtransformed_tapes\u001b[49m\u001b[43m,\u001b[49m\u001b[43m \u001b[49m\u001b[43mexecution_config\u001b[49m\u001b[38;5;241;43m=\u001b[39;49m\u001b[43mexecution_config\u001b[49m\u001b[43m)\u001b[49m\n\u001b[1;32m    213\u001b[0m \u001b[38;5;28;01melse\u001b[39;00m:\n\u001b[1;32m    214\u001b[0m     results \u001b[38;5;241m=\u001b[39m ()\n",
      "File \u001b[0;32m~/anaconda3/envs/qrf/lib/python3.12/site-packages/pennylane/devices/modifiers/simulator_tracking.py:30\u001b[0m, in \u001b[0;36m_track_execute.<locals>.execute\u001b[0;34m(self, circuits, execution_config)\u001b[0m\n\u001b[1;32m     28\u001b[0m \u001b[38;5;129m@wraps\u001b[39m(untracked_execute)\n\u001b[1;32m     29\u001b[0m \u001b[38;5;28;01mdef\u001b[39;00m \u001b[38;5;21mexecute\u001b[39m(\u001b[38;5;28mself\u001b[39m, circuits, execution_config\u001b[38;5;241m=\u001b[39mDefaultExecutionConfig):\n\u001b[0;32m---> 30\u001b[0m     results \u001b[38;5;241m=\u001b[39m \u001b[43muntracked_execute\u001b[49m\u001b[43m(\u001b[49m\u001b[38;5;28;43mself\u001b[39;49m\u001b[43m,\u001b[49m\u001b[43m \u001b[49m\u001b[43mcircuits\u001b[49m\u001b[43m,\u001b[49m\u001b[43m \u001b[49m\u001b[43mexecution_config\u001b[49m\u001b[43m)\u001b[49m\n\u001b[1;32m     31\u001b[0m     \u001b[38;5;28;01mif\u001b[39;00m \u001b[38;5;28misinstance\u001b[39m(circuits, QuantumScript):\n\u001b[1;32m     32\u001b[0m         batch \u001b[38;5;241m=\u001b[39m (circuits,)\n",
      "File \u001b[0;32m~/anaconda3/envs/qrf/lib/python3.12/site-packages/pennylane/devices/modifiers/single_tape_support.py:32\u001b[0m, in \u001b[0;36m_make_execute.<locals>.execute\u001b[0;34m(self, circuits, execution_config)\u001b[0m\n\u001b[1;32m     30\u001b[0m     is_single_circuit \u001b[38;5;241m=\u001b[39m \u001b[38;5;28;01mTrue\u001b[39;00m\n\u001b[1;32m     31\u001b[0m     circuits \u001b[38;5;241m=\u001b[39m (circuits,)\n\u001b[0;32m---> 32\u001b[0m results \u001b[38;5;241m=\u001b[39m \u001b[43mbatch_execute\u001b[49m\u001b[43m(\u001b[49m\u001b[38;5;28;43mself\u001b[39;49m\u001b[43m,\u001b[49m\u001b[43m \u001b[49m\u001b[43mcircuits\u001b[49m\u001b[43m,\u001b[49m\u001b[43m \u001b[49m\u001b[43mexecution_config\u001b[49m\u001b[43m)\u001b[49m\n\u001b[1;32m     33\u001b[0m \u001b[38;5;28;01mreturn\u001b[39;00m results[\u001b[38;5;241m0\u001b[39m] \u001b[38;5;28;01mif\u001b[39;00m is_single_circuit \u001b[38;5;28;01melse\u001b[39;00m results\n",
      "File \u001b[0;32m~/anaconda3/envs/qrf/lib/python3.12/site-packages/pennylane/logging/decorators.py:61\u001b[0m, in \u001b[0;36mlog_string_debug_func.<locals>.wrapper_entry\u001b[0;34m(*args, **kwargs)\u001b[0m\n\u001b[1;32m     54\u001b[0m     s_caller \u001b[38;5;241m=\u001b[39m \u001b[38;5;124m\"\u001b[39m\u001b[38;5;124m::L\u001b[39m\u001b[38;5;124m\"\u001b[39m\u001b[38;5;241m.\u001b[39mjoin(\n\u001b[1;32m     55\u001b[0m         [\u001b[38;5;28mstr\u001b[39m(i) \u001b[38;5;28;01mfor\u001b[39;00m i \u001b[38;5;129;01min\u001b[39;00m inspect\u001b[38;5;241m.\u001b[39mgetouterframes(inspect\u001b[38;5;241m.\u001b[39mcurrentframe(), \u001b[38;5;241m2\u001b[39m)[\u001b[38;5;241m1\u001b[39m][\u001b[38;5;241m1\u001b[39m:\u001b[38;5;241m3\u001b[39m]]\n\u001b[1;32m     56\u001b[0m     )\n\u001b[1;32m     57\u001b[0m     lgr\u001b[38;5;241m.\u001b[39mdebug(\n\u001b[1;32m     58\u001b[0m         \u001b[38;5;124mf\u001b[39m\u001b[38;5;124m\"\u001b[39m\u001b[38;5;124mCalling \u001b[39m\u001b[38;5;132;01m{\u001b[39;00mf_string\u001b[38;5;132;01m}\u001b[39;00m\u001b[38;5;124m from \u001b[39m\u001b[38;5;132;01m{\u001b[39;00ms_caller\u001b[38;5;132;01m}\u001b[39;00m\u001b[38;5;124m\"\u001b[39m,\n\u001b[1;32m     59\u001b[0m         \u001b[38;5;241m*\u001b[39m\u001b[38;5;241m*\u001b[39m_debug_log_kwargs,\n\u001b[1;32m     60\u001b[0m     )\n\u001b[0;32m---> 61\u001b[0m \u001b[38;5;28;01mreturn\u001b[39;00m \u001b[43mfunc\u001b[49m\u001b[43m(\u001b[49m\u001b[38;5;241;43m*\u001b[39;49m\u001b[43margs\u001b[49m\u001b[43m,\u001b[49m\u001b[43m \u001b[49m\u001b[38;5;241;43m*\u001b[39;49m\u001b[38;5;241;43m*\u001b[39;49m\u001b[43mkwargs\u001b[49m\u001b[43m)\u001b[49m\n",
      "File \u001b[0;32m~/anaconda3/envs/qrf/lib/python3.12/site-packages/pennylane/devices/default_qubit.py:630\u001b[0m, in \u001b[0;36mDefaultQubit.execute\u001b[0;34m(self, circuits, execution_config)\u001b[0m\n\u001b[1;32m    627\u001b[0m prng_keys \u001b[38;5;241m=\u001b[39m [\u001b[38;5;28mself\u001b[39m\u001b[38;5;241m.\u001b[39mget_prng_keys()[\u001b[38;5;241m0\u001b[39m] \u001b[38;5;28;01mfor\u001b[39;00m _ \u001b[38;5;129;01min\u001b[39;00m \u001b[38;5;28mrange\u001b[39m(\u001b[38;5;28mlen\u001b[39m(circuits))]\n\u001b[1;32m    629\u001b[0m \u001b[38;5;28;01mif\u001b[39;00m max_workers \u001b[38;5;129;01mis\u001b[39;00m \u001b[38;5;28;01mNone\u001b[39;00m:\n\u001b[0;32m--> 630\u001b[0m     \u001b[38;5;28;01mreturn\u001b[39;00m \u001b[38;5;28;43mtuple\u001b[39;49m\u001b[43m(\u001b[49m\n\u001b[1;32m    631\u001b[0m \u001b[43m        \u001b[49m\u001b[43m_simulate_wrapper\u001b[49m\u001b[43m(\u001b[49m\n\u001b[1;32m    632\u001b[0m \u001b[43m            \u001b[49m\u001b[43mc\u001b[49m\u001b[43m,\u001b[49m\n\u001b[1;32m    633\u001b[0m \u001b[43m            \u001b[49m\u001b[43m{\u001b[49m\n\u001b[1;32m    634\u001b[0m \u001b[43m                \u001b[49m\u001b[38;5;124;43m\"\u001b[39;49m\u001b[38;5;124;43mrng\u001b[39;49m\u001b[38;5;124;43m\"\u001b[39;49m\u001b[43m:\u001b[49m\u001b[43m \u001b[49m\u001b[38;5;28;43mself\u001b[39;49m\u001b[38;5;241;43m.\u001b[39;49m\u001b[43m_rng\u001b[49m\u001b[43m,\u001b[49m\n\u001b[1;32m    635\u001b[0m \u001b[43m                \u001b[49m\u001b[38;5;124;43m\"\u001b[39;49m\u001b[38;5;124;43mdebugger\u001b[39;49m\u001b[38;5;124;43m\"\u001b[39;49m\u001b[43m:\u001b[49m\u001b[43m \u001b[49m\u001b[38;5;28;43mself\u001b[39;49m\u001b[38;5;241;43m.\u001b[39;49m\u001b[43m_debugger\u001b[49m\u001b[43m,\u001b[49m\n\u001b[1;32m    636\u001b[0m \u001b[43m                \u001b[49m\u001b[38;5;124;43m\"\u001b[39;49m\u001b[38;5;124;43minterface\u001b[39;49m\u001b[38;5;124;43m\"\u001b[39;49m\u001b[43m:\u001b[49m\u001b[43m \u001b[49m\u001b[43minterface\u001b[49m\u001b[43m,\u001b[49m\n\u001b[1;32m    637\u001b[0m \u001b[43m                \u001b[49m\u001b[38;5;124;43m\"\u001b[39;49m\u001b[38;5;124;43mstate_cache\u001b[39;49m\u001b[38;5;124;43m\"\u001b[39;49m\u001b[43m:\u001b[49m\u001b[43m \u001b[49m\u001b[38;5;28;43mself\u001b[39;49m\u001b[38;5;241;43m.\u001b[39;49m\u001b[43m_state_cache\u001b[49m\u001b[43m,\u001b[49m\n\u001b[1;32m    638\u001b[0m \u001b[43m                \u001b[49m\u001b[38;5;124;43m\"\u001b[39;49m\u001b[38;5;124;43mprng_key\u001b[39;49m\u001b[38;5;124;43m\"\u001b[39;49m\u001b[43m:\u001b[49m\u001b[43m \u001b[49m\u001b[43m_key\u001b[49m\u001b[43m,\u001b[49m\n\u001b[1;32m    639\u001b[0m \u001b[43m                \u001b[49m\u001b[38;5;124;43m\"\u001b[39;49m\u001b[38;5;124;43mmcm_method\u001b[39;49m\u001b[38;5;124;43m\"\u001b[39;49m\u001b[43m:\u001b[49m\u001b[43m \u001b[49m\u001b[43mexecution_config\u001b[49m\u001b[38;5;241;43m.\u001b[39;49m\u001b[43mmcm_config\u001b[49m\u001b[38;5;241;43m.\u001b[39;49m\u001b[43mmcm_method\u001b[49m\u001b[43m,\u001b[49m\n\u001b[1;32m    640\u001b[0m \u001b[43m                \u001b[49m\u001b[38;5;124;43m\"\u001b[39;49m\u001b[38;5;124;43mpostselect_mode\u001b[39;49m\u001b[38;5;124;43m\"\u001b[39;49m\u001b[43m:\u001b[49m\u001b[43m \u001b[49m\u001b[43mexecution_config\u001b[49m\u001b[38;5;241;43m.\u001b[39;49m\u001b[43mmcm_config\u001b[49m\u001b[38;5;241;43m.\u001b[39;49m\u001b[43mpostselect_mode\u001b[49m\u001b[43m,\u001b[49m\n\u001b[1;32m    641\u001b[0m \u001b[43m            \u001b[49m\u001b[43m}\u001b[49m\u001b[43m,\u001b[49m\n\u001b[1;32m    642\u001b[0m \u001b[43m        \u001b[49m\u001b[43m)\u001b[49m\n\u001b[1;32m    643\u001b[0m \u001b[43m        \u001b[49m\u001b[38;5;28;43;01mfor\u001b[39;49;00m\u001b[43m \u001b[49m\u001b[43mc\u001b[49m\u001b[43m,\u001b[49m\u001b[43m \u001b[49m\u001b[43m_key\u001b[49m\u001b[43m \u001b[49m\u001b[38;5;129;43;01min\u001b[39;49;00m\u001b[43m \u001b[49m\u001b[38;5;28;43mzip\u001b[39;49m\u001b[43m(\u001b[49m\u001b[43mcircuits\u001b[49m\u001b[43m,\u001b[49m\u001b[43m \u001b[49m\u001b[43mprng_keys\u001b[49m\u001b[43m)\u001b[49m\n\u001b[1;32m    644\u001b[0m \u001b[43m    \u001b[49m\u001b[43m)\u001b[49m\n\u001b[1;32m    646\u001b[0m vanilla_circuits \u001b[38;5;241m=\u001b[39m convert_to_numpy_parameters(circuits)[\u001b[38;5;241m0\u001b[39m]\n\u001b[1;32m    647\u001b[0m seeds \u001b[38;5;241m=\u001b[39m \u001b[38;5;28mself\u001b[39m\u001b[38;5;241m.\u001b[39m_rng\u001b[38;5;241m.\u001b[39mintegers(\u001b[38;5;241m2\u001b[39m\u001b[38;5;241m*\u001b[39m\u001b[38;5;241m*\u001b[39m\u001b[38;5;241m31\u001b[39m \u001b[38;5;241m-\u001b[39m \u001b[38;5;241m1\u001b[39m, size\u001b[38;5;241m=\u001b[39m\u001b[38;5;28mlen\u001b[39m(vanilla_circuits))\n",
      "File \u001b[0;32m~/anaconda3/envs/qrf/lib/python3.12/site-packages/pennylane/devices/default_qubit.py:631\u001b[0m, in \u001b[0;36m<genexpr>\u001b[0;34m(.0)\u001b[0m\n\u001b[1;32m    627\u001b[0m prng_keys \u001b[38;5;241m=\u001b[39m [\u001b[38;5;28mself\u001b[39m\u001b[38;5;241m.\u001b[39mget_prng_keys()[\u001b[38;5;241m0\u001b[39m] \u001b[38;5;28;01mfor\u001b[39;00m _ \u001b[38;5;129;01min\u001b[39;00m \u001b[38;5;28mrange\u001b[39m(\u001b[38;5;28mlen\u001b[39m(circuits))]\n\u001b[1;32m    629\u001b[0m \u001b[38;5;28;01mif\u001b[39;00m max_workers \u001b[38;5;129;01mis\u001b[39;00m \u001b[38;5;28;01mNone\u001b[39;00m:\n\u001b[1;32m    630\u001b[0m     \u001b[38;5;28;01mreturn\u001b[39;00m \u001b[38;5;28mtuple\u001b[39m(\n\u001b[0;32m--> 631\u001b[0m         \u001b[43m_simulate_wrapper\u001b[49m\u001b[43m(\u001b[49m\n\u001b[1;32m    632\u001b[0m \u001b[43m            \u001b[49m\u001b[43mc\u001b[49m\u001b[43m,\u001b[49m\n\u001b[1;32m    633\u001b[0m \u001b[43m            \u001b[49m\u001b[43m{\u001b[49m\n\u001b[1;32m    634\u001b[0m \u001b[43m                \u001b[49m\u001b[38;5;124;43m\"\u001b[39;49m\u001b[38;5;124;43mrng\u001b[39;49m\u001b[38;5;124;43m\"\u001b[39;49m\u001b[43m:\u001b[49m\u001b[43m \u001b[49m\u001b[38;5;28;43mself\u001b[39;49m\u001b[38;5;241;43m.\u001b[39;49m\u001b[43m_rng\u001b[49m\u001b[43m,\u001b[49m\n\u001b[1;32m    635\u001b[0m \u001b[43m                \u001b[49m\u001b[38;5;124;43m\"\u001b[39;49m\u001b[38;5;124;43mdebugger\u001b[39;49m\u001b[38;5;124;43m\"\u001b[39;49m\u001b[43m:\u001b[49m\u001b[43m \u001b[49m\u001b[38;5;28;43mself\u001b[39;49m\u001b[38;5;241;43m.\u001b[39;49m\u001b[43m_debugger\u001b[49m\u001b[43m,\u001b[49m\n\u001b[1;32m    636\u001b[0m \u001b[43m                \u001b[49m\u001b[38;5;124;43m\"\u001b[39;49m\u001b[38;5;124;43minterface\u001b[39;49m\u001b[38;5;124;43m\"\u001b[39;49m\u001b[43m:\u001b[49m\u001b[43m \u001b[49m\u001b[43minterface\u001b[49m\u001b[43m,\u001b[49m\n\u001b[1;32m    637\u001b[0m \u001b[43m                \u001b[49m\u001b[38;5;124;43m\"\u001b[39;49m\u001b[38;5;124;43mstate_cache\u001b[39;49m\u001b[38;5;124;43m\"\u001b[39;49m\u001b[43m:\u001b[49m\u001b[43m \u001b[49m\u001b[38;5;28;43mself\u001b[39;49m\u001b[38;5;241;43m.\u001b[39;49m\u001b[43m_state_cache\u001b[49m\u001b[43m,\u001b[49m\n\u001b[1;32m    638\u001b[0m \u001b[43m                \u001b[49m\u001b[38;5;124;43m\"\u001b[39;49m\u001b[38;5;124;43mprng_key\u001b[39;49m\u001b[38;5;124;43m\"\u001b[39;49m\u001b[43m:\u001b[49m\u001b[43m \u001b[49m\u001b[43m_key\u001b[49m\u001b[43m,\u001b[49m\n\u001b[1;32m    639\u001b[0m \u001b[43m                \u001b[49m\u001b[38;5;124;43m\"\u001b[39;49m\u001b[38;5;124;43mmcm_method\u001b[39;49m\u001b[38;5;124;43m\"\u001b[39;49m\u001b[43m:\u001b[49m\u001b[43m \u001b[49m\u001b[43mexecution_config\u001b[49m\u001b[38;5;241;43m.\u001b[39;49m\u001b[43mmcm_config\u001b[49m\u001b[38;5;241;43m.\u001b[39;49m\u001b[43mmcm_method\u001b[49m\u001b[43m,\u001b[49m\n\u001b[1;32m    640\u001b[0m \u001b[43m                \u001b[49m\u001b[38;5;124;43m\"\u001b[39;49m\u001b[38;5;124;43mpostselect_mode\u001b[39;49m\u001b[38;5;124;43m\"\u001b[39;49m\u001b[43m:\u001b[49m\u001b[43m \u001b[49m\u001b[43mexecution_config\u001b[49m\u001b[38;5;241;43m.\u001b[39;49m\u001b[43mmcm_config\u001b[49m\u001b[38;5;241;43m.\u001b[39;49m\u001b[43mpostselect_mode\u001b[49m\u001b[43m,\u001b[49m\n\u001b[1;32m    641\u001b[0m \u001b[43m            \u001b[49m\u001b[43m}\u001b[49m\u001b[43m,\u001b[49m\n\u001b[1;32m    642\u001b[0m \u001b[43m        \u001b[49m\u001b[43m)\u001b[49m\n\u001b[1;32m    643\u001b[0m         \u001b[38;5;28;01mfor\u001b[39;00m c, _key \u001b[38;5;129;01min\u001b[39;00m \u001b[38;5;28mzip\u001b[39m(circuits, prng_keys)\n\u001b[1;32m    644\u001b[0m     )\n\u001b[1;32m    646\u001b[0m vanilla_circuits \u001b[38;5;241m=\u001b[39m convert_to_numpy_parameters(circuits)[\u001b[38;5;241m0\u001b[39m]\n\u001b[1;32m    647\u001b[0m seeds \u001b[38;5;241m=\u001b[39m \u001b[38;5;28mself\u001b[39m\u001b[38;5;241m.\u001b[39m_rng\u001b[38;5;241m.\u001b[39mintegers(\u001b[38;5;241m2\u001b[39m\u001b[38;5;241m*\u001b[39m\u001b[38;5;241m*\u001b[39m\u001b[38;5;241m31\u001b[39m \u001b[38;5;241m-\u001b[39m \u001b[38;5;241m1\u001b[39m, size\u001b[38;5;241m=\u001b[39m\u001b[38;5;28mlen\u001b[39m(vanilla_circuits))\n",
      "File \u001b[0;32m~/anaconda3/envs/qrf/lib/python3.12/site-packages/pennylane/devices/default_qubit.py:896\u001b[0m, in \u001b[0;36m_simulate_wrapper\u001b[0;34m(circuit, kwargs)\u001b[0m\n\u001b[1;32m    895\u001b[0m \u001b[38;5;28;01mdef\u001b[39;00m \u001b[38;5;21m_simulate_wrapper\u001b[39m(circuit, kwargs):\n\u001b[0;32m--> 896\u001b[0m     \u001b[38;5;28;01mreturn\u001b[39;00m \u001b[43msimulate\u001b[49m\u001b[43m(\u001b[49m\u001b[43mcircuit\u001b[49m\u001b[43m,\u001b[49m\u001b[43m \u001b[49m\u001b[38;5;241;43m*\u001b[39;49m\u001b[38;5;241;43m*\u001b[39;49m\u001b[43mkwargs\u001b[49m\u001b[43m)\u001b[49m\n",
      "File \u001b[0;32m~/anaconda3/envs/qrf/lib/python3.12/site-packages/pennylane/logging/decorators.py:61\u001b[0m, in \u001b[0;36mlog_string_debug_func.<locals>.wrapper_entry\u001b[0;34m(*args, **kwargs)\u001b[0m\n\u001b[1;32m     54\u001b[0m     s_caller \u001b[38;5;241m=\u001b[39m \u001b[38;5;124m\"\u001b[39m\u001b[38;5;124m::L\u001b[39m\u001b[38;5;124m\"\u001b[39m\u001b[38;5;241m.\u001b[39mjoin(\n\u001b[1;32m     55\u001b[0m         [\u001b[38;5;28mstr\u001b[39m(i) \u001b[38;5;28;01mfor\u001b[39;00m i \u001b[38;5;129;01min\u001b[39;00m inspect\u001b[38;5;241m.\u001b[39mgetouterframes(inspect\u001b[38;5;241m.\u001b[39mcurrentframe(), \u001b[38;5;241m2\u001b[39m)[\u001b[38;5;241m1\u001b[39m][\u001b[38;5;241m1\u001b[39m:\u001b[38;5;241m3\u001b[39m]]\n\u001b[1;32m     56\u001b[0m     )\n\u001b[1;32m     57\u001b[0m     lgr\u001b[38;5;241m.\u001b[39mdebug(\n\u001b[1;32m     58\u001b[0m         \u001b[38;5;124mf\u001b[39m\u001b[38;5;124m\"\u001b[39m\u001b[38;5;124mCalling \u001b[39m\u001b[38;5;132;01m{\u001b[39;00mf_string\u001b[38;5;132;01m}\u001b[39;00m\u001b[38;5;124m from \u001b[39m\u001b[38;5;132;01m{\u001b[39;00ms_caller\u001b[38;5;132;01m}\u001b[39;00m\u001b[38;5;124m\"\u001b[39m,\n\u001b[1;32m     59\u001b[0m         \u001b[38;5;241m*\u001b[39m\u001b[38;5;241m*\u001b[39m_debug_log_kwargs,\n\u001b[1;32m     60\u001b[0m     )\n\u001b[0;32m---> 61\u001b[0m \u001b[38;5;28;01mreturn\u001b[39;00m \u001b[43mfunc\u001b[49m\u001b[43m(\u001b[49m\u001b[38;5;241;43m*\u001b[39;49m\u001b[43margs\u001b[49m\u001b[43m,\u001b[49m\u001b[43m \u001b[49m\u001b[38;5;241;43m*\u001b[39;49m\u001b[38;5;241;43m*\u001b[39;49m\u001b[43mkwargs\u001b[49m\u001b[43m)\u001b[49m\n",
      "File \u001b[0;32m~/anaconda3/envs/qrf/lib/python3.12/site-packages/pennylane/devices/qubit/simulate.py:379\u001b[0m, in \u001b[0;36msimulate\u001b[0;34m(circuit, debugger, state_cache, **execution_kwargs)\u001b[0m\n\u001b[1;32m    376\u001b[0m     \u001b[38;5;28;01mreturn\u001b[39;00m \u001b[38;5;28mtuple\u001b[39m(results)\n\u001b[1;32m    378\u001b[0m ops_key, meas_key \u001b[38;5;241m=\u001b[39m jax_random_split(prng_key)\n\u001b[0;32m--> 379\u001b[0m state, is_state_batched \u001b[38;5;241m=\u001b[39m \u001b[43mget_final_state\u001b[49m\u001b[43m(\u001b[49m\n\u001b[1;32m    380\u001b[0m \u001b[43m    \u001b[49m\u001b[43mcircuit\u001b[49m\u001b[43m,\u001b[49m\u001b[43m \u001b[49m\u001b[43mdebugger\u001b[49m\u001b[38;5;241;43m=\u001b[39;49m\u001b[43mdebugger\u001b[49m\u001b[43m,\u001b[49m\u001b[43m \u001b[49m\u001b[43mprng_key\u001b[49m\u001b[38;5;241;43m=\u001b[39;49m\u001b[43mops_key\u001b[49m\u001b[43m,\u001b[49m\u001b[43m \u001b[49m\u001b[38;5;241;43m*\u001b[39;49m\u001b[38;5;241;43m*\u001b[39;49m\u001b[43mexecution_kwargs\u001b[49m\n\u001b[1;32m    381\u001b[0m \u001b[43m\u001b[49m\u001b[43m)\u001b[49m\n\u001b[1;32m    382\u001b[0m \u001b[38;5;28;01mif\u001b[39;00m state_cache \u001b[38;5;129;01mis\u001b[39;00m \u001b[38;5;129;01mnot\u001b[39;00m \u001b[38;5;28;01mNone\u001b[39;00m:\n\u001b[1;32m    383\u001b[0m     state_cache[circuit\u001b[38;5;241m.\u001b[39mhash] \u001b[38;5;241m=\u001b[39m state\n",
      "File \u001b[0;32m~/anaconda3/envs/qrf/lib/python3.12/site-packages/pennylane/logging/decorators.py:61\u001b[0m, in \u001b[0;36mlog_string_debug_func.<locals>.wrapper_entry\u001b[0;34m(*args, **kwargs)\u001b[0m\n\u001b[1;32m     54\u001b[0m     s_caller \u001b[38;5;241m=\u001b[39m \u001b[38;5;124m\"\u001b[39m\u001b[38;5;124m::L\u001b[39m\u001b[38;5;124m\"\u001b[39m\u001b[38;5;241m.\u001b[39mjoin(\n\u001b[1;32m     55\u001b[0m         [\u001b[38;5;28mstr\u001b[39m(i) \u001b[38;5;28;01mfor\u001b[39;00m i \u001b[38;5;129;01min\u001b[39;00m inspect\u001b[38;5;241m.\u001b[39mgetouterframes(inspect\u001b[38;5;241m.\u001b[39mcurrentframe(), \u001b[38;5;241m2\u001b[39m)[\u001b[38;5;241m1\u001b[39m][\u001b[38;5;241m1\u001b[39m:\u001b[38;5;241m3\u001b[39m]]\n\u001b[1;32m     56\u001b[0m     )\n\u001b[1;32m     57\u001b[0m     lgr\u001b[38;5;241m.\u001b[39mdebug(\n\u001b[1;32m     58\u001b[0m         \u001b[38;5;124mf\u001b[39m\u001b[38;5;124m\"\u001b[39m\u001b[38;5;124mCalling \u001b[39m\u001b[38;5;132;01m{\u001b[39;00mf_string\u001b[38;5;132;01m}\u001b[39;00m\u001b[38;5;124m from \u001b[39m\u001b[38;5;132;01m{\u001b[39;00ms_caller\u001b[38;5;132;01m}\u001b[39;00m\u001b[38;5;124m\"\u001b[39m,\n\u001b[1;32m     59\u001b[0m         \u001b[38;5;241m*\u001b[39m\u001b[38;5;241m*\u001b[39m_debug_log_kwargs,\n\u001b[1;32m     60\u001b[0m     )\n\u001b[0;32m---> 61\u001b[0m \u001b[38;5;28;01mreturn\u001b[39;00m \u001b[43mfunc\u001b[49m\u001b[43m(\u001b[49m\u001b[38;5;241;43m*\u001b[39;49m\u001b[43margs\u001b[49m\u001b[43m,\u001b[49m\u001b[43m \u001b[49m\u001b[38;5;241;43m*\u001b[39;49m\u001b[38;5;241;43m*\u001b[39;49m\u001b[43mkwargs\u001b[49m\u001b[43m)\u001b[49m\n",
      "File \u001b[0;32m~/anaconda3/envs/qrf/lib/python3.12/site-packages/pennylane/devices/qubit/simulate.py:228\u001b[0m, in \u001b[0;36mget_final_state\u001b[0;34m(circuit, debugger, **execution_kwargs)\u001b[0m\n\u001b[1;32m    225\u001b[0m     \u001b[38;5;66;03m# new state is batched if i) the old state is batched, or ii) the new op adds a batch dim\u001b[39;00m\n\u001b[1;32m    226\u001b[0m     is_state_batched \u001b[38;5;241m=\u001b[39m is_state_batched \u001b[38;5;129;01mor\u001b[39;00m (op\u001b[38;5;241m.\u001b[39mbatch_size \u001b[38;5;129;01mis\u001b[39;00m \u001b[38;5;129;01mnot\u001b[39;00m \u001b[38;5;28;01mNone\u001b[39;00m)\n\u001b[0;32m--> 228\u001b[0m \u001b[38;5;28;01mfor\u001b[39;00m _ \u001b[38;5;129;01min\u001b[39;00m \u001b[38;5;28mrange\u001b[39m(circuit\u001b[38;5;241m.\u001b[39mnum_wires \u001b[38;5;241m-\u001b[39m \u001b[38;5;28mlen\u001b[39m(\u001b[43mcircuit\u001b[49m\u001b[38;5;241;43m.\u001b[39;49m\u001b[43mop_wires\u001b[49m)):\n\u001b[1;32m    229\u001b[0m     \u001b[38;5;66;03m# if any measured wires are not operated on, we pad the state with zeros.\u001b[39;00m\n\u001b[1;32m    230\u001b[0m     \u001b[38;5;66;03m# We know they belong at the end because the circuit is in standard wire-order\u001b[39;00m\n\u001b[1;32m    231\u001b[0m     state \u001b[38;5;241m=\u001b[39m qml\u001b[38;5;241m.\u001b[39mmath\u001b[38;5;241m.\u001b[39mstack([state, qml\u001b[38;5;241m.\u001b[39mmath\u001b[38;5;241m.\u001b[39mzeros_like(state)], axis\u001b[38;5;241m=\u001b[39m\u001b[38;5;241m-\u001b[39m\u001b[38;5;241m1\u001b[39m)\n\u001b[1;32m    233\u001b[0m \u001b[38;5;28;01mreturn\u001b[39;00m state, is_state_batched\n",
      "File \u001b[0;32m~/anaconda3/envs/qrf/lib/python3.12/site-packages/pennylane/tape/qscript.py:372\u001b[0m, in \u001b[0;36mQuantumScript.op_wires\u001b[0;34m(self)\u001b[0m\n\u001b[1;32m    369\u001b[0m \u001b[38;5;129m@property\u001b[39m\n\u001b[1;32m    370\u001b[0m \u001b[38;5;28;01mdef\u001b[39;00m \u001b[38;5;21mop_wires\u001b[39m(\u001b[38;5;28mself\u001b[39m) \u001b[38;5;241m-\u001b[39m\u001b[38;5;241m>\u001b[39m Wires:\n\u001b[1;32m    371\u001b[0m \u001b[38;5;250m    \u001b[39m\u001b[38;5;124;03m\"\"\"Returns the wires that the tape operations act on.\"\"\"\u001b[39;00m\n\u001b[0;32m--> 372\u001b[0m     \u001b[38;5;28;01mreturn\u001b[39;00m \u001b[43mWires\u001b[49m\u001b[38;5;241;43m.\u001b[39;49m\u001b[43mall_wires\u001b[49m\u001b[43m(\u001b[49m\u001b[43mop\u001b[49m\u001b[38;5;241;43m.\u001b[39;49m\u001b[43mwires\u001b[49m\u001b[43m \u001b[49m\u001b[38;5;28;43;01mfor\u001b[39;49;00m\u001b[43m \u001b[49m\u001b[43mop\u001b[49m\u001b[43m \u001b[49m\u001b[38;5;129;43;01min\u001b[39;49;00m\u001b[43m \u001b[49m\u001b[38;5;28;43mself\u001b[39;49m\u001b[38;5;241;43m.\u001b[39;49m\u001b[43moperations\u001b[49m\u001b[43m)\u001b[49m\n",
      "File \u001b[0;32m~/anaconda3/envs/qrf/lib/python3.12/site-packages/pennylane/wires.py:440\u001b[0m, in \u001b[0;36mWires.all_wires\u001b[0;34m(list_of_wires, sort)\u001b[0m\n\u001b[1;32m    416\u001b[0m \u001b[38;5;250m\u001b[39m\u001b[38;5;124;03m\"\"\"Return the wires that appear in any of the Wires objects in the list.\u001b[39;00m\n\u001b[1;32m    417\u001b[0m \n\u001b[1;32m    418\u001b[0m \u001b[38;5;124;03mThis is similar to a set combine method, but keeps the order of wires as they appear in the list.\u001b[39;00m\n\u001b[0;32m   (...)\u001b[0m\n\u001b[1;32m    435\u001b[0m \u001b[38;5;124;03mWires([4, 0, 1, 3, 5])\u001b[39;00m\n\u001b[1;32m    436\u001b[0m \u001b[38;5;124;03m\"\"\"\u001b[39;00m\n\u001b[1;32m    437\u001b[0m converted_wires \u001b[38;5;241m=\u001b[39m (\n\u001b[1;32m    438\u001b[0m     wires \u001b[38;5;28;01mif\u001b[39;00m \u001b[38;5;28misinstance\u001b[39m(wires, Wires) \u001b[38;5;28;01melse\u001b[39;00m Wires(wires) \u001b[38;5;28;01mfor\u001b[39;00m wires \u001b[38;5;129;01min\u001b[39;00m list_of_wires\n\u001b[1;32m    439\u001b[0m )\n\u001b[0;32m--> 440\u001b[0m all_wires_list \u001b[38;5;241m=\u001b[39m \u001b[43mitertools\u001b[49m\u001b[38;5;241;43m.\u001b[39;49m\u001b[43mchain\u001b[49m\u001b[43m(\u001b[49m\u001b[38;5;241;43m*\u001b[39;49m\u001b[43m(\u001b[49m\u001b[43mw\u001b[49m\u001b[38;5;241;43m.\u001b[39;49m\u001b[43mlabels\u001b[49m\u001b[43m \u001b[49m\u001b[38;5;28;43;01mfor\u001b[39;49;00m\u001b[43m \u001b[49m\u001b[43mw\u001b[49m\u001b[43m \u001b[49m\u001b[38;5;129;43;01min\u001b[39;49;00m\u001b[43m \u001b[49m\u001b[43mconverted_wires\u001b[49m\u001b[43m)\u001b[49m\u001b[43m)\u001b[49m\n\u001b[1;32m    441\u001b[0m combined \u001b[38;5;241m=\u001b[39m \u001b[38;5;28mlist\u001b[39m(\u001b[38;5;28mdict\u001b[39m\u001b[38;5;241m.\u001b[39mfromkeys(all_wires_list))\n\u001b[1;32m    443\u001b[0m \u001b[38;5;28;01mif\u001b[39;00m sort:\n",
      "File \u001b[0;32m~/anaconda3/envs/qrf/lib/python3.12/site-packages/pennylane/wires.py:440\u001b[0m, in \u001b[0;36m<genexpr>\u001b[0;34m(.0)\u001b[0m\n\u001b[1;32m    416\u001b[0m \u001b[38;5;250m\u001b[39m\u001b[38;5;124;03m\"\"\"Return the wires that appear in any of the Wires objects in the list.\u001b[39;00m\n\u001b[1;32m    417\u001b[0m \n\u001b[1;32m    418\u001b[0m \u001b[38;5;124;03mThis is similar to a set combine method, but keeps the order of wires as they appear in the list.\u001b[39;00m\n\u001b[0;32m   (...)\u001b[0m\n\u001b[1;32m    435\u001b[0m \u001b[38;5;124;03mWires([4, 0, 1, 3, 5])\u001b[39;00m\n\u001b[1;32m    436\u001b[0m \u001b[38;5;124;03m\"\"\"\u001b[39;00m\n\u001b[1;32m    437\u001b[0m converted_wires \u001b[38;5;241m=\u001b[39m (\n\u001b[1;32m    438\u001b[0m     wires \u001b[38;5;28;01mif\u001b[39;00m \u001b[38;5;28misinstance\u001b[39m(wires, Wires) \u001b[38;5;28;01melse\u001b[39;00m Wires(wires) \u001b[38;5;28;01mfor\u001b[39;00m wires \u001b[38;5;129;01min\u001b[39;00m list_of_wires\n\u001b[1;32m    439\u001b[0m )\n\u001b[0;32m--> 440\u001b[0m all_wires_list \u001b[38;5;241m=\u001b[39m itertools\u001b[38;5;241m.\u001b[39mchain(\u001b[38;5;241m*\u001b[39m\u001b[43m(\u001b[49m\u001b[43mw\u001b[49m\u001b[38;5;241;43m.\u001b[39;49m\u001b[43mlabels\u001b[49m\u001b[43m \u001b[49m\u001b[38;5;28;43;01mfor\u001b[39;49;00m\u001b[43m \u001b[49m\u001b[43mw\u001b[49m\u001b[43m \u001b[49m\u001b[38;5;129;43;01min\u001b[39;49;00m\u001b[43m \u001b[49m\u001b[43mconverted_wires\u001b[49m\u001b[43m)\u001b[49m)\n\u001b[1;32m    441\u001b[0m combined \u001b[38;5;241m=\u001b[39m \u001b[38;5;28mlist\u001b[39m(\u001b[38;5;28mdict\u001b[39m\u001b[38;5;241m.\u001b[39mfromkeys(all_wires_list))\n\u001b[1;32m    443\u001b[0m \u001b[38;5;28;01mif\u001b[39;00m sort:\n",
      "File \u001b[0;32m~/anaconda3/envs/qrf/lib/python3.12/site-packages/pennylane/wires.py:437\u001b[0m, in \u001b[0;36m<genexpr>\u001b[0;34m(.0)\u001b[0m\n\u001b[1;32m    414\u001b[0m \u001b[38;5;129m@staticmethod\u001b[39m\n\u001b[1;32m    415\u001b[0m \u001b[38;5;28;01mdef\u001b[39;00m \u001b[38;5;21mall_wires\u001b[39m(list_of_wires, sort\u001b[38;5;241m=\u001b[39m\u001b[38;5;28;01mFalse\u001b[39;00m):\n\u001b[1;32m    416\u001b[0m \u001b[38;5;250m    \u001b[39m\u001b[38;5;124;03m\"\"\"Return the wires that appear in any of the Wires objects in the list.\u001b[39;00m\n\u001b[1;32m    417\u001b[0m \n\u001b[1;32m    418\u001b[0m \u001b[38;5;124;03m    This is similar to a set combine method, but keeps the order of wires as they appear in the list.\u001b[39;00m\n\u001b[0;32m   (...)\u001b[0m\n\u001b[1;32m    435\u001b[0m \u001b[38;5;124;03m    Wires([4, 0, 1, 3, 5])\u001b[39;00m\n\u001b[1;32m    436\u001b[0m \u001b[38;5;124;03m    \"\"\"\u001b[39;00m\n\u001b[0;32m--> 437\u001b[0m     converted_wires \u001b[38;5;241m=\u001b[39m \u001b[43m(\u001b[49m\n\u001b[1;32m    438\u001b[0m \u001b[43m        \u001b[49m\u001b[43mwires\u001b[49m\u001b[43m \u001b[49m\u001b[38;5;28;43;01mif\u001b[39;49;00m\u001b[43m \u001b[49m\u001b[38;5;28;43misinstance\u001b[39;49m\u001b[43m(\u001b[49m\u001b[43mwires\u001b[49m\u001b[43m,\u001b[49m\u001b[43m \u001b[49m\u001b[43mWires\u001b[49m\u001b[43m)\u001b[49m\u001b[43m \u001b[49m\u001b[38;5;28;43;01melse\u001b[39;49;00m\u001b[43m \u001b[49m\u001b[43mWires\u001b[49m\u001b[43m(\u001b[49m\u001b[43mwires\u001b[49m\u001b[43m)\u001b[49m\u001b[43m \u001b[49m\u001b[38;5;28;43;01mfor\u001b[39;49;00m\u001b[43m \u001b[49m\u001b[43mwires\u001b[49m\u001b[43m \u001b[49m\u001b[38;5;129;43;01min\u001b[39;49;00m\u001b[43m \u001b[49m\u001b[43mlist_of_wires\u001b[49m\n\u001b[1;32m    439\u001b[0m \u001b[43m    \u001b[49m\u001b[43m)\u001b[49m\n\u001b[1;32m    440\u001b[0m     all_wires_list \u001b[38;5;241m=\u001b[39m itertools\u001b[38;5;241m.\u001b[39mchain(\u001b[38;5;241m*\u001b[39m(w\u001b[38;5;241m.\u001b[39mlabels \u001b[38;5;28;01mfor\u001b[39;00m w \u001b[38;5;129;01min\u001b[39;00m converted_wires))\n\u001b[1;32m    441\u001b[0m     combined \u001b[38;5;241m=\u001b[39m \u001b[38;5;28mlist\u001b[39m(\u001b[38;5;28mdict\u001b[39m\u001b[38;5;241m.\u001b[39mfromkeys(all_wires_list))\n",
      "File \u001b[0;32m~/anaconda3/envs/qrf/lib/python3.12/site-packages/pennylane/tape/qscript.py:372\u001b[0m, in \u001b[0;36m<genexpr>\u001b[0;34m(.0)\u001b[0m\n\u001b[1;32m    369\u001b[0m \u001b[38;5;129m@property\u001b[39m\n\u001b[1;32m    370\u001b[0m \u001b[38;5;28;01mdef\u001b[39;00m \u001b[38;5;21mop_wires\u001b[39m(\u001b[38;5;28mself\u001b[39m) \u001b[38;5;241m-\u001b[39m\u001b[38;5;241m>\u001b[39m Wires:\n\u001b[1;32m    371\u001b[0m \u001b[38;5;250m    \u001b[39m\u001b[38;5;124;03m\"\"\"Returns the wires that the tape operations act on.\"\"\"\u001b[39;00m\n\u001b[0;32m--> 372\u001b[0m     \u001b[38;5;28;01mreturn\u001b[39;00m Wires\u001b[38;5;241m.\u001b[39mall_wires(\u001b[43mop\u001b[49m\u001b[38;5;241;43m.\u001b[39;49m\u001b[43mwires\u001b[49m \u001b[38;5;28;01mfor\u001b[39;00m op \u001b[38;5;129;01min\u001b[39;00m \u001b[38;5;28mself\u001b[39m\u001b[38;5;241m.\u001b[39moperations)\n",
      "File \u001b[0;32m~/anaconda3/envs/qrf/lib/python3.12/site-packages/pennylane/ops/op_math/controlled.py:595\u001b[0m, in \u001b[0;36mControlled.wires\u001b[0;34m(self)\u001b[0m\n\u001b[1;32m    592\u001b[0m \u001b[38;5;250m    \u001b[39m\u001b[38;5;124;03m\"\"\"Additional wires that can be used in the decomposition. Not modified by the operation.\"\"\"\u001b[39;00m\n\u001b[1;32m    593\u001b[0m     \u001b[38;5;28;01mreturn\u001b[39;00m \u001b[38;5;28mself\u001b[39m\u001b[38;5;241m.\u001b[39mhyperparameters[\u001b[38;5;124m\"\u001b[39m\u001b[38;5;124mwork_wires\u001b[39m\u001b[38;5;124m\"\u001b[39m]\n\u001b[0;32m--> 595\u001b[0m \u001b[38;5;129m@property\u001b[39m\n\u001b[1;32m    596\u001b[0m \u001b[38;5;28;01mdef\u001b[39;00m \u001b[38;5;21mwires\u001b[39m(\u001b[38;5;28mself\u001b[39m):\n\u001b[1;32m    597\u001b[0m     \u001b[38;5;28;01mreturn\u001b[39;00m \u001b[38;5;28mself\u001b[39m\u001b[38;5;241m.\u001b[39mcontrol_wires \u001b[38;5;241m+\u001b[39m \u001b[38;5;28mself\u001b[39m\u001b[38;5;241m.\u001b[39mtarget_wires\n\u001b[1;32m    599\u001b[0m \u001b[38;5;28;01mdef\u001b[39;00m \u001b[38;5;21mmap_wires\u001b[39m(\u001b[38;5;28mself\u001b[39m, wire_map: \u001b[38;5;28mdict\u001b[39m):\n",
      "\u001b[0;31mKeyboardInterrupt\u001b[0m: "
     ]
    }
   ],
   "source": [
    "trainer1.train()"
   ]
  },
  {
   "cell_type": "code",
   "execution_count": null,
   "metadata": {},
   "outputs": [],
   "source": []
  }
 ],
 "metadata": {
  "kernelspec": {
   "display_name": "qrf",
   "language": "python",
   "name": "python3"
  },
  "language_info": {
   "codemirror_mode": {
    "name": "ipython",
    "version": 3
   },
   "file_extension": ".py",
   "mimetype": "text/x-python",
   "name": "python",
   "nbconvert_exporter": "python",
   "pygments_lexer": "ipython3",
   "version": "3.12.0"
  }
 },
 "nbformat": 4,
 "nbformat_minor": 2
}
