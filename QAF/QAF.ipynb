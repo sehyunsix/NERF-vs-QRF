{
 "cells": [
  {
   "cell_type": "code",
   "execution_count": 7,
   "metadata": {},
   "outputs": [],
   "source": [
    "# Quantum\n",
    "import pennylane as qml\n",
    "\n",
    "# Numericlal\n",
    "import math\n",
    "import numpy as np\n",
    "import sympy as sp\n",
    "\n",
    "# Torch\n",
    "import torch\n",
    "import torch.nn as nn\n",
    "from torch import optim\n",
    "from torch.nn import MSELoss\n",
    "from torch.utils.data import TensorDataset, DataLoader, random_split\n",
    "\n",
    "# Trainer\n",
    "from trainer import trainer\n",
    "\n",
    "# Plot\n",
    "import matplotlib.pyplot as plt\n",
    "\n",
    "%matplotlib inline\n"
   ]
  },
  {
   "cell_type": "markdown",
   "metadata": {},
   "source": [
    "---"
   ]
  },
  {
   "cell_type": "markdown",
   "metadata": {},
   "source": [
    "### Lemma 1"
   ]
  },
  {
   "cell_type": "code",
   "execution_count": null,
   "metadata": {},
   "outputs": [],
   "source": [
    "class Lemma1:\n",
    "    '''\n",
    "        QAF 논문 Lemma 1을 구현하기 위한 class\n",
    "    '''\n",
    "    def __init__(self, w, x, b):\n",
    "        '''\n",
    "            w(list) : list for weight\n",
    "            x(list) : list for x(input)\n",
    "            b(float) : float value of bias\n",
    "        '''\n",
    "        # list Initiallize\n",
    "        self.w_list = w\n",
    "        self.x_list = x\n",
    "        self.b = b\n",
    "\n",
    "        # vector Initiallize\n",
    "        self.x = np.array(self.x_list)\n",
    "        self.w = np.array(self.w_list)\n",
    "\n",
    "        # lengths Calculate\n",
    "        self.N_in = len(x)\n",
    "        self.N = int(2 ** (np.ceil(np.log2(self.N_in + 3))))\n",
    "        self.n = int(np.log2(self.N))\n",
    "\n",
    "        # A_x, A_wb Calculate\n",
    "        self.A_x  = np.sqrt(self.N_in - (self.x @ self.x))\n",
    "        self.A_wb = np.sqrt(self.N_in + 1 - (self.w @ self.w + self.b * self.b))\n",
    "\n",
    "        # v_x, v_wb\n",
    "        self.v_x  = [self.A_x]  + self.x_list + [1.0]       + ([0.0] * (self.N - self.N_in - 2))\n",
    "        self.v_wb = [0.0]       + self.w_list + [self.b]    + ([0.0] * (self.N - self.N_in - 3)) + [self.A_wb]\n",
    "\n",
    "        # device initiallize\n",
    "        # n : num_qubit\n",
    "        self.dev = qml.device(\"default.qubit\", wires=self.n)\n",
    "\n",
    "    def norm(self, vec):\n",
    "        return np.linalg.norm(vec)\n",
    "\n",
    "    def u(self, vec):\n",
    "        qml.AmplitudeEmbedding(vec, wires=range(self.n), normalize=True)\n",
    "\n",
    "    def lemma1(self, chk=False):\n",
    "        @qml.qnode(device=self.dev)\n",
    "        def inner_lemma1():\n",
    "            # U_x, i.e. small_u(v_x)\n",
    "            self.u(self.v_x)\n",
    "\n",
    "            # U_wb, i.e. small_u(v_wb)^†, Pauli-X for each qubit\n",
    "            qml.adjoint(self.u)(self.v_wb)\n",
    "            for i in range(self.n):\n",
    "                qml.PauliX(wires=i)\n",
    "\n",
    "            return qml.state()\n",
    "        if chk:\n",
    "            print(qml.draw_mpl(inner_lemma1)())\n",
    "        return inner_lemma1()[-1]"
   ]
  },
  {
   "cell_type": "markdown",
   "metadata": {},
   "source": [
    "---"
   ]
  },
  {
   "cell_type": "markdown",
   "metadata": {},
   "source": [
    "### Theorem 1, Corollary 1"
   ]
  },
  {
   "cell_type": "code",
   "execution_count": null,
   "metadata": {},
   "outputs": [],
   "source": [
    "class Theorem1:\n",
    "    '''\n",
    "        QAF 논문 Theorem 1을 구현하기 위한 class\n",
    "    '''\n",
    "    def __init__(self, w, x, b, d, l = 0):\n",
    "        '''\n",
    "            w(list)     : list for weight\n",
    "            x(list)     : list for x(input)\n",
    "            b(float)    : float value of bias\n",
    "            d(int)      : degree for Taylor (polynomial) Expansion\n",
    "        '''\n",
    "        # list Initiallize\n",
    "        self.w_list = w\n",
    "        self.x_list = x\n",
    "        self.b = b\n",
    "        self.d = d\n",
    "        self.l = l\n",
    "\n",
    "        # vector Initiallize\n",
    "        self.x = np.array(self.x_list)\n",
    "        self.w = np.array(self.w_list)\n",
    "\n",
    "        # lengths Calculate\n",
    "        self.N_in = len(x)\n",
    "        self.N = int(2 ** (np.ceil(np.log2(self.N_in + 3))))\n",
    "        self.n = int(np.log2(self.N))\n",
    "\n",
    "        # A_x, A_wb Calculate\n",
    "        self.A_x  = np.sqrt(self.N_in - (self.x @ self.x))\n",
    "        self.A_wb = np.sqrt(self.N_in + 1 - (self.w @ self.w + self.b * self.b))\n",
    "\n",
    "        # v_x, v_wb\n",
    "        self.v_x  = [self.A_x]  + self.x_list + [1.0]       + ([0.0] * (self.N - self.N_in - 2))\n",
    "        self.v_wb = [0.0]       + self.w_list + [self.b]    + ([0.0] * (self.N - self.N_in - 3)) + [self.A_wb]\n",
    "\n",
    "        # device initiallize\n",
    "        # n : num_qubit\n",
    "        self.dev = qml.device(\"default.qubit\", wires=(self.n + self.d + self.l))\n",
    "\n",
    "    def U_z(self):\n",
    "        qml.AmplitudeEmbedding(self.v_x, wires=range(self.n), normalize=True)\n",
    "        qml.adjoint(qml.AmplitudeEmbedding)(self.v_wb, wires=range(self.n), normalize=True)\n",
    "        for i in range(self.n):\n",
    "            qml.PauliX(wires=i)\n",
    "\n",
    "    def V(self, m):\n",
    "        a_m = self.n + m\n",
    "\n",
    "        # Controlled-Hadamard for (control, target) : (q register, a_m)\n",
    "        qml.ctrl(qml.Hadamard, control=range(self.n))(wires=a_m)\n",
    "\n",
    "        # CNOT for (control, target) : (a_m, q register)\n",
    "        for i in range(self.n):\n",
    "            qml.CNOT(wires=[a_m, i])\n",
    "\n",
    "        # Controlled-U(x, w, b) for : (a_m, q register)\n",
    "        qml.ctrl(self.U_z, control=a_m)()\n",
    "\n",
    "    def outer_theorem1(self):\n",
    "        '''\n",
    "            Pauli-X 후 S_V(V_0, V_1, ... , V_{d-1})\n",
    "        '''\n",
    "        # Pauli-X for each qubit of q register\n",
    "        for i in range(self.n):\n",
    "            qml.PauliX(wires=i)\n",
    "\n",
    "        # V_m for each m in (0, ... , d - 1)\n",
    "        for m in range(self.d):\n",
    "            self.V(m)\n",
    "\n",
    "    def theorem1(self, chk=False):\n",
    "        '''\n",
    "            Theorem 1의 state |psi_z^d> 를 생성해서, state vector를 return\n",
    "        '''\n",
    "        @qml.qnode(device=self.dev)\n",
    "        def inner_theorem1():\n",
    "            self.outer_theorem1()\n",
    "            return qml.state()\n",
    "\n",
    "        if chk:\n",
    "            print(qml.draw_mpl(inner_theorem1)())\n",
    "        return inner_theorem1()\n",
    "\n",
    "    def corollary1(self, k):\n",
    "        '''\n",
    "            k를 input으로 받아, |N-1>(q)|2^k - 1>(a) state에 대한 amplitude를 return\n",
    "        '''\n",
    "        result = self.theorem1()\n",
    "        bitstring = ('1' * self.n) + ('0' * (self.d - k)) + ('1' * k)\n",
    "        index = int(bitstring, 2)\n",
    "        return result[index]"
   ]
  },
  {
   "cell_type": "code",
   "execution_count": 310,
   "metadata": {},
   "outputs": [],
   "source": [
    "class test(nn.Module):\n",
    "    '''\n",
    "        qaf_layer, 즉 n-to-1 perceptron(wx+b)에서, w가 잘 업데이트 되는지 확인하기 위한 클래스\n",
    "    '''\n",
    "    def __init__(self, input_size):\n",
    "        '''\n",
    "            input_size(int) : w와 x의 size -> N_in\n",
    "        '''\n",
    "        super(test, self).__init__()\n",
    "\n",
    "        self.weights = nn.Parameter(torch.rand(input_size, requires_grad=True))\n",
    "        self.bias = nn.Parameter(torch.rand(1, requires_grad=True))\n",
    "        self.N_in=4\n",
    "        self.d=4\n",
    "        self.l=1\n",
    "        self.N = int(2 ** (np.ceil(np.log2(self.N_in + 3))))\n",
    "        self.n = int(np.log2(self.N))\n",
    "        self.activation = 'sin(z)'\n",
    "        self.dev = qml.device(\"default.qubit\", wires=(self.n + self.d + self.l))\n",
    "\n",
    "    def U_z(self):\n",
    "        print(\"U z\" ,self.weights)\n",
    "        qml.AmplitudeEmbedding(self.v_x, wires=range(self.n), normalize=True)\n",
    "        qml.adjoint(qml.AmplitudeEmbedding)(self.v_wb, wires=range(self.n), normalize=True)\n",
    "        for i in range(self.n):\n",
    "            qml.PauliX(wires=i)\n",
    "\n",
    "    def V(self, m):\n",
    "        print(\"V\" ,self.weights)\n",
    "        a_m = self.n + m\n",
    "        # Controlled-Hadamard for (control, target) : (q register, a_m)\n",
    "        qml.ctrl(qml.Hadamard, control=range(self.n))(wires=a_m)\n",
    "\n",
    "        # CNOT for (control, target) : (a_m, q register)\n",
    "        for i in range(self.n):\n",
    "            qml.CNOT(wires=[a_m, i])\n",
    "\n",
    "        # Controlled-U(x, w, b) for : (a_m, q register)\n",
    "        qml.ctrl(self.U_z, control=a_m)()\n",
    "\n",
    "    def outer_theorem1(self):\n",
    "        '''\n",
    "            Pauli-X 후 S_V(V_0, V_1, ... , V_{d-1})\n",
    "        '''\n",
    "        # Pauli-X for each qubit of q register\n",
    "        for i in range(self.n):\n",
    "            qml.PauliX(wires=i)\n",
    "\n",
    "        # V_m for each m in (0, ... , d - 1)\n",
    "        for m in range(self.d):\n",
    "            self.V(m)\n",
    "        print(\"outer_theorem1\")\n",
    "\n",
    "\n",
    "    def theorem1(self, chk=True):\n",
    "        '''\n",
    "            Theorem 1의 state |psi_z^d> 를 생성해서, state vector를 return\n",
    "        '''\n",
    "        @qml.qnode(device=self.dev, interface=\"torch\")\n",
    "        def inner_theorem1():\n",
    "            self.U_z()\n",
    "            # self.outer_theorem1()\n",
    "\n",
    "            obs = qml.PauliZ(0)\n",
    "            return qml.expval(obs)\n",
    "        if chk:\n",
    "            print(qml.draw_mpl(inner_theorem1)())\n",
    "        return inner_theorem1()\n",
    "\n",
    "    def forward(self, x):\n",
    "        N_in = len(self.weights) # torch.tensor([len(self.weights)])\n",
    "        self.A_x  = torch.sqrt(torch.tensor(self.N_in)- ( x @ x))\n",
    "        self.A_wb = torch.sqrt(torch.tensor(self.N_in + 1) - (self.weights @ self.weights + self.bias * self.bias))\n",
    "        self.v_x    = torch.cat((self.A_x.unsqueeze(0),  x, torch.tensor([1.0]), torch.tensor([0.0] * (self.N - self.N_in - 2))))               # [self.A_x]  + self.x_list + [1.0]       + ([0.0] * (self.N - self.N_in - 2))\n",
    "        self.v_wb   = torch.cat((torch.tensor([0.0]), self.weights, self.bias, torch.tensor([0.0] * (self.N - self.N_in - 3)), self.A_wb))\n",
    "        print(self.A_x)\n",
    "        print(self.v_x)\n",
    "        print(self.v_wb)\n",
    "        print(\"Z :\" ,self.v_x@self.v_wb)\n",
    "        result=self.theorem1()\n",
    "\n",
    "        return result # @ temp\n"
   ]
  },
  {
   "cell_type": "code",
   "execution_count": 311,
   "metadata": {},
   "outputs": [],
   "source": [
    "import torch\n",
    "from torchviz import make_dot"
   ]
  },
  {
   "cell_type": "code",
   "execution_count": 312,
   "metadata": {},
   "outputs": [
    {
     "name": "stdout",
     "output_type": "stream",
     "text": [
      "tensor(1.9235)\n",
      "tensor([1.9235, 0.1000, 0.2000, 0.3000, 0.4000, 1.0000, 0.0000, 0.0000])\n",
      "tensor([0.0000, 0.5290, 0.8220, 0.2491, 0.2076, 0.0133, 0.0000, 1.9847],\n",
      "       grad_fn=<CatBackward0>)\n",
      "Z : tensor(0.3884, grad_fn=<DotBackward0>)\n",
      "U z Parameter containing:\n",
      "tensor([0.5290, 0.8220, 0.2491, 0.2076], requires_grad=True)\n",
      "(<Figure size 600x400 with 1 Axes>, <Axes: >)\n",
      "U z Parameter containing:\n",
      "tensor([0.5290, 0.8220, 0.2491, 0.2076], requires_grad=True)\n",
      "res :  tensor(0.8965, dtype=torch.float64, grad_fn=<DotBackward0>)\n",
      "tensor([nan, nan, nan, nan])\n",
      "Parameter containing:\n",
      "tensor([0.5290, 0.8220, 0.2491, 0.2076], requires_grad=True)\n"
     ]
    },
    {
     "data": {
      "image/png": "[encoded data removed]",
      "text/plain": [
       "<Figure size 600x400 with 1 Axes>"
      ]
     },
     "metadata": {},
     "output_type": "display_data"
    }
   ],
   "source": [
    "test1 = test(4)\n",
    "x = torch.tensor([0.1,0.2,0.3,0.4])\n",
    "res = test1(x)\n",
    "print(\"res : \",res)\n",
    "res.backward()\n",
    "print(test1.weights.grad)\n",
    "print(test1.weights)"
   ]
  },
  {
   "cell_type": "code",
   "execution_count": 313,
   "metadata": {},
   "outputs": [
    {
     "data": {
      "text/plain": [
       "'computation_graph.pdf'"
      ]
     },
     "execution_count": 313,
     "metadata": {},
     "output_type": "execute_result"
    }
   ],
   "source": [
    "dot =make_dot(res, params={\"w\":test1.weights,\"bias\":test1.bias})\n",
    "dot.render('computation_graph', format='png', cleanup=True)  # 파일로 저장\n",
    "dot.view()"
   ]
  },
  {
   "cell_type": "code",
   "execution_count": 302,
   "metadata": {},
   "outputs": [
    {
     "name": "stdout",
     "output_type": "stream",
     "text": [
      "[Parameter containing:\n",
      "tensor([0.3271, 0.5438, 0.8418, 0.4543], requires_grad=True), Parameter containing:\n",
      "tensor([0.9737], requires_grad=True)]\n",
      "tensor(1.9235)\n",
      "tensor([1.9235, 0.1000, 0.2000, 0.3000, 0.4000, 1.0000, 0.0000, 0.0000])\n",
      "tensor([0.0000, 0.3271, 0.5438, 0.8418, 0.4543, 0.9737, 0.0000, 1.6535],\n",
      "       grad_fn=<CatBackward0>)\n",
      "Z : tensor(1.5494, grad_fn=<DotBackward0>)\n",
      "U z Parameter containing:\n",
      "tensor([0.3271, 0.5438, 0.8418, 0.4543], requires_grad=True)\n",
      "(<Figure size 600x400 with 1 Axes>, <Axes: >)\n",
      "U z Parameter containing:\n",
      "tensor([0.3271, 0.5438, 0.8418, 0.4543], requires_grad=True)\n",
      "res: tensor(0.2672, dtype=torch.float64, grad_fn=<DotBackward0>)\n",
      "tensor([nan, nan, nan, nan])\n",
      "[Parameter containing:\n",
      "tensor([nan, nan, nan, nan], requires_grad=True), Parameter containing:\n",
      "tensor([nan], requires_grad=True)]\n"
     ]
    },
    {
     "data": {
      "image/png": "[encoded data removed]",
      "text/plain": [
       "<Figure size 600x400 with 1 Axes>"
      ]
     },
     "metadata": {},
     "output_type": "display_data"
    }
   ],
   "source": [
    "test1 = test(4)\n",
    "print(list(test1.parameters()))\n",
    "op1 = optim.Adam(test1.parameters(), lr=0.01)\n",
    "# op1.zero_grad()\n",
    "res = test1(x)\n",
    "print(\"res:\",res)\n",
    "res.backward()\n",
    "print(test1.weights.grad)\n",
    "op1.step()\n",
    "print(list(test1.parameters()))"
   ]
  },
  {
   "cell_type": "code",
   "execution_count": 118,
   "metadata": {},
   "outputs": [],
   "source": [
    "class Theorem1: # _for_torch:\n",
    "    '''\n",
    "        QAF 논문 Theorem 1을 구현하기 위한 class\n",
    "    '''\n",
    "    def __init__(self, w, x, b, d, l = 0):\n",
    "        '''\n",
    "            w(torch.tensor([]))     : list for weight\n",
    "            x(torch.tensor([]))     : list for x(input)\n",
    "            b(torch.tensor([]))    : float value of bias\n",
    "            d(int)      : degree for Taylor (polynomial) Expansion\n",
    "        '''\n",
    "\n",
    "        # print('Before list Initiallize Init')\n",
    "        # list Initiallize\n",
    "        self.w = w\n",
    "        self.x = x\n",
    "        self.b = b\n",
    "        self.d = d\n",
    "        self.l = l\n",
    "\n",
    "        # # vector Initiallize\n",
    "        # self.x = np.array(self.x_list)\n",
    "        # self.w = np.array(self.w_list)\n",
    "\n",
    "        # print('Before lengths Calculate Init')\n",
    "        # lengths Calculate\n",
    "        self.N_in = len(self.x)\n",
    "        self.N = int(2 ** (np.ceil(np.log2(self.N_in + 3))))\n",
    "        self.n = int(np.log2(self.N))\n",
    "\n",
    "        # print('Before A_x, A_wb Calculate Init')\n",
    "        # A_x, A_wb Calculate\n",
    "        self.A_x  = torch.sqrt(torch.tensor(self.N_in)- (self.x @ self.x))\n",
    "        self.A_wb = torch.sqrt(torch.tensor(self.N_in + 1) - (self.w @ self.w + self.b * self.b))\n",
    "\n",
    "        # print('Before v_x, v_wb Init')\n",
    "        # v_x, v_wb\n",
    "        self.v_x    = torch.cat((self.A_x.unsqueeze(0),  self.x, torch.tensor([1.0]), torch.tensor([0.0] * (self.N - self.N_in - 2))))               # [self.A_x]  + self.x_list + [1.0]       + ([0.0] * (self.N - self.N_in - 2))\n",
    "        self.v_wb   = torch.cat((torch.tensor([0.0]), self.w, self.b, torch.tensor([0.0] * (self.N - self.N_in - 3)), self.A_wb))   # [0.0]       + self.w_list + [self.b]    + ([0.0] * (self.N - self.N_in - 3)) + [self.A_wb]\n",
    "\n",
    "        # device initiallize\n",
    "        # n : num_qubit\n",
    "        self.dev = qml.device(\"default.qubit\", wires=(self.n + self.d + self.l))\n",
    "\n",
    "    def U_z(self):\n",
    "        qml.AmplitudeEmbedding(self.v_x, wires=range(self.n), normalize=True)\n",
    "        qml.adjoint(qml.AmplitudeEmbedding)(self.v_wb, wires=range(self.n), normalize=True)\n",
    "        for i in range(self.n):\n",
    "            qml.PauliX(wires=i)\n",
    "\n",
    "    def V(self, m):\n",
    "        a_m = self.n + m\n",
    "\n",
    "        # Controlled-Hadamard for (control, target) : (q register, a_m)\n",
    "        qml.ctrl(qml.Hadamard, control=range(self.n))(wires=a_m)\n",
    "\n",
    "        # CNOT for (control, target) : (a_m, q register)\n",
    "        for i in range(self.n):\n",
    "            qml.CNOT(wires=[a_m, i])\n",
    "\n",
    "        # Controlled-U(x, w, b) for : (a_m, q register)\n",
    "        qml.ctrl(self.U_z, control=a_m)()\n",
    "\n",
    "    def outer_theorem1(self):\n",
    "        '''\n",
    "            Pauli-X 후 S_V(V_0, V_1, ... , V_{d-1})\n",
    "        '''\n",
    "        # Pauli-X for each qubit of q register\n",
    "        for i in range(self.n):\n",
    "            qml.PauliX(wires=i)\n",
    "\n",
    "        # V_m for each m in (0, ... , d - 1)\n",
    "        for m in range(self.d):\n",
    "            self.V(m)\n",
    "\n",
    "    def theorem1(self, chk=False):\n",
    "        '''\n",
    "            Theorem 1의 state |psi_z^d> 를 생성해서, state vector를 return\n",
    "        '''\n",
    "        @qml.qnode(device=self.dev, interface=\"torch\")\n",
    "        def inner_theorem1():\n",
    "            self.outer_theorem1()\n",
    "            return qml.state()\n",
    "\n",
    "        if chk:\n",
    "            print(qml.draw_mpl(inner_theorem1)())\n",
    "        return inner_theorem1()\n",
    "\n",
    "    def corollary1(self, k):\n",
    "        '''\n",
    "            k를 input으로 받아, |N-1>(q)|2^k - 1>(a) state에 대한 amplitude를 return\n",
    "        '''\n",
    "        result = self.theorem1()\n",
    "        bitstring = ('1' * self.n) + ('0' * (self.d - k)) + ('1' * k)\n",
    "        index = int(bitstring, 2)\n",
    "        return result[index]"
   ]
  },
  {
   "cell_type": "markdown",
   "metadata": {},
   "source": [
    "---"
   ]
  },
  {
   "cell_type": "markdown",
   "metadata": {},
   "source": [
    "### Theorem 2"
   ]
  },
  {
   "cell_type": "code",
   "execution_count": 119,
   "metadata": {},
   "outputs": [],
   "source": [
    "class Theorem2(Theorem1):\n",
    "    def __init__(self, w, x, b, d, f, l = 0):\n",
    "        '''\n",
    "            w, x, b, d : same as Thm1\n",
    "            f(str) : name of function which will be sympified\n",
    "        '''\n",
    "\n",
    "        # print('Before Thm1 Init')\n",
    "        super().__init__(w, x, b, d, l=l)\n",
    "        # print('After Thm1 Init')\n",
    "        self.f = sp.sympify(f) # target f\n",
    "        self.k = -1     # target f의 taylor expansion 중 계수가 0이 아닌 최저 차수\n",
    "        self.C_d = 1    # f_d(z)와 실제 f(z)의 factoring constant\n",
    "        self.theta_list = self.make_theta_list()\n",
    "\n",
    "\n",
    "    def taylor_series_coefficients(self):\n",
    "        # 심볼 정의\n",
    "        z = sp.symbols('z')\n",
    "        point = 0.0\n",
    "\n",
    "        # 테일러 전개 계산\n",
    "        taylor_expansion = sp.series(self.f, z, point, self.d + 1).removeO()\n",
    "\n",
    "        # 계수 추출\n",
    "        coeffs = [taylor_expansion.coeff(z, i) for i in range(self.d + 1)]\n",
    "        return coeffs\n",
    "\n",
    "    def make_theta_list(self):\n",
    "        # Get Coeffs of Taylor (polynomial) Expansion of target f\n",
    "        coefficients = self.taylor_series_coefficients()\n",
    "\n",
    "        # Update k (target f의 taylor expansion 중 계수가 0이 아닌 최저 차수)\n",
    "        for i in range(0, self.d + 1):\n",
    "            if coefficients[i] != 0:\n",
    "                self.k = i\n",
    "                break\n",
    "\n",
    "        theta_list = [0 for _ in range(self.d)]\n",
    "        # target f = 0\n",
    "        if self.k < 0:\n",
    "            return theta_list\n",
    "\n",
    "        # a_i = 0 for all i < k\n",
    "        for i in range(self.k):\n",
    "            theta_list[i] = -1 * math.pi / 2\n",
    "\n",
    "        # a_k Initiallization\n",
    "        theta_list[self.k] = math.atan(-1 * coefficients[self.k + 1] / coefficients[self.k])\n",
    "\n",
    "        A = 1\n",
    "        for i in range(self.k + 1, len(coefficients) - 1):\n",
    "            A *= math.cos(theta_list[i - 1])\n",
    "            theta_list[i] = math.atan(-1 * coefficients[i + 1] / coefficients[self.k] * A)\n",
    "\n",
    "        # C_d update\n",
    "        C_d = coefficients[self.k] # a_k\n",
    "        for i in range(self.k, self.d):\n",
    "            C_d /= math.cos(theta_list[i]) # 1/cos(theta)\n",
    "        self.C_d = torch.tensor([float(C_d)])\n",
    "\n",
    "        return theta_list\n",
    "\n",
    "    def U(self, d):\n",
    "        '''\n",
    "            U_d Unitary for S_U iteration\n",
    "        '''\n",
    "        theta_list = self.theta_list # make_theta_list()\n",
    "        for k in range(1, d):\n",
    "            a_0 = self.n\n",
    "            a_k = a_0 + k\n",
    "            qml.ctrl(qml.RY, control=a_k, control_values=0)(2 * theta_list[k - 1], wires=a_0)\n",
    "            qml.CNOT(wires=[a_0, a_k])\n",
    "\n",
    "    def outer_theorem2(self):\n",
    "        '''\n",
    "            S_U := d register에는 U_d, q register에는 Pauli-X for each qubit\n",
    "        '''\n",
    "        # Pauli-X for each qubit of q register\n",
    "        # and S_V\n",
    "        self.outer_theorem1()\n",
    "\n",
    "        qml.Barrier()\n",
    "\n",
    "        # U_d\n",
    "        self.U(self.d)\n",
    "\n",
    "        qml.Barrier()\n",
    "\n",
    "        # Pauli-X for each qubit of q register\n",
    "        for i in range(self.n):\n",
    "            qml.PauliX(wires=i)\n",
    "\n",
    "    def theorem2(self, chk=False):\n",
    "        @qml.qnode(device=self.dev, interface=\"torch\")\n",
    "        def inner_theorem2():\n",
    "            self.outer_theorem2()\n",
    "            return qml.state()\n",
    "        if chk:\n",
    "            print(qml.draw_mpl(self.outer_theorem2)())\n",
    "        return inner_theorem2()\n",
    "\n",
    "    def corollary2(self, k):\n",
    "        '''\n",
    "            as same as col 1,\n",
    "            k를 input으로 받아, |N-1>(q)|2^k - 1>(a) state에 대한 amplitude를 return\n",
    "        '''\n",
    "        result = self.theorem2()\n",
    "        bitstring = ('0' * self.n) + ('0' * (self.d - k)) + ('1' * k)\n",
    "        index = int(bitstring, 2)\n",
    "        return result[index] * self.C_d # * C_d\n"
   ]
  },
  {
   "cell_type": "markdown",
   "metadata": {},
   "source": [
    "---"
   ]
  },
  {
   "cell_type": "markdown",
   "metadata": {},
   "source": [
    "### Amplitude Estimation"
   ]
  },
  {
   "cell_type": "code",
   "execution_count": 120,
   "metadata": {},
   "outputs": [],
   "source": [
    "class qaf_layer(Theorem2):\n",
    "    def __init__(self, w, x, b, d, f):\n",
    "        '''\n",
    "            w, x, b, d : same as Thm1\n",
    "            f(str) : name of function which will be sympified\n",
    "        '''\n",
    "        # print('Before Thm2 Init')\n",
    "        super().__init__(w, x, b, d, f, l = 1)\n",
    "        # print('After Thm2 Init')\n",
    "\n",
    "        self.f = sp.sympify(f) # target f\n",
    "        self.k = -1 # target f의 taylor expansion 중 계수가 0이 아닌 최저 차수\n",
    "        self.theta_list = self.make_theta_list()\n",
    "\n",
    "    def outer_controlled_theorem2(self):\n",
    "        l_0 = self.n + self.d # index of l register\n",
    "\n",
    "        qml.Hadamard(wires=l_0) # Hadamard for l register\n",
    "\n",
    "        qml.Barrier()\n",
    "\n",
    "        qml.ctrl(self.outer_theorem2, control=l_0)()\n",
    "\n",
    "        qml.Barrier()\n",
    "\n",
    "        qml.Hadamard(wires=l_0) # Hadamard for l register\n",
    "\n",
    "    def controlled_theorem2(self):\n",
    "        @qml.qnode(device=self.dev, interface=\"torch\")\n",
    "        def inner_controlled_theorem2():\n",
    "            self.outer_controlled_theorem2()\n",
    "            return qml.probs()\n",
    "        return inner_controlled_theorem2()\n",
    "\n",
    "    def amplitude_estimation(self):\n",
    "        result = self.controlled_theorem2()[0] # get P_0\n",
    "        factorized_inner_product = torch.sqrt(4 * result) - 1\n",
    "        inner_product = factorized_inner_product * (2 ** (self.d / 2))\n",
    "        return inner_product\n",
    "\n",
    "    def activation_estimation(self):\n",
    "        result = self.amplitude_estimation()\n",
    "        return result * self.C_d\n"
   ]
  },
  {
   "cell_type": "markdown",
   "metadata": {},
   "source": [
    "---"
   ]
  },
  {
   "cell_type": "markdown",
   "metadata": {},
   "source": [
    "### QAF Model"
   ]
  },
  {
   "cell_type": "code",
   "execution_count": 121,
   "metadata": {},
   "outputs": [],
   "source": [
    "# list Initiallize\n",
    "x_tensor = torch.tensor([0.1, -0.2, -0.3, -0.4])\n",
    "w_tensor = torch.tensor([-0.8, 0.7, 0.9, 0.3])\n",
    "b = torch.tensor([0.5])\n",
    "d = 5\n",
    "f = 'sin(z)'\n",
    "\n",
    "args = [x_tensor, w_tensor, b, d, f]\n",
    "\n",
    "N_in = len(x_tensor)\n",
    "z = (np.array(x_tensor) @ np.array(x_tensor) + b) / (N_in + 1)\n",
    "\n",
    "target_w = torch.tensor([-0.8, 0.7, 0.9, 0.3])\n",
    "target_b = torch.tensor([0.5])\n",
    "# 'f(wx+b) -> f(target_w * x + target_b)'"
   ]
  },
  {
   "cell_type": "code",
   "execution_count": 122,
   "metadata": {},
   "outputs": [
    {
     "name": "stdout",
     "output_type": "stream",
     "text": [
      "Example batch x: torch.Size([4])\n",
      "Example batch y: torch.Size([])\n"
     ]
    }
   ],
   "source": [
    "# 데이터 생성\n",
    "num_data = 20000  # 총 데이터 개수\n",
    "batch_size = 1  # 배치 크기\n",
    "\n",
    "x_data = torch.rand(4, num_data)  # (20000, 1) shape로 생성\n",
    "y_data = target_w @ x_data + target_b  # sin 함수로 출력 생성 (20000, 1)\n",
    "x_data = x_data.T\n",
    "# 텐서 데이터셋 생성\n",
    "dataset = TensorDataset(x_data, y_data)\n",
    "\n",
    "# Train/Test set 분할 (80%/20% 비율)\n",
    "train_size = int(0.8 * num_data)\n",
    "test_size = num_data - train_size\n",
    "train_dataset, test_dataset = random_split(dataset, [train_size, test_size])\n",
    "\n",
    "# DataLoader 생성\n",
    "train_loader = train_dataset # DataLoader(train_dataset, batch_size=batch_size, shuffle=True)\n",
    "test_loader  = test_dataset # DataLoader(test_dataset, batch_size=batch_size, shuffle=False)\n",
    "\n",
    "# 배치 예시 출력\n",
    "x_batch, y_batch = next(iter(train_loader))\n",
    "print(\"Example batch x:\", x_batch.shape)  # Expected: [128, 1]\n",
    "print(\"Example batch y:\", y_batch.shape)  # Expected: [128, 1]\n"
   ]
  },
  {
   "cell_type": "code",
   "execution_count": 123,
   "metadata": {},
   "outputs": [],
   "source": [
    "class qaf_model(nn.Module):\n",
    "    '''\n",
    "        qaf_layer, 즉 n-to-1 perceptron(wx+b)에서, w가 잘 업데이트 되는지 확인하기 위한 클래스\n",
    "    '''\n",
    "    def __init__(self, input_size):\n",
    "        '''\n",
    "            input_size(int) : w와 x의 size -> N_in\n",
    "        '''\n",
    "        super(qaf_model, self).__init__()\n",
    "\n",
    "        self.weights = nn.Parameter(torch.rand(input_size, requires_grad=True))\n",
    "        self.bias = nn.Parameter(torch.rand(1, requires_grad=True))\n",
    "        self.activation = 'sin(z)'\n",
    "\n",
    "    def forward(self, input, dim=4):\n",
    "        q_layer = qaf_layer(w=self.weights, x=input, b=self.bias, d=dim, f=self.activation)\n",
    "        return q_layer.activation_estimation() # .retain_grad()\n"
   ]
  },
  {
   "cell_type": "code",
   "execution_count": 124,
   "metadata": {},
   "outputs": [
    {
     "data": {
      "text/plain": [
       "tensor([0.1070, 0.5568, 0.6816, 0.1234])"
      ]
     },
     "execution_count": 124,
     "metadata": {},
     "output_type": "execute_result"
    }
   ],
   "source": [
    "for e in train_loader:\n",
    "    x_input = e[0]\n",
    "    break\n",
    "x_input"
   ]
  },
  {
   "cell_type": "code",
   "execution_count": 125,
   "metadata": {},
   "outputs": [
    {
     "name": "stdout",
     "output_type": "stream",
     "text": [
      "tensor([nan, nan, nan, nan])\n"
     ]
    }
   ],
   "source": [
    "q2 = qaf_model(4)\n",
    "res = q2(x_input)\n",
    "res.backward()\n",
    "print(q2.weights.grad)"
   ]
  },
  {
   "cell_type": "code",
   "execution_count": 126,
   "metadata": {},
   "outputs": [
    {
     "data": {
      "text/plain": [
       "[Parameter containing:\n",
       " tensor([0.6713, 0.6839, 0.8132, 0.2128], requires_grad=True),\n",
       " Parameter containing:\n",
       " tensor([0.2675], requires_grad=True)]"
      ]
     },
     "execution_count": 126,
     "metadata": {},
     "output_type": "execute_result"
    }
   ],
   "source": [
    "q2 = qaf_model(4)\n",
    "\n",
    "trainer1 = trainer(q2, train_loader=train_loader, test_loader=test_loader)\n",
    "\n",
    "list(q2.parameters())\n"
   ]
  },
  {
   "cell_type": "code",
   "execution_count": 20,
   "metadata": {},
   "outputs": [
    {
     "name": "stdout",
     "output_type": "stream",
     "text": [
      "tensor([0.5354, 0.4039, 0.2914, 0.3696])\n"
     ]
    }
   ],
   "source": [
    "for e in train_loader:\n",
    "    print(e[0])\n",
    "    break"
   ]
  },
  {
   "cell_type": "code",
   "execution_count": 21,
   "metadata": {},
   "outputs": [
    {
     "ename": "NameError",
     "evalue": "name 'trainer1' is not defined",
     "output_type": "error",
     "traceback": [
      "\u001b[0;31m---------------------------------------------------------------------------\u001b[0m",
      "\u001b[0;31mNameError\u001b[0m                                 Traceback (most recent call last)",
      "Cell \u001b[0;32mIn[21], line 1\u001b[0m\n\u001b[0;32m----> 1\u001b[0m \u001b[43mtrainer1\u001b[49m\u001b[38;5;241m.\u001b[39mtrain(chk\u001b[38;5;241m=\u001b[39m\u001b[38;5;28;01mTrue\u001b[39;00m)\n",
      "\u001b[0;31mNameError\u001b[0m: name 'trainer1' is not defined"
     ]
    }
   ],
   "source": [
    "trainer1.train(chk=True)"
   ]
  },
  {
   "cell_type": "code",
   "execution_count": 22,
   "metadata": {},
   "outputs": [
    {
     "ename": "NameError",
     "evalue": "name 'qaf_model' is not defined",
     "output_type": "error",
     "traceback": [
      "\u001b[0;31m---------------------------------------------------------------------------\u001b[0m",
      "\u001b[0;31mNameError\u001b[0m                                 Traceback (most recent call last)",
      "Cell \u001b[0;32mIn[22], line 1\u001b[0m\n\u001b[0;32m----> 1\u001b[0m q2 \u001b[38;5;241m=\u001b[39m \u001b[43mqaf_model\u001b[49m(\u001b[38;5;241m4\u001b[39m)\n\u001b[1;32m      3\u001b[0m \u001b[38;5;28;01mfor\u001b[39;00m e \u001b[38;5;129;01min\u001b[39;00m train_loader:\n\u001b[1;32m      4\u001b[0m     \u001b[38;5;28mprint\u001b[39m(q2\u001b[38;5;241m.\u001b[39mweights\u001b[38;5;241m.\u001b[39mgrad)\n",
      "\u001b[0;31mNameError\u001b[0m: name 'qaf_model' is not defined"
     ]
    }
   ],
   "source": [
    "q2 = qaf_model(4)\n",
    "\n",
    "for e in train_loader:\n",
    "    print(q2.weights.grad)\n",
    "    print(q2.bias.grad)\n",
    "    res = q2(e[0])\n",
    "    res.backward()\n",
    "    print(q2.weights.grad)\n",
    "    print(q2.bias.grad)\n",
    "    break"
   ]
  },
  {
   "cell_type": "code",
   "execution_count": null,
   "metadata": {},
   "outputs": [
    {
     "data": {
      "text/plain": [
       "[Parameter containing:\n",
       " tensor([0.7701, 0.3137, 0.5186, 0.8166], requires_grad=True),\n",
       " Parameter containing:\n",
       " tensor([0.3878], requires_grad=True)]"
      ]
     },
     "execution_count": 87,
     "metadata": {},
     "output_type": "execute_result"
    }
   ],
   "source": [
    "list(q2.parameters())"
   ]
  },
  {
   "cell_type": "code",
   "execution_count": null,
   "metadata": {},
   "outputs": [],
   "source": []
  },
  {
   "cell_type": "code",
   "execution_count": null,
   "metadata": {},
   "outputs": [],
   "source": []
  },
  {
   "cell_type": "code",
   "execution_count": null,
   "metadata": {},
   "outputs": [],
   "source": []
  },
  {
   "cell_type": "code",
   "execution_count": null,
   "metadata": {},
   "outputs": [],
   "source": []
  }
 ],
 "metadata": {
  "kernelspec": {
   "display_name": "qrf",
   "language": "python",
   "name": "python3"
  },
  "language_info": {
   "codemirror_mode": {
    "name": "ipython",
    "version": 3
   },
   "file_extension": ".py",
   "mimetype": "text/x-python",
   "name": "python",
   "nbconvert_exporter": "python",
   "pygments_lexer": "ipython3",
   "version": "3.12.0"
  }
 },
 "nbformat": 4,
 "nbformat_minor": 2
}
