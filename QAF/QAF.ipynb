{
 "cells": [
  {
   "cell_type": "code",
   "execution_count": 3,
   "metadata": {},
   "outputs": [],
   "source": [
    "# Quantum\n",
    "import pennylane as qml\n",
    "\n",
    "# Numericlal\n",
    "import math\n",
    "import numpy as np\n",
    "import sympy as sp\n",
    "\n",
    "# Torch\n",
    "import torch\n",
    "import torch.nn as nn\n",
    "from torch import optim\n",
    "from torch.nn import MSELoss\n",
    "from torch.utils.data import TensorDataset, DataLoader, random_split\n",
    "\n",
    "# Trainer\n",
    "from trainer import trainer\n",
    "\n",
    "# Plot\n",
    "import matplotlib.pyplot as plt\n",
    "\n",
    "%matplotlib inline\n"
   ]
  },
  {
   "cell_type": "markdown",
   "metadata": {},
   "source": [
    "---\n",
    "## Qubit Naming Test"
   ]
  },
  {
   "cell_type": "code",
   "execution_count": 4,
   "metadata": {},
   "outputs": [
    {
     "name": "stdout",
     "output_type": "stream",
     "text": [
      "(<Figure size 500x300 with 1 Axes>, <Axes: >)\n"
     ]
    },
    {
     "data": {
      "text/plain": [
       "tensor([0.70710678+0.j, 0.        +0.j, 0.        +0.j, 0.70710678+0.j], requires_grad=True)"
      ]
     },
     "execution_count": 4,
     "metadata": {},
     "output_type": "execute_result"
    },
    {
     "data": {
      "image/png": "[encoded data removed]",
      "text/plain": [
       "<Figure size 500x300 with 1 Axes>"
      ]
     },
     "metadata": {},
     "output_type": "display_data"
    }
   ],
   "source": [
    "dev = qml.device('default.qubit', wires=['a0', 'a1'])\n",
    "\n",
    "@qml.qnode(device=dev)\n",
    "def circuit():\n",
    "    qml.Hadamard(wires='a0')\n",
    "\n",
    "    my_wire = [f'a{i}' for i in range(2)]\n",
    "    qml.CNOT(wires=my_wire)\n",
    "    return qml.state()\n",
    "\n",
    "print(qml.draw_mpl(circuit)())\n",
    "circuit()"
   ]
  },
  {
   "cell_type": "code",
   "execution_count": null,
   "metadata": {},
   "outputs": [],
   "source": []
  },
  {
   "cell_type": "markdown",
   "metadata": {},
   "source": [
    "---"
   ]
  },
  {
   "cell_type": "markdown",
   "metadata": {},
   "source": [
    "### Lemma 1"
   ]
  },
  {
   "cell_type": "code",
   "execution_count": 5,
   "metadata": {},
   "outputs": [],
   "source": [
    "class Lemma1:\n",
    "    '''\n",
    "        QAF 논문 Lemma 1을 구현하기 위한 class\n",
    "    '''\n",
    "    def __init__(self, w, x, b, output_num):\n",
    "        '''\n",
    "            w(matrix, tensor) : tensor for weights [row0 : w0, row1 : w1, ...], (output_num x input_num)\n",
    "            x(tensor) : tensor for x(input, list)\n",
    "            b(tensor) : tensor for bias_list\n",
    "            output_num(int) : number of output perceptrons (same as len(b))\n",
    "        '''\n",
    "        # list(tensor) Initiallize\n",
    "        self.w = w\n",
    "        self.x = x\n",
    "        self.b = b\n",
    "        self.output_num = output_num\n",
    "\n",
    "        # lengths Calculate\n",
    "        self.N_in = len(x)\n",
    "        self.N = int(2 ** (np.ceil(np.log2(self.N_in + 3))))\n",
    "        self.n = int(np.log2(self.N))\n",
    "        self.s = int(np.ceil(np.log2(self.output_num)))\n",
    "\n",
    "        # About x\n",
    "        self.A_x  = torch.sqrt(torch.tensor(self.N_in) - (self.x @ self.x))\n",
    "        self.v_x  = torch.cat(( self.A_x.unsqueeze(0)  ,self.x , torch.tensor([1.0]) ,torch.tensor([0.0] * (self.N - self.N_in - 2))))\n",
    "\n",
    "        # About w, b\n",
    "        self.A_wb = torch.zeros(self.output_num)\n",
    "        self.v_wb = torch.zeros(self.output_num, self.N)\n",
    "        for i in range(len(self.w)):\n",
    "            self.A_wb[i] = torch.sqrt(torch.tensor(self.N_in) + 1 - (self.w[i] @ self.w[i] + self.b[i] * self.b[i]))\n",
    "            self.v_wb[i] = torch.cat((torch.tensor([0.0]), self.w[i], self.b[i].unsqueeze(0), torch.tensor([0.0] * (self.N - self.N_in - 3)), self.A_wb[i].unsqueeze(0)))\n",
    "\n",
    "        self.start_indexes = {\n",
    "            's' : 0,\n",
    "            'q' : self.s\n",
    "        }\n",
    "\n",
    "        # device initiallize\n",
    "        # n : num_qubit\n",
    "        self.dev = qml.device(\"default.qubit\", wires=self.s+self.n)\n",
    "\n",
    "    def qubit_index(self, name):\n",
    "        register_name = name[0]\n",
    "        register_index = int(name[1:])\n",
    "        return self.start_indexex[register_name] + register_index\n",
    "\n",
    "    def norm(self, vec):\n",
    "        return np.linalg.norm(vec)\n",
    "\n",
    "    def u(self, vec):\n",
    "        '''\n",
    "            small u(v_x)\n",
    "        '''\n",
    "        qml.AmplitudeEmbedding(vec, wires=range(self.s, self.s + self.n), normalize=True)\n",
    "\n",
    "    def k_to_control_wire_list(self, k):\n",
    "        return [int(i) for i in ('0' * (self.s - len(bin(k)[2:]))) + bin(k)[2:]]\n",
    "\n",
    "    def U_wb(self, index):\n",
    "        # U_wb, i.e. small_u(v_wb)^†, Pauli-X for each qubit\n",
    "        qml.adjoint(self.u)(self.v_wb[index])\n",
    "\n",
    "    def U_z(self):\n",
    "        # U_x, i.e. small_u(v_x)\n",
    "        self.u(self.v_x)\n",
    "\n",
    "        # qml.Barrier()\n",
    "\n",
    "        for i in range(self.output_num):\n",
    "            qml.ctrl(self.U_wb, control=range(self.s), control_values=self.k_to_control_wire_list(i))(i)\n",
    "            # qml.Barrier()\n",
    "\n",
    "        # Pauli-X for q register\n",
    "        q0 = self.s\n",
    "        for i in range(self.n):\n",
    "            qml.PauliX(wires=q0+i)\n",
    "\n",
    "    def hadamard_s(self):\n",
    "        # Hadamard for all qubit of l register\n",
    "        for i in range(self.s):\n",
    "            qml.Hadamard(wires=i)\n",
    "\n",
    "    def outer_lemma1(self):\n",
    "        self.hadamard_s()\n",
    "        self.U_z()\n",
    "\n",
    "\n",
    "    def lemma1(self, chk=False):\n",
    "        @qml.qnode(device=self.dev ,interface=\"torch\")\n",
    "        def inner_lemma1():\n",
    "            self.outer_lemma1()\n",
    "            return qml.state()\n",
    "        if chk:\n",
    "            print(qml.draw_mpl(inner_lemma1)())\n",
    "        return inner_lemma1()\n",
    "\n",
    "    def get_z(self, k, chk=False):\n",
    "        '''\n",
    "            k번째 wegiht에 대한 z를 구해준다.\n",
    "        '''\n",
    "        bit_string = '0' * (self.s - len(bin(k)[2:])) + bin(k)[2:]\n",
    "        index = int(bit_string + '1' * self.n, 2)\n",
    "        result = self.lemma1(chk=chk)\n",
    "        return result[index] * (2 ** (self.s / 2))\n",
    "\n",
    "    def get_z_list(self):\n",
    "        return [self.get_z(i) for i in range(self.output_num)]\n",
    "\n"
   ]
  },
  {
   "cell_type": "code",
   "execution_count": 6,
   "metadata": {},
   "outputs": [
    {
     "name": "stdout",
     "output_type": "stream",
     "text": [
      "(<Figure size 800x600 with 1 Axes>, <Axes: >)\n"
     ]
    },
    {
     "data": {
      "text/plain": [
       "(tensor(0.3436+0.j, dtype=torch.complex128), tensor([0.3436, 0.2203, 0.2231]))"
      ]
     },
     "execution_count": 6,
     "metadata": {},
     "output_type": "execute_result"
    },
    {
     "data": {
      "image/png": "[encoded data removed]",
      "text/plain": [
       "<Figure size 800x600 with 1 Axes>"
      ]
     },
     "metadata": {},
     "output_type": "display_data"
    }
   ],
   "source": [
    "num_of_weight = 3\n",
    "element_of_weight = 4\n",
    "w = torch.rand(num_of_weight, element_of_weight)\n",
    "x = torch.rand(element_of_weight)\n",
    "bias = torch.rand(num_of_weight)\n",
    "\n",
    "z = (w @ x + bias) / (len(x) + 1)\n",
    "\n",
    "test1 = Lemma1(w=w, x=x, b=bias, output_num=num_of_weight)\n",
    "test1.get_z(k=0, chk=True), z"
   ]
  },
  {
   "cell_type": "markdown",
   "metadata": {},
   "source": [
    "---"
   ]
  },
  {
   "cell_type": "markdown",
   "metadata": {},
   "source": [
    "### Theorem 1, Corollary 1"
   ]
  },
  {
   "cell_type": "code",
   "execution_count": 7,
   "metadata": {},
   "outputs": [],
   "source": [
    "class Theorem1(Lemma1):\n",
    "    '''\n",
    "        QAF 논문 Theorem 1을 구현하기 위한 class\n",
    "    '''\n",
    "    def __init__(self, w, x, b, d, l = 0):\n",
    "        '''\n",
    "            w(matrix, tensor) : tensor for weights [row0 : w0, row1 : w1, ...], (output_num x input_num)\n",
    "            x(tensor) : tensor for x(input, list)\n",
    "            b(tensor) : tensor for bias_list\n",
    "            d(int)      : degree for Taylor (polynomial) Expansion\n",
    "        '''\n",
    "        super().__init__(w, x, b, output_num=len(b))\n",
    "        self.d = d\n",
    "        self.l = l\n",
    "\n",
    "        # device initiallize\n",
    "        # n : num_qubit\n",
    "        self.dev = qml.device(\"default.qubit\", wires=(self.s + self.n + self.d + self.l))\n",
    "\n",
    "    def V(self, m):\n",
    "        a_m = self.s + self.n + m\n",
    "\n",
    "        # Controlled-Hadamard for (control, target) : (q register, a_m)\n",
    "        qml.ctrl(qml.Hadamard, control=range(self.s, self.s + self.n))(wires=a_m)\n",
    "\n",
    "        # CNOT for (control, target) : (a_m, q register)\n",
    "        for i in range(self.n):\n",
    "            q_i = self.s + i\n",
    "            qml.CNOT(wires=[a_m, q_i])\n",
    "\n",
    "        # Controlled-U(x, w, b) for : (a_m, q register)\n",
    "        qml.ctrl(self.U_z, control=a_m)()\n",
    "\n",
    "    def outer_theorem1(self):\n",
    "        '''\n",
    "            Pauli-X 후 S_V(V_0, V_1, ... , V_{d-1})\n",
    "        '''\n",
    "        # Pauli-X for each qubit of q register\n",
    "        for i in range(self.n):\n",
    "            q_i = self.s + i\n",
    "            qml.PauliX(wires=q_i)\n",
    "\n",
    "        self.hadamard_s()\n",
    "        qml.Barrier()\n",
    "        # V_m for each m in (0, ... , d - 1)\n",
    "        for m in range(self.d):\n",
    "            self.V(m)\n",
    "            qml.Barrier()\n",
    "\n",
    "    def theorem1(self, chk=False):\n",
    "        '''\n",
    "            Theorem 1의 state |psi_z^d> 를 생성해서, state vector를 return\n",
    "        '''\n",
    "        @qml.qnode(device=self.dev)\n",
    "        def inner_theorem1():\n",
    "            self.outer_theorem1()\n",
    "            return qml.state()\n",
    "        if chk:\n",
    "            print(qml.draw_mpl(inner_theorem1)())\n",
    "        return inner_theorem1()\n",
    "\n",
    "    def corollary1(self, k, w_index):\n",
    "        '''\n",
    "            k를 input으로 받아, |w_index>(s) |N-1>(q)|2^k - 1>(a) state에 대한 amplitude를 return\n",
    "        '''\n",
    "        result = self.theorem1()\n",
    "        w_bitstring = '0' * (self.s - len(bin(w_index)[2:])) + bin(w_index)[2:]\n",
    "        bitstring = w_bitstring + ('1' * self.n) + ('0' * (self.d - k)) + ('1' * k)\n",
    "        index = int(bitstring, 2)\n",
    "        return (result[index] * (2 ** ((self.s / 2) + (self.d / 2)))) ** (1 / k)\n",
    "\n",
    "    def get_z_list(self):\n",
    "        '''\n",
    "            k=d 고정, 모든 weight에 대한 z값 리스트 리턴\n",
    "        '''\n",
    "        return [self.corollary1(k=self.d, w_index=i) for i in range(self.output_num)]"
   ]
  },
  {
   "cell_type": "code",
   "execution_count": 8,
   "metadata": {},
   "outputs": [
    {
     "name": "stderr",
     "output_type": "stream",
     "text": [
      "/Users/yuksehyun/anaconda3/envs/qrf/lib/python3.12/site-packages/pennylane/math/utils.py:228: UserWarning: Contains tensors of types {'torch', 'autograd'}; dispatch will prioritize TensorFlow, PyTorch, and Jax over Autograd. Consider replacing Autograd with vanilla NumPy.\n",
      "  warnings.warn(\n",
      "/Users/yuksehyun/anaconda3/envs/qrf/lib/python3.12/site-packages/pennylane/math/utils.py:228: UserWarning: Contains tensors of types {'torch', 'autograd'}; dispatch will prioritize TensorFlow, PyTorch, and Jax over Autograd. Consider replacing Autograd with vanilla NumPy.\n",
      "  warnings.warn(\n",
      "/Users/yuksehyun/anaconda3/envs/qrf/lib/python3.12/site-packages/pennylane/math/utils.py:228: UserWarning: Contains tensors of types {'torch', 'autograd'}; dispatch will prioritize TensorFlow, PyTorch, and Jax over Autograd. Consider replacing Autograd with vanilla NumPy.\n",
      "  warnings.warn(\n",
      "/Users/yuksehyun/anaconda3/envs/qrf/lib/python3.12/site-packages/pennylane/math/utils.py:228: UserWarning: Contains tensors of types {'torch', 'autograd'}; dispatch will prioritize TensorFlow, PyTorch, and Jax over Autograd. Consider replacing Autograd with vanilla NumPy.\n",
      "  warnings.warn(\n"
     ]
    },
    {
     "data": {
      "text/plain": [
       "([tensor(0.4560+0.j, dtype=torch.complex128),\n",
       "  tensor(0.3397+0.j, dtype=torch.complex128),\n",
       "  tensor(0.3656+0.j, dtype=torch.complex128),\n",
       "  tensor(0.4789+0.j, dtype=torch.complex128)],\n",
       " tensor([0.4560, 0.3397, 0.3656, 0.4789]))"
      ]
     },
     "execution_count": 8,
     "metadata": {},
     "output_type": "execute_result"
    }
   ],
   "source": [
    "num_of_weight = 4\n",
    "element_of_weight = 4\n",
    "torch.manual_seed(42)\n",
    "w = torch.rand(num_of_weight, element_of_weight)\n",
    "x = torch.rand(element_of_weight)\n",
    "bias = torch.rand(num_of_weight)\n",
    "d = 4\n",
    "\n",
    "# print('w :', w)\n",
    "# print('x :', x)\n",
    "\n",
    "z = (w @ x + bias) / (len(x) + 1)\n",
    "\n",
    "test2 = Theorem1(w=w, x=x, b=bias, d=d)\n",
    "test2.get_z_list(), z"
   ]
  },
  {
   "cell_type": "markdown",
   "metadata": {},
   "source": [
    "---"
   ]
  },
  {
   "cell_type": "markdown",
   "metadata": {},
   "source": [
    "### Theorem 2"
   ]
  },
  {
   "cell_type": "code",
   "execution_count": 134,
   "metadata": {},
   "outputs": [],
   "source": [
    "class Theorem2(Theorem1):\n",
    "    def __init__(self, w, x, b, d, f, l = 0):\n",
    "        '''\n",
    "            w, x, b, d : same as Thm1\n",
    "            f(str) : name of function which will be sympified\n",
    "        '''\n",
    "\n",
    "        # print('Before Thm1 Init')\n",
    "        super().__init__(w, x, b, d, l=l)\n",
    "        # print('After Thm1 Init')\n",
    "        self.f = sp.sympify(f) # target f\n",
    "        self.k = -1     # target f의 taylor expansion 중 계수가 0이 아닌 최저 차수\n",
    "        self.C_d = 1    # f_d(z)와 실제 f(z)의 factoring constant\n",
    "        self.theta_list = self.make_theta_list()\n",
    "\n",
    "\n",
    "    def taylor_series_coefficients(self):\n",
    "        # 심볼 정의\n",
    "        z = sp.symbols('z')\n",
    "        point = 0.0\n",
    "\n",
    "        # 테일러 전개 계산\n",
    "        taylor_expansion = sp.series(self.f, z, point, self.d + 1).removeO()\n",
    "\n",
    "        # 계수 추출\n",
    "        coeffs = [taylor_expansion.coeff(z, i) for i in range(self.d + 1)]\n",
    "        return coeffs\n",
    "\n",
    "    def make_theta_list(self):\n",
    "        # Get Coeffs of Taylor (polynomial) Expansion of target f\n",
    "        coefficients = self.taylor_series_coefficients()\n",
    "\n",
    "        # Update k (target f의 taylor expansion 중 계수가 0이 아닌 최저 차수)\n",
    "        for i in range(0, self.d + 1):\n",
    "            if coefficients[i] != 0:\n",
    "                self.k = i\n",
    "                break\n",
    "\n",
    "        theta_list = [0 for _ in range(self.d)]\n",
    "        # target f = 0\n",
    "        if self.k < 0:\n",
    "            return theta_list\n",
    "\n",
    "        # a_i = 0 for all i < k\n",
    "        for i in range(self.k):\n",
    "            theta_list[i] = -1 * math.pi / 2\n",
    "\n",
    "        # a_k Initiallization\n",
    "        theta_list[self.k] = math.atan(-1 * coefficients[self.k + 1] / coefficients[self.k])\n",
    "\n",
    "        A = 1\n",
    "        for i in range(self.k + 1, len(coefficients) - 1):\n",
    "            A *= math.cos(theta_list[i - 1])\n",
    "            theta_list[i] = math.atan(-1 * coefficients[i + 1] / coefficients[self.k] * A)\n",
    "\n",
    "        # C_d update\n",
    "        C_d = coefficients[self.k] # a_k\n",
    "        for i in range(self.k, self.d):\n",
    "            C_d /= math.cos(theta_list[i]) # 1/cos(theta)\n",
    "        self.C_d = torch.tensor([float(C_d)])\n",
    "\n",
    "        return theta_list\n",
    "\n",
    "    def U(self, d):\n",
    "        '''\n",
    "            U_d Unitary for S_U iteration\n",
    "        '''\n",
    "        theta_list = self.theta_list # make_theta_list()\n",
    "        for k in range(1, d):\n",
    "            a_0 = self.s + self.n\n",
    "            a_k = a_0 + k\n",
    "            qml.ctrl(qml.RY, control=a_k, control_values=0)(2 * theta_list[k - 1], wires=a_0)\n",
    "            qml.CNOT(wires=[a_0, a_k])\n",
    "\n",
    "    def outer_theorem2(self):\n",
    "        '''\n",
    "            S_U := d register에는 U_d, q register에는 Pauli-X for each qubit\n",
    "        '''\n",
    "        # Pauli-X for each qubit of q register\n",
    "        # and S_V\n",
    "        self.outer_theorem1()\n",
    "\n",
    "        qml.Barrier()\n",
    "\n",
    "        # U_d\n",
    "        self.U(self.d)\n",
    "\n",
    "        qml.Barrier()\n",
    "\n",
    "        # Pauli-X for each qubit of q register\n",
    "        for i in range(self.n):\n",
    "            q_i = self.s + i\n",
    "            qml.PauliX(wires=q_i)\n",
    "\n",
    "    def theorem2(self, chk=False):\n",
    "        @qml.qnode(device=self.dev, interface=\"torch\")\n",
    "        def inner_theorem2():\n",
    "            self.outer_theorem2()\n",
    "            return qml.state()\n",
    "        if chk:\n",
    "            print(qml.draw_mpl(self.outer_theorem2)())\n",
    "        return inner_theorem2()\n",
    "\n",
    "    def corollary2(self, k, w_index):\n",
    "        '''\n",
    "            as same as col 1,\n",
    "            k를 input으로 받아, |N-1>(q)|2^k - 1>(a) state에 대한 amplitude를 return\n",
    "        '''\n",
    "        result = self.theorem2()\n",
    "        w_bitstring = '0' * (self.s - len(bin(w_index)[2:])) + bin(w_index)[2:]\n",
    "        bitstring = w_bitstring + ('0' * self.n) + ('0' * (self.d ))\n",
    "        index = int(bitstring, 2)\n",
    "\n",
    "        return result[index] * (2 ** (self.s / 2 + self.d / 2)) * self.C_d # * C_d\n",
    "\n",
    "    def get_z_list(self):\n",
    "        result = self.theorem2()\n",
    "        z_list= []\n",
    "        for i in range(self.output_num):\n",
    "            w_bitstring = '0' * (self.s - len(bin(i)[2:])) + bin(i)[2:]\n",
    "            bitstring = w_bitstring + ('0' * self.n) + ('0' * (self.d ))\n",
    "            index = int(bitstring, 2)\n",
    "            z_list.append(result[index] * (2 ** (self.s / 2 + self.d / 2)) * self.C_d)\n",
    "\n",
    "        return z_list"
   ]
  },
  {
   "cell_type": "code",
   "execution_count": 136,
   "metadata": {},
   "outputs": [
    {
     "data": {
      "text/plain": [
       "([tensor([0.1182+0.j]),\n",
       "  tensor([0.3321+0.j]),\n",
       "  tensor([0.3521+0.j]),\n",
       "  tensor([0.4246+0.j])],\n",
       " tensor([0.1182, 0.3322, 0.3521, 0.4247]))"
      ]
     },
     "execution_count": 136,
     "metadata": {},
     "output_type": "execute_result"
    }
   ],
   "source": [
    "num_of_weight = 4\n",
    "element_of_weight = 4\n",
    "torch.manual_seed(41)\n",
    "w = torch.rand(num_of_weight, element_of_weight)\n",
    "x = torch.rand(element_of_weight)\n",
    "bias = torch.rand(num_of_weight)\n",
    "d = 4\n",
    "func = 'sin(z)'\n",
    "\n",
    "# print('w :', w)\n",
    "# print('x :', x)\n",
    "\n",
    "z = (w @ x + bias) / (len(x) + 1)\n",
    "\n",
    "test2 = Theorem2(w=w, x=x, b=bias, d=d, f=func, l=0)\n",
    "# test2.theorem2(chk=True)\n",
    "test2.corollary2(k=4, w_index=2), np.sin(z)\n",
    "test2.get_z_list() ,np.sin(z)"
   ]
  },
  {
   "cell_type": "markdown",
   "metadata": {},
   "source": [
    "---"
   ]
  },
  {
   "cell_type": "markdown",
   "metadata": {},
   "source": [
    "### Amplitude Estimation"
   ]
  },
  {
   "cell_type": "code",
   "execution_count": 11,
   "metadata": {},
   "outputs": [],
   "source": [
    "class qaf_layer(Theorem2):\n",
    "    def __init__(self, w, x, b, d, f):\n",
    "        '''\n",
    "            w, x, b, d : same as Thm1\n",
    "            f(str) : name of function which will be sympified\n",
    "        '''\n",
    "        # print('Before Thm2 Init')\n",
    "        super().__init__(w, x, b, d, f, l = 1)\n",
    "        # print('After Thm2 Init')\n",
    "\n",
    "        self.f = sp.sympify(f) # target f\n",
    "        self.k = -1 # target f의 taylor expansion 중 계수가 0이 아닌 최저 차수\n",
    "        self.theta_list = self.make_theta_list()\n",
    "\n",
    "    def outer_controlled_theorem2(self):\n",
    "        l_0 = self.n + self.d # index of l register\n",
    "\n",
    "        qml.Hadamard(wires=l_0) # Hadamard for l register\n",
    "\n",
    "        qml.Barrier()\n",
    "\n",
    "        qml.ctrl(self.outer_theorem2, control=l_0)()\n",
    "\n",
    "        qml.Barrier()\n",
    "\n",
    "        qml.Hadamard(wires=l_0) # Hadamard for l register\n",
    "\n",
    "    def controlled_theorem2(self):\n",
    "        @qml.qnode(device=self.dev, interface=\"torch\")\n",
    "        def inner_controlled_theorem2():\n",
    "            self.outer_controlled_theorem2()\n",
    "            return qml.probs()\n",
    "        return inner_controlled_theorem2()\n",
    "\n",
    "    def amplitude_estimation(self):\n",
    "        result = self.controlled_theorem2()[0] # get P_0\n",
    "        factorized_inner_product = torch.sqrt(4 * result) - 1\n",
    "        inner_product = factorized_inner_product * (2 ** (self.d / 2))\n",
    "        return inner_product\n",
    "\n",
    "    def activation_estimation(self):\n",
    "        result = self.amplitude_estimation()\n",
    "        return result * self.C_d\n"
   ]
  },
  {
   "cell_type": "markdown",
   "metadata": {},
   "source": [
    "---"
   ]
  },
  {
   "cell_type": "markdown",
   "metadata": {},
   "source": [
    "### QAF Model"
   ]
  },
  {
   "cell_type": "code",
   "execution_count": 12,
   "metadata": {},
   "outputs": [],
   "source": [
    "# list Initiallize\n",
    "x_list = [0.1, -0.2, -0.3, -0.4]\n",
    "w_list = [-0.8, 0.7, 0.9, 0.3]\n",
    "b = 0.5\n",
    "d = 5\n",
    "f = 'sin(z)'\n",
    "\n",
    "args = [x_list, w_list, b, d, f]\n",
    "\n",
    "N_in = len(x_list)\n",
    "z = (np.array(w_list) @ np.array(x_list) + b) / (N_in + 1)\n",
    "\n",
    "target_w = torch.tensor([-0.8, 0.7, 0.9, 0.3])\n",
    "target_b = torch.tensor([0.5])\n",
    "# 'f(wx+b) -> f(target_w * x + target_b)'"
   ]
  },
  {
   "cell_type": "code",
   "execution_count": 13,
   "metadata": {},
   "outputs": [
    {
     "ename": "TypeError",
     "evalue": "object of type 'float' has no len()",
     "output_type": "error",
     "traceback": [
      "\u001b[0;31m---------------------------------------------------------------------------\u001b[0m",
      "\u001b[0;31mTypeError\u001b[0m                                 Traceback (most recent call last)",
      "Cell \u001b[0;32mIn[13], line 1\u001b[0m\n\u001b[0;32m----> 1\u001b[0m test1 \u001b[38;5;241m=\u001b[39m \u001b[43mqaf_layer\u001b[49m\u001b[43m(\u001b[49m\u001b[43mw\u001b[49m\u001b[38;5;241;43m=\u001b[39;49m\u001b[43mw_list\u001b[49m\u001b[43m,\u001b[49m\u001b[43m \u001b[49m\u001b[43mx\u001b[49m\u001b[38;5;241;43m=\u001b[39;49m\u001b[43mx_list\u001b[49m\u001b[43m,\u001b[49m\u001b[43m \u001b[49m\u001b[43mb\u001b[49m\u001b[38;5;241;43m=\u001b[39;49m\u001b[43mb\u001b[49m\u001b[43m,\u001b[49m\u001b[43m \u001b[49m\u001b[43md\u001b[49m\u001b[38;5;241;43m=\u001b[39;49m\u001b[43md\u001b[49m\u001b[43m,\u001b[49m\u001b[43m \u001b[49m\u001b[43mf\u001b[49m\u001b[38;5;241;43m=\u001b[39;49m\u001b[43mf\u001b[49m\u001b[43m)\u001b[49m\n\u001b[1;32m      2\u001b[0m test1\u001b[38;5;241m.\u001b[39mactivation_estimation(), math\u001b[38;5;241m.\u001b[39msin(z)\n",
      "Cell \u001b[0;32mIn[11], line 8\u001b[0m, in \u001b[0;36mqaf_layer.__init__\u001b[0;34m(self, w, x, b, d, f)\u001b[0m\n\u001b[1;32m      3\u001b[0m \u001b[38;5;250m\u001b[39m\u001b[38;5;124;03m'''\u001b[39;00m\n\u001b[1;32m      4\u001b[0m \u001b[38;5;124;03m    w, x, b, d : same as Thm1\u001b[39;00m\n\u001b[1;32m      5\u001b[0m \u001b[38;5;124;03m    f(str) : name of function which will be sympified\u001b[39;00m\n\u001b[1;32m      6\u001b[0m \u001b[38;5;124;03m'''\u001b[39;00m\n\u001b[1;32m      7\u001b[0m \u001b[38;5;66;03m# print('Before Thm2 Init')\u001b[39;00m\n\u001b[0;32m----> 8\u001b[0m \u001b[38;5;28;43msuper\u001b[39;49m\u001b[43m(\u001b[49m\u001b[43m)\u001b[49m\u001b[38;5;241;43m.\u001b[39;49m\u001b[38;5;21;43m__init__\u001b[39;49m\u001b[43m(\u001b[49m\u001b[43mw\u001b[49m\u001b[43m,\u001b[49m\u001b[43m \u001b[49m\u001b[43mx\u001b[49m\u001b[43m,\u001b[49m\u001b[43m \u001b[49m\u001b[43mb\u001b[49m\u001b[43m,\u001b[49m\u001b[43m \u001b[49m\u001b[43md\u001b[49m\u001b[43m,\u001b[49m\u001b[43m \u001b[49m\u001b[43mf\u001b[49m\u001b[43m,\u001b[49m\u001b[43m \u001b[49m\u001b[43ml\u001b[49m\u001b[43m \u001b[49m\u001b[38;5;241;43m=\u001b[39;49m\u001b[43m \u001b[49m\u001b[38;5;241;43m1\u001b[39;49m\u001b[43m)\u001b[49m\n\u001b[1;32m      9\u001b[0m \u001b[38;5;66;03m# print('After Thm2 Init')\u001b[39;00m\n\u001b[1;32m     11\u001b[0m \u001b[38;5;28mself\u001b[39m\u001b[38;5;241m.\u001b[39mf \u001b[38;5;241m=\u001b[39m sp\u001b[38;5;241m.\u001b[39msympify(f) \u001b[38;5;66;03m# target f\u001b[39;00m\n",
      "Cell \u001b[0;32mIn[9], line 9\u001b[0m, in \u001b[0;36mTheorem2.__init__\u001b[0;34m(self, w, x, b, d, f, l)\u001b[0m\n\u001b[1;32m      3\u001b[0m \u001b[38;5;250m\u001b[39m\u001b[38;5;124;03m'''\u001b[39;00m\n\u001b[1;32m      4\u001b[0m \u001b[38;5;124;03m    w, x, b, d : same as Thm1\u001b[39;00m\n\u001b[1;32m      5\u001b[0m \u001b[38;5;124;03m    f(str) : name of function which will be sympified\u001b[39;00m\n\u001b[1;32m      6\u001b[0m \u001b[38;5;124;03m'''\u001b[39;00m\n\u001b[1;32m      8\u001b[0m \u001b[38;5;66;03m# print('Before Thm1 Init')\u001b[39;00m\n\u001b[0;32m----> 9\u001b[0m \u001b[38;5;28;43msuper\u001b[39;49m\u001b[43m(\u001b[49m\u001b[43m)\u001b[49m\u001b[38;5;241;43m.\u001b[39;49m\u001b[38;5;21;43m__init__\u001b[39;49m\u001b[43m(\u001b[49m\u001b[43mw\u001b[49m\u001b[43m,\u001b[49m\u001b[43m \u001b[49m\u001b[43mx\u001b[49m\u001b[43m,\u001b[49m\u001b[43m \u001b[49m\u001b[43mb\u001b[49m\u001b[43m,\u001b[49m\u001b[43m \u001b[49m\u001b[43md\u001b[49m\u001b[43m,\u001b[49m\u001b[43m \u001b[49m\u001b[43ml\u001b[49m\u001b[38;5;241;43m=\u001b[39;49m\u001b[43ml\u001b[49m\u001b[43m)\u001b[49m\n\u001b[1;32m     10\u001b[0m \u001b[38;5;66;03m# print('After Thm1 Init')\u001b[39;00m\n\u001b[1;32m     11\u001b[0m \u001b[38;5;28mself\u001b[39m\u001b[38;5;241m.\u001b[39mf \u001b[38;5;241m=\u001b[39m sp\u001b[38;5;241m.\u001b[39msympify(f) \u001b[38;5;66;03m# target f\u001b[39;00m\n",
      "Cell \u001b[0;32mIn[7], line 12\u001b[0m, in \u001b[0;36mTheorem1.__init__\u001b[0;34m(self, w, x, b, d, l)\u001b[0m\n\u001b[1;32m      5\u001b[0m \u001b[38;5;28;01mdef\u001b[39;00m \u001b[38;5;21m__init__\u001b[39m(\u001b[38;5;28mself\u001b[39m, w, x, b, d, l \u001b[38;5;241m=\u001b[39m \u001b[38;5;241m0\u001b[39m):\n\u001b[1;32m      6\u001b[0m \u001b[38;5;250m    \u001b[39m\u001b[38;5;124;03m'''\u001b[39;00m\n\u001b[1;32m      7\u001b[0m \u001b[38;5;124;03m        w(matrix, tensor) : tensor for weights [row0 : w0, row1 : w1, ...], (output_num x input_num)\u001b[39;00m\n\u001b[1;32m      8\u001b[0m \u001b[38;5;124;03m        x(tensor) : tensor for x(input, list)\u001b[39;00m\n\u001b[1;32m      9\u001b[0m \u001b[38;5;124;03m        b(tensor) : tensor for bias_list\u001b[39;00m\n\u001b[1;32m     10\u001b[0m \u001b[38;5;124;03m        d(int)      : degree for Taylor (polynomial) Expansion\u001b[39;00m\n\u001b[1;32m     11\u001b[0m \u001b[38;5;124;03m    '''\u001b[39;00m\n\u001b[0;32m---> 12\u001b[0m     \u001b[38;5;28msuper\u001b[39m()\u001b[38;5;241m.\u001b[39m\u001b[38;5;21m__init__\u001b[39m(w, x, b, output_num\u001b[38;5;241m=\u001b[39m\u001b[38;5;28;43mlen\u001b[39;49m\u001b[43m(\u001b[49m\u001b[43mb\u001b[49m\u001b[43m)\u001b[49m)\n\u001b[1;32m     13\u001b[0m     \u001b[38;5;28mself\u001b[39m\u001b[38;5;241m.\u001b[39md \u001b[38;5;241m=\u001b[39m d\n\u001b[1;32m     14\u001b[0m     \u001b[38;5;28mself\u001b[39m\u001b[38;5;241m.\u001b[39ml \u001b[38;5;241m=\u001b[39m l\n",
      "\u001b[0;31mTypeError\u001b[0m: object of type 'float' has no len()"
     ]
    }
   ],
   "source": [
    "test1 = qaf_layer(w=w_list, x=x_list, b=b, d=d, f=f)\n",
    "test1.activation_estimation(), math.sin(z)"
   ]
  },
  {
   "cell_type": "code",
   "execution_count": null,
   "metadata": {},
   "outputs": [],
   "source": []
  },
  {
   "cell_type": "code",
   "execution_count": null,
   "metadata": {},
   "outputs": [],
   "source": []
  },
  {
   "cell_type": "code",
   "execution_count": null,
   "metadata": {},
   "outputs": [],
   "source": []
  },
  {
   "cell_type": "code",
   "execution_count": null,
   "metadata": {},
   "outputs": [],
   "source": []
  },
  {
   "cell_type": "code",
   "execution_count": null,
   "metadata": {},
   "outputs": [],
   "source": []
  },
  {
   "cell_type": "code",
   "execution_count": null,
   "metadata": {},
   "outputs": [],
   "source": []
  },
  {
   "cell_type": "code",
   "execution_count": null,
   "metadata": {},
   "outputs": [],
   "source": []
  },
  {
   "cell_type": "code",
   "execution_count": null,
   "metadata": {},
   "outputs": [],
   "source": []
  },
  {
   "cell_type": "code",
   "execution_count": null,
   "metadata": {},
   "outputs": [],
   "source": []
  },
  {
   "cell_type": "code",
   "execution_count": null,
   "metadata": {},
   "outputs": [],
   "source": []
  },
  {
   "cell_type": "code",
   "execution_count": null,
   "metadata": {},
   "outputs": [],
   "source": []
  },
  {
   "cell_type": "code",
   "execution_count": null,
   "metadata": {},
   "outputs": [],
   "source": []
  }
 ],
 "metadata": {
  "kernelspec": {
   "display_name": "qrf",
   "language": "python",
   "name": "python3"
  },
  "language_info": {
   "codemirror_mode": {
    "name": "ipython",
    "version": 3
   },
   "file_extension": ".py",
   "mimetype": "text/x-python",
   "name": "python",
   "nbconvert_exporter": "python",
   "pygments_lexer": "ipython3",
   "version": "3.12.0"
  }
 },
 "nbformat": 4,
 "nbformat_minor": 2
}
